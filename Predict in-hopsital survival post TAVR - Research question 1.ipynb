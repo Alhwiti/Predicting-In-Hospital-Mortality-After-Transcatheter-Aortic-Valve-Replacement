{
 "cells": [
  {
   "cell_type": "markdown",
   "id": "d0a86dcd",
   "metadata": {
    "heading_collapsed": true
   },
   "source": [
    "# Import Packages and libraries"
   ]
  },
  {
   "cell_type": "code",
   "execution_count": null,
   "id": "7e5afaea",
   "metadata": {
    "hidden": true
   },
   "outputs": [],
   "source": [
    "import pandas as pd\n",
    "import numpy as np\n",
    "import sklearn\n",
    "import pycaret\n",
    "import imblearn as im\n",
    "from pandas.api.types import CategoricalDtype\n",
    "from pycaret.classification import *\n",
    "#from imblearn.over_sampling import ADASYN, BorderlineSMOTE, KMeansSMOTE, RandomOverSampler\n",
    "#from imblearn.over_sampling import SMOTE,SMOTENC, SVMSMOTE\n",
    "from imblearn.over_sampling import *\n",
    "from imblearn.under_sampling import *\n",
    "from imblearn.combine import SMOTEENN, SMOTETomek\n",
    "from imblearn.under_sampling import RandomUnderSampler, CondensedNearestNeighbour, EditedNearestNeighbours, RepeatedEditedNearestNeighbours,AllKNN, InstanceHardnessThreshold, NearMiss, NeighbourhoodCleaningRule, OneSidedSelection, TomekLinks, ClusterCentroids\n",
    "\n",
    "import os\n",
    "os.environ[\"GIT_PYTHON_REFRESH\"] = \"quiet\"\n",
    "import git"
   ]
  },
  {
   "cell_type": "markdown",
   "id": "d63ee7d9",
   "metadata": {
    "heading_collapsed": true
   },
   "source": [
    "# Reading the TAVR Data"
   ]
  },
  {
   "cell_type": "code",
   "execution_count": null,
   "id": "27c21e8f",
   "metadata": {
    "hidden": true
   },
   "outputs": [],
   "source": [
    "df = pd.read_csv('Data') # reading the csv containing all the data\n",
    "df.columns = df.columns.str.lower()\n",
    "\n",
    "df.head() # printing the first five rows of the data"
   ]
  },
  {
   "cell_type": "code",
   "execution_count": null,
   "id": "93bb6c23",
   "metadata": {
    "hidden": true
   },
   "outputs": [],
   "source": [
    "#This code shows number of missing data in each variable\n",
    "df.isna() .sum()"
   ]
  },
  {
   "cell_type": "code",
   "execution_count": null,
   "id": "f668416c",
   "metadata": {
    "hidden": true
   },
   "outputs": [],
   "source": []
  },
  {
   "cell_type": "code",
   "execution_count": null,
   "id": "cc85d7f8",
   "metadata": {
    "hidden": true
   },
   "outputs": [],
   "source": [
    "#You can use the next code to remove NA values from your data\n",
    "df = df.dropna(how='any', subset=['column1','column1','column1']) \n",
    "#df = df.dropna(how='any', subset=['race'])"
   ]
  },
  {
   "cell_type": "code",
   "execution_count": null,
   "id": "b78924bf",
   "metadata": {
    "hidden": true
   },
   "outputs": [],
   "source": [
    "#df.info()"
   ]
  },
  {
   "cell_type": "code",
   "execution_count": null,
   "id": "fd1e1878",
   "metadata": {
    "hidden": true
   },
   "outputs": [],
   "source": [
    "#df.shape"
   ]
  },
  {
   "cell_type": "code",
   "execution_count": null,
   "id": "48db07de",
   "metadata": {
    "hidden": true
   },
   "outputs": [],
   "source": [
    "#Here you can drop the unwanted columns out from your dataset\n",
    "df.drop(df.columns[[1,2,16,17,19,22]],axis=1, inplace=True) #All 45 Al\n",
    "#df.info()"
   ]
  },
  {
   "cell_type": "code",
   "execution_count": null,
   "id": "683a90e2",
   "metadata": {
    "hidden": true
   },
   "outputs": [],
   "source": [
    "#df.shape"
   ]
  },
  {
   "cell_type": "code",
   "execution_count": null,
   "id": "2b2ad882",
   "metadata": {
    "hidden": true
   },
   "outputs": [],
   "source": [
    "# converting all columns of type object to categorical\n",
    "df.loc[:, df.dtypes == 'object'] =\\\n",
    "    df.select_dtypes(['object'])\\\n",
    "    .apply(lambda x: x.astype('category'))"
   ]
  },
  {
   "cell_type": "markdown",
   "id": "460e8f43",
   "metadata": {},
   "source": [
    "# Research question 1"
   ]
  },
  {
   "cell_type": "markdown",
   "id": "da8ee078",
   "metadata": {
    "heading_collapsed": true
   },
   "source": [
    "## RandomOverSampler"
   ]
  },
  {
   "cell_type": "code",
   "execution_count": null,
   "id": "8ace80d1",
   "metadata": {
    "hidden": true
   },
   "outputs": [],
   "source": [
    "ros = RandomOverSampler(sampling_strategy='minority')\n",
    "ros_setup = setup(df, target = 'died', train_size = 0.8, preprocess = True, imputation_type = 'iterative', categorical_imputation = 'constant',\n",
    "                      handle_unknown_categorical = True, fix_imbalance=True, fix_imbalance_method=ros, fold_strategy = 'stratifiedkfold', fold = 5, n_jobs = -1,\n",
    "                      session_id=2022, experiment_name='tavr_ros', log_experiment=True ,normalize = True, normalize_method ='minmax', feature_selection= True, remove_multicollinearity= True)"
   ]
  },
  {
   "cell_type": "code",
   "execution_count": null,
   "id": "04dc9917",
   "metadata": {
    "hidden": true
   },
   "outputs": [],
   "source": [
    "# adding specificity and balanced accuracy to the computed metrics\n",
    "add_metric('Spec', 'Spec.', im.metrics.specificity_score)\n",
    "add_metric('Balanced Accuracy', 'Balanced Accuracy', sklearn.metrics.balanced_accuracy_score)"
   ]
  },
  {
   "cell_type": "code",
   "execution_count": null,
   "id": "acf8795e",
   "metadata": {
    "hidden": true
   },
   "outputs": [],
   "source": [
    "#best_models_ros = compare_models(sort = 'Balanced Accuracy', n_select = 5, include = ['lr', 'lda','gbc','lightgbm','catboost'])\n",
    "#best = compare_models(sort = 'Balanced Accuracy')"
   ]
  },
  {
   "cell_type": "code",
   "execution_count": null,
   "id": "9cf030a1",
   "metadata": {
    "hidden": true
   },
   "outputs": [],
   "source": [
    " #check feature importance\n",
    "#plot_model(best_models_ros, plot = 'feature')"
   ]
  },
  {
   "cell_type": "code",
   "execution_count": null,
   "id": "3099548d",
   "metadata": {
    "hidden": true
   },
   "outputs": [],
   "source": [
    "#Defult "
   ]
  },
  {
   "cell_type": "code",
   "execution_count": null,
   "id": "f9c7750f",
   "metadata": {
    "hidden": true
   },
   "outputs": [],
   "source": [
    "#print(lr)"
   ]
  },
  {
   "cell_type": "code",
   "execution_count": null,
   "id": "3f9174e0",
   "metadata": {
    "hidden": true
   },
   "outputs": [],
   "source": [
    "#print(lda)"
   ]
  },
  {
   "cell_type": "code",
   "execution_count": null,
   "id": "bcf931fc",
   "metadata": {
    "hidden": true
   },
   "outputs": [],
   "source": [
    "#print(gbc)"
   ]
  },
  {
   "cell_type": "code",
   "execution_count": null,
   "id": "b52af0d6",
   "metadata": {
    "hidden": true
   },
   "outputs": [],
   "source": [
    "#print(catboost)"
   ]
  },
  {
   "cell_type": "code",
   "execution_count": null,
   "id": "6f0ca1ec",
   "metadata": {
    "hidden": true
   },
   "outputs": [],
   "source": [
    "#print(lightgbm)"
   ]
  },
  {
   "cell_type": "markdown",
   "id": "0f0489a8",
   "metadata": {
    "heading_collapsed": true,
    "hidden": true
   },
   "source": [
    "### Logistic Regression (lr)"
   ]
  },
  {
   "cell_type": "code",
   "execution_count": null,
   "id": "7a69941f",
   "metadata": {
    "hidden": true
   },
   "outputs": [],
   "source": [
    "lr = create_model('lr')"
   ]
  },
  {
   "cell_type": "code",
   "execution_count": null,
   "id": "fe92d2b5",
   "metadata": {
    "hidden": true
   },
   "outputs": [],
   "source": [
    "#Tune a Model\n",
    "tuned_lr = tune_model(lr,optimize = 'Balanced Accuracy')"
   ]
  },
  {
   "cell_type": "code",
   "execution_count": null,
   "id": "00952138",
   "metadata": {
    "hidden": true
   },
   "outputs": [],
   "source": [
    "#AUC Plot\n",
    "#plot_model(tuned_lr, plot = 'auc')\n",
    "#Precision-Recall Curve\n",
    "#plot_model(tuned_lr, plot = 'pr')\n",
    "# Feature Importance Plot\n",
    "#plot_model(tuned_lr, plot='feature')\n",
    "# Confusion Matrix\n",
    "#plot_model(tuned_lr, plot = 'confusion_matrix')\n",
    "\n",
    "#evaluate_model(tuned_lr)"
   ]
  },
  {
   "cell_type": "code",
   "execution_count": null,
   "id": "41efb7e5",
   "metadata": {
    "hidden": true
   },
   "outputs": [],
   "source": [
    "#Predict on test / hold-out Sample\n",
    "predict_model(tuned_lr);"
   ]
  },
  {
   "cell_type": "code",
   "execution_count": null,
   "id": "5d0997e4",
   "metadata": {
    "hidden": true
   },
   "outputs": [],
   "source": [
    "predict_model(lr);"
   ]
  },
  {
   "cell_type": "code",
   "execution_count": null,
   "id": "7f9692b0",
   "metadata": {
    "hidden": true
   },
   "outputs": [],
   "source": [
    "# Confusion Matrix\n",
    "#plot_model(tuned_lr, plot = 'confusion_matrix')"
   ]
  },
  {
   "cell_type": "code",
   "execution_count": null,
   "id": "adde69a4",
   "metadata": {
    "hidden": true
   },
   "outputs": [],
   "source": [
    "#plot_model(tuned_lr, plot='feature_all')"
   ]
  },
  {
   "cell_type": "code",
   "execution_count": null,
   "id": "8b88c3e3",
   "metadata": {
    "hidden": true
   },
   "outputs": [],
   "source": [
    "#pd.DataFrame({'Feature': get_config('X_train').columns, 'Value' : abs(lr.coef_[0])}).sort_values(by='Value', ascending=False)\n"
   ]
  },
  {
   "cell_type": "code",
   "execution_count": null,
   "id": "ed101fee",
   "metadata": {
    "hidden": true
   },
   "outputs": [],
   "source": [
    "#plot_model(lr, plot = 'threshold')\n"
   ]
  },
  {
   "cell_type": "code",
   "execution_count": null,
   "id": "eb2c0d66",
   "metadata": {
    "hidden": true
   },
   "outputs": [],
   "source": [
    "#plot_model(tuned_lr,plot='boundary')"
   ]
  },
  {
   "cell_type": "code",
   "execution_count": null,
   "id": "1040b498",
   "metadata": {
    "hidden": true
   },
   "outputs": [],
   "source": [
    "#print (lr.coef_)"
   ]
  },
  {
   "cell_type": "code",
   "execution_count": null,
   "id": "02ccdb91",
   "metadata": {
    "hidden": true
   },
   "outputs": [],
   "source": [
    "#print (lr.intercept_)"
   ]
  },
  {
   "cell_type": "code",
   "execution_count": null,
   "id": "485a62ef",
   "metadata": {
    "hidden": true
   },
   "outputs": [],
   "source": [
    "#evaluate_model(tuned_lr)"
   ]
  },
  {
   "cell_type": "code",
   "execution_count": null,
   "id": "8d960aae",
   "metadata": {
    "hidden": true
   },
   "outputs": [],
   "source": [
    "#interpret_model(lr, plot = 'reason', observation = 12)"
   ]
  },
  {
   "cell_type": "code",
   "execution_count": null,
   "id": "41894b79",
   "metadata": {
    "hidden": true
   },
   "outputs": [],
   "source": [
    "#print(tuned_lr.get_params())"
   ]
  },
  {
   "cell_type": "markdown",
   "id": "a780bc9f",
   "metadata": {
    "heading_collapsed": true,
    "hidden": true
   },
   "source": [
    "### Linear Discriminant Analysis(lda)"
   ]
  },
  {
   "cell_type": "code",
   "execution_count": null,
   "id": "6113de53",
   "metadata": {
    "hidden": true
   },
   "outputs": [],
   "source": [
    "lda = create_model('lda')"
   ]
  },
  {
   "cell_type": "code",
   "execution_count": null,
   "id": "987e0ddd",
   "metadata": {
    "hidden": true
   },
   "outputs": [],
   "source": [
    "#Tune a Model\n",
    "tuned_lda = tune_model(lda,optimize = 'Balanced Accuracy')"
   ]
  },
  {
   "cell_type": "code",
   "execution_count": null,
   "id": "11e384b4",
   "metadata": {
    "hidden": true
   },
   "outputs": [],
   "source": [
    "#AUC Plot\n",
    "#plot_model(tuned_lda, plot = 'auc')\n",
    "#Precision-Recall Curve\n",
    "#plot_model(tuned_lda, plot = 'pr')\n",
    "# Feature Importance Plot\n",
    "#plot_model(tuned_lda, plot='feature')\n",
    "# Confusion Matrix\n",
    "#plot_model(tuned_lda, plot = 'confusion_matrix')\n",
    "\n",
    "#evaluate_model(tuned_lda)"
   ]
  },
  {
   "cell_type": "code",
   "execution_count": null,
   "id": "00a3bba5",
   "metadata": {
    "hidden": true
   },
   "outputs": [],
   "source": [
    "#Predict on test / hold-out Sample\n",
    "predict_model(tuned_lda);"
   ]
  },
  {
   "cell_type": "code",
   "execution_count": null,
   "id": "5b43b0fc",
   "metadata": {
    "hidden": true
   },
   "outputs": [],
   "source": [
    "predict_model(lda);"
   ]
  },
  {
   "cell_type": "code",
   "execution_count": null,
   "id": "6afbeefd",
   "metadata": {
    "hidden": true,
    "scrolled": true
   },
   "outputs": [],
   "source": [
    "# Confusion Matrix\n",
    "#plot_model(lda, plot = 'confusion_matrix')"
   ]
  },
  {
   "cell_type": "code",
   "execution_count": null,
   "id": "1e86da93",
   "metadata": {
    "hidden": true
   },
   "outputs": [],
   "source": [
    "#plot_model(lda, plot='feature_all')"
   ]
  },
  {
   "cell_type": "code",
   "execution_count": null,
   "id": "589ccac1",
   "metadata": {
    "hidden": true
   },
   "outputs": [],
   "source": [
    "#pd.DataFrame({'Feature': get_config('X_train').columns, 'Value' : abs(lda.coef_[0])}).sort_values(by='Value', ascending=False)\n"
   ]
  },
  {
   "cell_type": "code",
   "execution_count": null,
   "id": "5828cb7f",
   "metadata": {
    "hidden": true
   },
   "outputs": [],
   "source": [
    "#plot_model(tuned_lda,plot='boundary')"
   ]
  },
  {
   "cell_type": "code",
   "execution_count": null,
   "id": "80201b8a",
   "metadata": {
    "hidden": true
   },
   "outputs": [],
   "source": [
    "#print(tuned_lda.get_params())"
   ]
  },
  {
   "cell_type": "markdown",
   "id": "dd52e29b",
   "metadata": {
    "heading_collapsed": true,
    "hidden": true
   },
   "source": [
    "### Gradient Boosting Classifier (gbc)"
   ]
  },
  {
   "cell_type": "code",
   "execution_count": null,
   "id": "3ac504d6",
   "metadata": {
    "hidden": true
   },
   "outputs": [],
   "source": [
    "gbc = create_model('gbc',ccp_alpha=0.0, criterion='friedman_mse', init=None,\n",
    "                           learning_rate=0.1, loss='deviance', max_depth=3,\n",
    "                           max_features=None, max_leaf_nodes=None,\n",
    "                           min_impurity_decrease=0.0, min_impurity_split=None,\n",
    "                           min_samples_leaf=1, min_samples_split=2,\n",
    "                           min_weight_fraction_leaf=0.0, n_estimators=200,\n",
    "                           n_iter_no_change=None, presort='deprecated', subsample=1.0, tol=0.0001,\n",
    "                           validation_fraction=0.1,warm_start=False)"
   ]
  },
  {
   "cell_type": "code",
   "execution_count": null,
   "id": "5bca86b9",
   "metadata": {
    "hidden": true
   },
   "outputs": [],
   "source": [
    "#Tune a Model\n",
    "tuned_gbc = tune_model(gbc,optimize = 'Balanced Accuracy')"
   ]
  },
  {
   "cell_type": "code",
   "execution_count": null,
   "id": "1ec67b0a",
   "metadata": {
    "hidden": true
   },
   "outputs": [],
   "source": [
    "#AUC Plot\n",
    "#plot_model(tuned_gbc, plot = 'auc')\n",
    "#Precision-Recall Curve\n",
    "#plot_model(tuned_gbc, plot = 'pr')\n",
    "# Feature Importance Plot\n",
    "#plot_model(tuned_gbc, plot='feature')\n",
    "# Confusion Matrix\n",
    "#plot_model(tuned_gbc, plot = 'confusion_matrix')\n",
    "\n",
    "#evaluate_model(tuned_gbc)"
   ]
  },
  {
   "cell_type": "code",
   "execution_count": null,
   "id": "6f7ab7b0",
   "metadata": {
    "hidden": true
   },
   "outputs": [],
   "source": [
    "#Predict on test / hold-out Sample\n",
    "predict_model(tuned_gbc);"
   ]
  },
  {
   "cell_type": "code",
   "execution_count": null,
   "id": "b23fe8a8",
   "metadata": {
    "hidden": true
   },
   "outputs": [],
   "source": [
    "predict_model(gbc);"
   ]
  },
  {
   "cell_type": "code",
   "execution_count": null,
   "id": "753b6b5c",
   "metadata": {
    "hidden": true,
    "scrolled": true
   },
   "outputs": [],
   "source": [
    "# Confusion Matrix\n",
    "#plot_model(tuned_gbc, plot = 'confusion_matrix')"
   ]
  },
  {
   "cell_type": "code",
   "execution_count": null,
   "id": "6f308e84",
   "metadata": {
    "hidden": true
   },
   "outputs": [],
   "source": [
    "#plot_model(tuned_gbc, plot='feature_all')"
   ]
  },
  {
   "cell_type": "code",
   "execution_count": null,
   "id": "e9a406ea",
   "metadata": {
    "hidden": true
   },
   "outputs": [],
   "source": [
    "#tuned_gbc.predict_proba(test_data)"
   ]
  },
  {
   "cell_type": "code",
   "execution_count": null,
   "id": "989f0b42",
   "metadata": {
    "hidden": true
   },
   "outputs": [],
   "source": [
    "#pd.DataFrame({'Feature': get_config('X_train').columns, 'Value' : abs(tuned_gbc.coef_[0])}).sort_values(by='Value', ascending=False)\n"
   ]
  },
  {
   "cell_type": "code",
   "execution_count": null,
   "id": "2fc327d2",
   "metadata": {
    "hidden": true
   },
   "outputs": [],
   "source": [
    "#plot_model(tuned_gbc,plot='boundary')"
   ]
  },
  {
   "cell_type": "code",
   "execution_count": null,
   "id": "41d2a2ea",
   "metadata": {
    "hidden": true
   },
   "outputs": [],
   "source": [
    "#print(tuned_gbc.get_params())"
   ]
  },
  {
   "cell_type": "markdown",
   "id": "8ec13765",
   "metadata": {
    "heading_collapsed": true,
    "hidden": true
   },
   "source": [
    "### CatBoost Classifier (catboost)"
   ]
  },
  {
   "cell_type": "code",
   "execution_count": null,
   "id": "864f3ad0",
   "metadata": {
    "hidden": true
   },
   "outputs": [],
   "source": [
    "#catboost = create_model('catboost',class_weights={0:6, 1:9},max_depth=3)\n",
    "catboost = create_model('catboost')"
   ]
  },
  {
   "cell_type": "code",
   "execution_count": null,
   "id": "090419f1",
   "metadata": {
    "hidden": true
   },
   "outputs": [],
   "source": [
    "#Tune a Model\n",
    "tuned_catboost = tune_model(catboost,optimize = 'Balanced Accuracy')"
   ]
  },
  {
   "cell_type": "code",
   "execution_count": null,
   "id": "629af742",
   "metadata": {
    "hidden": true
   },
   "outputs": [],
   "source": [
    "#AUC Plot\n",
    "plot_model(tuned_catboost, plot = 'auc')\n",
    "#Precision-Recall Curve\n",
    "plot_model(tuned_catboost, plot = 'pr')\n",
    "# Feature Importance Plot\n",
    "plot_model(tuned_catboost, plot='feature')\n",
    "# Confusion Matrix\n",
    "plot_model(tuned_catboost, plot = 'confusion_matrix')\n",
    "\n",
    "evaluate_model(tuned_catboost)"
   ]
  },
  {
   "cell_type": "code",
   "execution_count": null,
   "id": "54161290",
   "metadata": {
    "hidden": true
   },
   "outputs": [],
   "source": [
    "#Predict on test / hold-out Sample\n",
    "predict_model(tuned_catboost);"
   ]
  },
  {
   "cell_type": "code",
   "execution_count": null,
   "id": "392fafea",
   "metadata": {
    "hidden": true
   },
   "outputs": [],
   "source": [
    "predict_model(catboost);"
   ]
  },
  {
   "cell_type": "code",
   "execution_count": null,
   "id": "f99d1876",
   "metadata": {
    "hidden": true
   },
   "outputs": [],
   "source": [
    "# Confusion Matrix\n",
    "#plot_model(catboost, plot = 'confusion_matrix')"
   ]
  },
  {
   "cell_type": "code",
   "execution_count": null,
   "id": "fbdddeda",
   "metadata": {
    "hidden": true
   },
   "outputs": [],
   "source": [
    "#plot_model(catboost, plot='feature_all')"
   ]
  },
  {
   "cell_type": "code",
   "execution_count": null,
   "id": "886ceb27",
   "metadata": {
    "hidden": true
   },
   "outputs": [],
   "source": [
    "#pd.DataFrame({'Feature': get_config('X_train').columns, 'Value' : abs(catboost.coef_[0])}).sort_values(by='Value', ascending=False)\n"
   ]
  },
  {
   "cell_type": "code",
   "execution_count": null,
   "id": "50a3e737",
   "metadata": {
    "hidden": true
   },
   "outputs": [],
   "source": [
    "#plot_model(catboost,plot='boundary')"
   ]
  },
  {
   "cell_type": "code",
   "execution_count": null,
   "id": "6dee4de2",
   "metadata": {
    "hidden": true
   },
   "outputs": [],
   "source": [
    "#print(tuned_catboost.get_params())"
   ]
  },
  {
   "cell_type": "markdown",
   "id": "0a8c7d82",
   "metadata": {
    "heading_collapsed": true,
    "hidden": true
   },
   "source": [
    "### Light Gradient Boosting Machine (lightgbm)"
   ]
  },
  {
   "cell_type": "code",
   "execution_count": null,
   "id": "ef7e38ab",
   "metadata": {
    "hidden": true
   },
   "outputs": [],
   "source": [
    "lightgbm = create_model('lightgbm',class_weight={0:6, 1:9},max_depth=3,num_leaves=80)"
   ]
  },
  {
   "cell_type": "code",
   "execution_count": null,
   "id": "1e3af32b",
   "metadata": {
    "hidden": true
   },
   "outputs": [],
   "source": [
    "#Tune a Model\n",
    "tuned_lightgbm = tune_model(lightgbm,optimize = 'Balanced Accuracy')"
   ]
  },
  {
   "cell_type": "code",
   "execution_count": null,
   "id": "be1baad7",
   "metadata": {
    "hidden": true
   },
   "outputs": [],
   "source": [
    "#AUC Plot\n",
    "#plot_model(tuned_lightgbm, plot = 'auc')\n",
    "#Precision-Recall Curve\n",
    "#plot_model(tuned_lightgbm, plot = 'pr')\n",
    "# Feature Importance Plot\n",
    "#plot_model(tuned_lightgbm, plot='feature')\n",
    "# Confusion Matrix\n",
    "#plot_model(tuned_lightgbm, plot = 'confusion_matrix')"
   ]
  },
  {
   "cell_type": "code",
   "execution_count": null,
   "id": "cb759a59",
   "metadata": {
    "hidden": true
   },
   "outputs": [],
   "source": [
    "#evaluate_model(tuned_lightgbm)"
   ]
  },
  {
   "cell_type": "code",
   "execution_count": null,
   "id": "7c0746c7",
   "metadata": {
    "hidden": true
   },
   "outputs": [],
   "source": [
    "#Predict on test / hold-out Sample\n",
    "predict_model(tuned_lightgbm);"
   ]
  },
  {
   "cell_type": "code",
   "execution_count": null,
   "id": "f83e677d",
   "metadata": {
    "hidden": true
   },
   "outputs": [],
   "source": [
    "predict_model(lightgbm);"
   ]
  },
  {
   "cell_type": "code",
   "execution_count": null,
   "id": "d0d5b330",
   "metadata": {
    "hidden": true
   },
   "outputs": [],
   "source": [
    "# Confusion Matrix\n",
    "#plot_model(tuned_lightgbm, plot = 'confusion_matrix')"
   ]
  },
  {
   "cell_type": "code",
   "execution_count": null,
   "id": "8e086478",
   "metadata": {
    "hidden": true
   },
   "outputs": [],
   "source": [
    "#plot_model(tuned_lightgbm, plot='feature_all')"
   ]
  },
  {
   "cell_type": "code",
   "execution_count": null,
   "id": "4f8e240e",
   "metadata": {
    "hidden": true
   },
   "outputs": [],
   "source": [
    "#pd.DataFrame({'Feature': get_config('X_train').columns, 'Value' : abs(lightgbm.coef_[0])}).sort_values(by='Value', ascending=False)\n"
   ]
  },
  {
   "cell_type": "code",
   "execution_count": null,
   "id": "091df9d8",
   "metadata": {
    "hidden": true
   },
   "outputs": [],
   "source": [
    "#plot_model(tuned_lightgbm,plot='boundary')"
   ]
  },
  {
   "cell_type": "code",
   "execution_count": null,
   "id": "ce5062d1",
   "metadata": {
    "hidden": true
   },
   "outputs": [],
   "source": [
    "#print(tuned_lightgbm.get_params())"
   ]
  },
  {
   "cell_type": "markdown",
   "id": "ed81225e",
   "metadata": {
    "heading_collapsed": true,
    "hidden": true
   },
   "source": [
    "### xgboost"
   ]
  },
  {
   "cell_type": "code",
   "execution_count": null,
   "id": "bb7d1fd7",
   "metadata": {
    "hidden": true
   },
   "outputs": [],
   "source": [
    "xgboost = create_model('xgboost')"
   ]
  },
  {
   "cell_type": "code",
   "execution_count": null,
   "id": "f6a7deeb",
   "metadata": {
    "hidden": true
   },
   "outputs": [],
   "source": [
    "#Tune a Model\n",
    "tuned_xgboost = tune_model(xgboost,optimize = 'Balanced Accuracy')"
   ]
  },
  {
   "cell_type": "code",
   "execution_count": null,
   "id": "ed6cf11a",
   "metadata": {
    "hidden": true
   },
   "outputs": [],
   "source": [
    "#Predict on test / hold-out Sample\n",
    "predict_model(tuned_xgboost);"
   ]
  },
  {
   "cell_type": "code",
   "execution_count": null,
   "id": "7af65432",
   "metadata": {
    "hidden": true
   },
   "outputs": [],
   "source": [
    "predict_model(xgboost);"
   ]
  },
  {
   "cell_type": "markdown",
   "id": "bbeea181",
   "metadata": {
    "heading_collapsed": true,
    "hidden": true
   },
   "source": [
    "### ada"
   ]
  },
  {
   "cell_type": "code",
   "execution_count": null,
   "id": "ca97932a",
   "metadata": {
    "hidden": true
   },
   "outputs": [],
   "source": [
    "ada = create_model('ada')"
   ]
  },
  {
   "cell_type": "code",
   "execution_count": null,
   "id": "26ed3db2",
   "metadata": {
    "hidden": true
   },
   "outputs": [],
   "source": [
    "#Tune a Model\n",
    "tuned_ada = tune_model(ada,optimize = 'Balanced Accuracy')"
   ]
  },
  {
   "cell_type": "code",
   "execution_count": null,
   "id": "5bb4b47b",
   "metadata": {
    "hidden": true
   },
   "outputs": [],
   "source": [
    "#Predict on test / hold-out Sample\n",
    "predict_model(tuned_ada);"
   ]
  },
  {
   "cell_type": "code",
   "execution_count": null,
   "id": "d136bb13",
   "metadata": {
    "hidden": true
   },
   "outputs": [],
   "source": [
    "predict_model(ada);"
   ]
  },
  {
   "cell_type": "code",
   "execution_count": null,
   "id": "b0f7f590",
   "metadata": {
    "hidden": true
   },
   "outputs": [],
   "source": []
  },
  {
   "cell_type": "markdown",
   "id": "4eb2192d",
   "metadata": {
    "heading_collapsed": true,
    "hidden": true
   },
   "source": [
    "### nb"
   ]
  },
  {
   "cell_type": "code",
   "execution_count": null,
   "id": "e2655084",
   "metadata": {
    "hidden": true
   },
   "outputs": [],
   "source": [
    "nb = create_model('nb')"
   ]
  },
  {
   "cell_type": "code",
   "execution_count": null,
   "id": "f33982da",
   "metadata": {
    "hidden": true
   },
   "outputs": [],
   "source": [
    "#Tune a Model\n",
    "tuned_nb = tune_model(nb,optimize = 'Balanced Accuracy')"
   ]
  },
  {
   "cell_type": "code",
   "execution_count": null,
   "id": "1ced4885",
   "metadata": {
    "hidden": true
   },
   "outputs": [],
   "source": [
    "#Predict on test / hold-out Sample\n",
    "predict_model(tuned_nb);"
   ]
  },
  {
   "cell_type": "code",
   "execution_count": null,
   "id": "e3395f5d",
   "metadata": {
    "hidden": true
   },
   "outputs": [],
   "source": [
    "predict_model(nb);"
   ]
  },
  {
   "cell_type": "code",
   "execution_count": null,
   "id": "6b5ebf40",
   "metadata": {
    "hidden": true
   },
   "outputs": [],
   "source": []
  },
  {
   "cell_type": "markdown",
   "id": "5578c0f9",
   "metadata": {
    "heading_collapsed": true,
    "hidden": true
   },
   "source": [
    "### knn"
   ]
  },
  {
   "cell_type": "code",
   "execution_count": null,
   "id": "7d81a724",
   "metadata": {
    "hidden": true
   },
   "outputs": [],
   "source": [
    "knn = create_model('knn')"
   ]
  },
  {
   "cell_type": "code",
   "execution_count": null,
   "id": "40086364",
   "metadata": {
    "hidden": true
   },
   "outputs": [],
   "source": [
    "#Tune a Model\n",
    "tuned_knn = tune_model(knn,optimize = 'Balanced Accuracy')"
   ]
  },
  {
   "cell_type": "code",
   "execution_count": null,
   "id": "571b3668",
   "metadata": {
    "hidden": true
   },
   "outputs": [],
   "source": [
    "#Predict on test / hold-out Sample\n",
    "predict_model(tuned_knn);"
   ]
  },
  {
   "cell_type": "code",
   "execution_count": null,
   "id": "91c5b38c",
   "metadata": {
    "hidden": true
   },
   "outputs": [],
   "source": [
    "predict_model(knn);"
   ]
  },
  {
   "cell_type": "code",
   "execution_count": null,
   "id": "cd3f04ad",
   "metadata": {
    "hidden": true
   },
   "outputs": [],
   "source": []
  },
  {
   "cell_type": "markdown",
   "id": "17fdc9f2",
   "metadata": {
    "heading_collapsed": true,
    "hidden": true
   },
   "source": [
    "### dt"
   ]
  },
  {
   "cell_type": "code",
   "execution_count": null,
   "id": "4e4f1b70",
   "metadata": {
    "hidden": true
   },
   "outputs": [],
   "source": [
    "dt = create_model('dt')"
   ]
  },
  {
   "cell_type": "code",
   "execution_count": null,
   "id": "b855ed9d",
   "metadata": {
    "hidden": true
   },
   "outputs": [],
   "source": [
    "#Tune a Model\n",
    "tuned_dt = tune_model(dt,optimize = 'Balanced Accuracy')"
   ]
  },
  {
   "cell_type": "code",
   "execution_count": null,
   "id": "43097508",
   "metadata": {
    "hidden": true
   },
   "outputs": [],
   "source": [
    "#Predict on test / hold-out Sample\n",
    "predict_model(tuned_dt);"
   ]
  },
  {
   "cell_type": "code",
   "execution_count": null,
   "id": "1358f721",
   "metadata": {
    "hidden": true
   },
   "outputs": [],
   "source": [
    "predict_model(dt);"
   ]
  },
  {
   "cell_type": "markdown",
   "id": "7a80f615",
   "metadata": {
    "heading_collapsed": true,
    "hidden": true
   },
   "source": [
    "### rf"
   ]
  },
  {
   "cell_type": "code",
   "execution_count": null,
   "id": "61af6f1e",
   "metadata": {
    "hidden": true
   },
   "outputs": [],
   "source": [
    "rf = create_model('rf')"
   ]
  },
  {
   "cell_type": "code",
   "execution_count": null,
   "id": "c8f4f0fd",
   "metadata": {
    "hidden": true
   },
   "outputs": [],
   "source": [
    "#Tune a Model\n",
    "tuned_rf = tune_model(rf,optimize = 'Balanced Accuracy')"
   ]
  },
  {
   "cell_type": "code",
   "execution_count": null,
   "id": "a6b55330",
   "metadata": {
    "hidden": true
   },
   "outputs": [],
   "source": [
    "#Predict on test / hold-out Sample\n",
    "predict_model(tuned_rf);"
   ]
  },
  {
   "cell_type": "code",
   "execution_count": null,
   "id": "54cca6ef",
   "metadata": {
    "hidden": true
   },
   "outputs": [],
   "source": [
    "predict_model(rf);"
   ]
  },
  {
   "cell_type": "code",
   "execution_count": null,
   "id": "9a6695e0",
   "metadata": {
    "hidden": true
   },
   "outputs": [],
   "source": []
  },
  {
   "cell_type": "markdown",
   "id": "d4079300",
   "metadata": {
    "heading_collapsed": true,
    "hidden": true
   },
   "source": [
    "### et"
   ]
  },
  {
   "cell_type": "code",
   "execution_count": null,
   "id": "009ae77b",
   "metadata": {
    "hidden": true
   },
   "outputs": [],
   "source": [
    "et = create_model('et')"
   ]
  },
  {
   "cell_type": "code",
   "execution_count": null,
   "id": "e1d33542",
   "metadata": {
    "hidden": true
   },
   "outputs": [],
   "source": [
    "#Tune a Model\n",
    "tuned_et = tune_model(et,optimize = 'Balanced Accuracy')"
   ]
  },
  {
   "cell_type": "code",
   "execution_count": null,
   "id": "9585b73e",
   "metadata": {
    "hidden": true
   },
   "outputs": [],
   "source": [
    "#Predict on test / hold-out Sample\n",
    "predict_model(tuned_et);"
   ]
  },
  {
   "cell_type": "code",
   "execution_count": null,
   "id": "a5e846b5",
   "metadata": {
    "hidden": true
   },
   "outputs": [],
   "source": [
    "predict_model(et);"
   ]
  },
  {
   "cell_type": "markdown",
   "id": "a8ba8d2a",
   "metadata": {
    "hidden": true
   },
   "source": [
    "### qda"
   ]
  },
  {
   "cell_type": "code",
   "execution_count": null,
   "id": "a633fef5",
   "metadata": {
    "hidden": true
   },
   "outputs": [],
   "source": [
    "qda = create_model('qda')"
   ]
  },
  {
   "cell_type": "code",
   "execution_count": null,
   "id": "0d41e09c",
   "metadata": {
    "hidden": true
   },
   "outputs": [],
   "source": [
    "#Tune a Model\n",
    "tuned_qda = tune_model(qda,optimize = 'Balanced Accuracy')"
   ]
  },
  {
   "cell_type": "code",
   "execution_count": null,
   "id": "f1106ab8",
   "metadata": {
    "hidden": true
   },
   "outputs": [],
   "source": [
    "#Predict on test / hold-out Sample\n",
    "predict_model(tuned_qda);"
   ]
  },
  {
   "cell_type": "code",
   "execution_count": null,
   "id": "f35aa9d7",
   "metadata": {
    "hidden": true
   },
   "outputs": [],
   "source": [
    "predict_model(qda);"
   ]
  }
 ],
 "metadata": {
  "kernelspec": {
   "display_name": " theyabpycaret",
   "language": "python",
   "name": "theyabpycaret"
  },
  "language_info": {
   "codemirror_mode": {
    "name": "ipython",
    "version": 3
   },
   "file_extension": ".py",
   "mimetype": "text/x-python",
   "name": "python",
   "nbconvert_exporter": "python",
   "pygments_lexer": "ipython3",
   "version": "3.8.12"
  },
  "toc": {
   "base_numbering": 1,
   "nav_menu": {},
   "number_sections": true,
   "sideBar": true,
   "skip_h1_title": false,
   "title_cell": "Table of Contents",
   "title_sidebar": "Contents",
   "toc_cell": false,
   "toc_position": {
    "height": "calc(100% - 180px)",
    "left": "10px",
    "top": "150px",
    "width": "211.719px"
   },
   "toc_section_display": true,
   "toc_window_display": false
  }
 },
 "nbformat": 4,
 "nbformat_minor": 5
}
