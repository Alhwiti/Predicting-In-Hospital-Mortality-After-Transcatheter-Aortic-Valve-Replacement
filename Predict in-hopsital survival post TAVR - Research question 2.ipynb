{
 "cells": [
  {
   "cell_type": "markdown",
   "id": "d0a86dcd",
   "metadata": {
    "heading_collapsed": true
   },
   "source": [
    "# Import Packages and libraries"
   ]
  },
  {
   "cell_type": "code",
   "execution_count": null,
   "id": "7e5afaea",
   "metadata": {
    "hidden": true
   },
   "outputs": [],
   "source": [
    "import pandas as pd\n",
    "import numpy as np\n",
    "import sklearn\n",
    "import pycaret\n",
    "import imblearn as im\n",
    "from pandas.api.types import CategoricalDtype\n",
    "from pycaret.classification import *\n",
    "#from imblearn.over_sampling import ADASYN, BorderlineSMOTE, KMeansSMOTE, RandomOverSampler\n",
    "#from imblearn.over_sampling import SMOTE,SMOTENC, SVMSMOTE\n",
    "from imblearn.over_sampling import *\n",
    "from imblearn.under_sampling import *\n",
    "from imblearn.combine import SMOTEENN, SMOTETomek\n",
    "from imblearn.under_sampling import RandomUnderSampler, CondensedNearestNeighbour, EditedNearestNeighbours, RepeatedEditedNearestNeighbours,AllKNN, InstanceHardnessThreshold, NearMiss, NeighbourhoodCleaningRule, OneSidedSelection, TomekLinks, ClusterCentroids\n",
    "import matplotlib.pyplot as plt\n",
    "import seaborn as sns\n",
    "plt.style.use('seaborn')\n",
    "from sklearn.metrics import roc_curve\n",
    "from sklearn.metrics import roc_auc_score\n",
    "import os\n",
    "os.environ[\"GIT_PYTHON_REFRESH\"] = \"quiet\"\n",
    "import git"
   ]
  },
  {
   "cell_type": "markdown",
   "id": "d63ee7d9",
   "metadata": {
    "heading_collapsed": true
   },
   "source": [
    "# Reading the TAVR Data"
   ]
  },
  {
   "cell_type": "code",
   "execution_count": null,
   "id": "27c21e8f",
   "metadata": {
    "hidden": true
   },
   "outputs": [],
   "source": [
    "data = pd.read_csv('Data') # reading the csv containing all the data\n",
    "data.columns = data.columns.str.lower()\n",
    "\n",
    "data.head() # printing the first five rows of the data"
   ]
  },
  {
   "cell_type": "code",
   "execution_count": null,
   "id": "cc85d7f8",
   "metadata": {
    "hidden": true
   },
   "outputs": [],
   "source": [
    "data = data.dropna(how='any', subset=['race','zipinc_qrtl','elective'])"
   ]
  },
  {
   "cell_type": "code",
   "execution_count": null,
   "id": "b78924bf",
   "metadata": {
    "hidden": true
   },
   "outputs": [],
   "source": [
    "data.info()"
   ]
  },
  {
   "cell_type": "code",
   "execution_count": null,
   "id": "fd1e1878",
   "metadata": {
    "hidden": true
   },
   "outputs": [],
   "source": [
    "#data.shape"
   ]
  },
  {
   "cell_type": "code",
   "execution_count": null,
   "id": "48db07de",
   "metadata": {
    "hidden": true
   },
   "outputs": [],
   "source": [
    "data.drop(data.columns[[0,2,16,17,19,22,24,49,50,56,57,58,59]],axis=1, inplace=True) #All 45 All\n",
    "data.info()"
   ]
  },
  {
   "cell_type": "code",
   "execution_count": null,
   "id": "683a90e2",
   "metadata": {
    "hidden": true
   },
   "outputs": [],
   "source": [
    "#data.shape"
   ]
  },
  {
   "cell_type": "code",
   "execution_count": null,
   "id": "2b2ad882",
   "metadata": {
    "hidden": true
   },
   "outputs": [],
   "source": [
    "# converting all columns of type object to categorical\n",
    "data.loc[:, data.dtypes == 'object'] =\\\n",
    "    data.select_dtypes(['object'])\\\n",
    "    .apply(lambda x: x.astype('category'))"
   ]
  },
  {
   "cell_type": "code",
   "execution_count": null,
   "id": "f065764d",
   "metadata": {
    "hidden": true
   },
   "outputs": [],
   "source": [
    "#data.info()"
   ]
  },
  {
   "cell_type": "markdown",
   "id": "0cfc71dc",
   "metadata": {
    "heading_collapsed": true
   },
   "source": [
    "# Research question 2"
   ]
  },
  {
   "cell_type": "code",
   "execution_count": null,
   "id": "55a205ef",
   "metadata": {
    "hidden": true
   },
   "outputs": [],
   "source": [
    "train = data[data['year']< 2019]\n",
    "test = data[data['year']>= 2019]"
   ]
  },
  {
   "cell_type": "code",
   "execution_count": null,
   "id": "ef41fed3",
   "metadata": {
    "hidden": true
   },
   "outputs": [],
   "source": [
    "#train.shape, test.shape"
   ]
  },
  {
   "cell_type": "code",
   "execution_count": null,
   "id": "fd2b0d6f",
   "metadata": {
    "hidden": true
   },
   "outputs": [],
   "source": [
    "#train.to_csv('tarin2019.csv')"
   ]
  },
  {
   "cell_type": "code",
   "execution_count": null,
   "id": "55d037c0",
   "metadata": {
    "hidden": true
   },
   "outputs": [],
   "source": [
    "#test.to_csv('test2019.csv')"
   ]
  },
  {
   "cell_type": "code",
   "execution_count": null,
   "id": "275b54db",
   "metadata": {
    "hidden": true
   },
   "outputs": [],
   "source": [
    "#train.info()"
   ]
  },
  {
   "cell_type": "code",
   "execution_count": null,
   "id": "10403bba",
   "metadata": {
    "hidden": true
   },
   "outputs": [],
   "source": [
    "#test.info()"
   ]
  },
  {
   "cell_type": "code",
   "execution_count": null,
   "id": "7d8694db",
   "metadata": {
    "hidden": true
   },
   "outputs": [],
   "source": [
    "train.drop(train.columns[[0]],axis=1, inplace=True)\n",
    "#train.info()"
   ]
  },
  {
   "cell_type": "code",
   "execution_count": null,
   "id": "e22b6f9f",
   "metadata": {
    "hidden": true
   },
   "outputs": [],
   "source": [
    "test.drop(test.columns[[0]],axis=1, inplace=True)\n",
    "#test.info()"
   ]
  },
  {
   "cell_type": "markdown",
   "id": "da8ee078",
   "metadata": {
    "hidden": true
   },
   "source": [
    "## RandomOverSampler"
   ]
  },
  {
   "cell_type": "code",
   "execution_count": null,
   "id": "8ace80d1",
   "metadata": {
    "hidden": true,
    "scrolled": true
   },
   "outputs": [],
   "source": [
    "ros = RandomOverSampler(sampling_strategy='minority')\n",
    "ros_setup = setup(data=train,test_data= test, target = 'died', preprocess = True, imputation_type = 'iterative', categorical_imputation = 'constant',\n",
    "                      handle_unknown_categorical = True, fix_imbalance=True, fix_imbalance_method=ros, fold_strategy = 'stratifiedkfold', fold = 5, n_jobs = -1,\n",
    "                      session_id=2022, experiment_name='tavr_ros', log_experiment=True ,normalize = True, normalize_method ='minmax',feature_selection= True, remove_multicollinearity= True)"
   ]
  },
  {
   "cell_type": "code",
   "execution_count": null,
   "id": "04dc9917",
   "metadata": {
    "hidden": true
   },
   "outputs": [],
   "source": [
    "# adding specificity and balanced accuracy to the computed metrics\n",
    "add_metric('Spec', 'Spec.', im.metrics.specificity_score)\n",
    "add_metric('Balanced Accuracy', 'Balanced Accuracy', sklearn.metrics.balanced_accuracy_score)"
   ]
  },
  {
   "cell_type": "markdown",
   "id": "0f0489a8",
   "metadata": {
    "hidden": true
   },
   "source": [
    "### Logistic Regression (lr)"
   ]
  },
  {
   "cell_type": "code",
   "execution_count": null,
   "id": "7a69941f",
   "metadata": {
    "hidden": true
   },
   "outputs": [],
   "source": [
    "lr = create_model('lr')"
   ]
  },
  {
   "cell_type": "code",
   "execution_count": null,
   "id": "fe92d2b5",
   "metadata": {
    "hidden": true
   },
   "outputs": [],
   "source": [
    "#Tune a Model\n",
    "tuned_lr = tune_model(lr,optimize = 'Balanced Accuracy')"
   ]
  },
  {
   "cell_type": "code",
   "execution_count": null,
   "id": "00952138",
   "metadata": {
    "hidden": true
   },
   "outputs": [],
   "source": [
    "#AUC Plot\n",
    "#plot_model(tuned_lr, plot = 'auc')\n",
    "#Precision-Recall Curve\n",
    "#plot_model(tuned_lr, plot = 'pr')\n",
    "# Feature Importance Plot\n",
    "#plot_model(tuned_lr, plot='feature')\n",
    "# Confusion Matrix\n",
    "#plot_model(tuned_lr, plot = 'confusion_matrix')\n",
    "\n",
    "#evaluate_model(tuned_lr)"
   ]
  },
  {
   "cell_type": "code",
   "execution_count": null,
   "id": "41efb7e5",
   "metadata": {
    "hidden": true
   },
   "outputs": [],
   "source": [
    "#Predict on test / hold-out Sample\n",
    "predict_model(tuned_lr);"
   ]
  },
  {
   "cell_type": "code",
   "execution_count": null,
   "id": "5d0997e4",
   "metadata": {
    "hidden": true
   },
   "outputs": [],
   "source": [
    "predict_model(lr);"
   ]
  },
  {
   "cell_type": "code",
   "execution_count": null,
   "id": "7f9692b0",
   "metadata": {
    "hidden": true
   },
   "outputs": [],
   "source": [
    "# Confusion Matrix\n",
    "#plot_model(tuned_lr, plot = 'confusion_matrix')"
   ]
  },
  {
   "cell_type": "code",
   "execution_count": null,
   "id": "adde69a4",
   "metadata": {
    "hidden": true
   },
   "outputs": [],
   "source": [
    "#plot_model(tuned_lr, plot='feature_all')"
   ]
  },
  {
   "cell_type": "code",
   "execution_count": null,
   "id": "5c7a1a49",
   "metadata": {
    "hidden": true
   },
   "outputs": [],
   "source": [
    "#interpret_model(tuned_lr, plot = 'reason', observation = 12)"
   ]
  },
  {
   "cell_type": "markdown",
   "id": "a780bc9f",
   "metadata": {
    "hidden": true
   },
   "source": [
    "### Linear Discriminant Analysis(lda)"
   ]
  },
  {
   "cell_type": "code",
   "execution_count": null,
   "id": "6113de53",
   "metadata": {
    "hidden": true
   },
   "outputs": [],
   "source": [
    "lda = create_model('lda')"
   ]
  },
  {
   "cell_type": "code",
   "execution_count": null,
   "id": "987e0ddd",
   "metadata": {
    "hidden": true
   },
   "outputs": [],
   "source": [
    "#Tune a Model\n",
    "tuned_lda = tune_model(lda,optimize = 'Balanced Accuracy')"
   ]
  },
  {
   "cell_type": "code",
   "execution_count": null,
   "id": "11e384b4",
   "metadata": {
    "hidden": true
   },
   "outputs": [],
   "source": [
    "#AUC Plot\n",
    "#plot_model(tuned_lda, plot = 'auc')\n",
    "#Precision-Recall Curve\n",
    "#plot_model(tuned_lda, plot = 'pr')\n",
    "# Feature Importance Plot\n",
    "#plot_model(tuned_lda, plot='feature')\n",
    "# Confusion Matrix\n",
    "#plot_model(tuned_lda, plot = 'confusion_matrix')\n",
    "\n",
    "#evaluate_model(tuned_lda)"
   ]
  },
  {
   "cell_type": "code",
   "execution_count": null,
   "id": "00a3bba5",
   "metadata": {
    "hidden": true
   },
   "outputs": [],
   "source": [
    "#Predict on test / hold-out Sample\n",
    "predict_model(tuned_lda);"
   ]
  },
  {
   "cell_type": "code",
   "execution_count": null,
   "id": "5b43b0fc",
   "metadata": {
    "hidden": true
   },
   "outputs": [],
   "source": [
    "predict_model(lda);"
   ]
  },
  {
   "cell_type": "code",
   "execution_count": null,
   "id": "6afbeefd",
   "metadata": {
    "hidden": true,
    "scrolled": true
   },
   "outputs": [],
   "source": [
    "# Confusion Matrix\n",
    "#plot_model(lda, plot = 'confusion_matrix')"
   ]
  },
  {
   "cell_type": "code",
   "execution_count": null,
   "id": "1e86da93",
   "metadata": {
    "hidden": true
   },
   "outputs": [],
   "source": [
    "#plot_model(lda, plot='feature_all')"
   ]
  },
  {
   "cell_type": "markdown",
   "id": "dd52e29b",
   "metadata": {
    "hidden": true
   },
   "source": [
    "### Gradient Boosting Classifier (gbc)"
   ]
  },
  {
   "cell_type": "code",
   "execution_count": null,
   "id": "3ac504d6",
   "metadata": {
    "hidden": true
   },
   "outputs": [],
   "source": [
    "gbc = create_model('gbc',ccp_alpha=0.0, criterion='friedman_mse', init=None,\n",
    "                           learning_rate=0.1, loss='deviance', max_depth=3,\n",
    "                           max_features=None, max_leaf_nodes=None,\n",
    "                           min_impurity_decrease=0.0, min_impurity_split=None,\n",
    "                           min_samples_leaf=1, min_samples_split=2,\n",
    "                           min_weight_fraction_leaf=0.0, n_estimators=200,\n",
    "                           n_iter_no_change=None, presort='deprecated', subsample=1.0, tol=0.0001,\n",
    "                           validation_fraction=0.1,warm_start=False)"
   ]
  },
  {
   "cell_type": "code",
   "execution_count": null,
   "id": "5bca86b9",
   "metadata": {
    "hidden": true
   },
   "outputs": [],
   "source": [
    "#Tune a Model\n",
    "tuned_gbc = tune_model(gbc,optimize = 'Balanced Accuracy', n_iter= 100)"
   ]
  },
  {
   "cell_type": "code",
   "execution_count": null,
   "id": "1ec67b0a",
   "metadata": {
    "hidden": true
   },
   "outputs": [],
   "source": [
    "#AUC Plot\n",
    "#plot_model(tuned_gbc, plot = 'auc')\n",
    "#Precision-Recall Curve\n",
    "#plot_model(tuned_gbc, plot = 'pr')\n",
    "# Feature Importance Plot\n",
    "#plot_model(tuned_gbc, plot='feature')\n",
    "# Confusion Matrix\n",
    "#plot_model(tuned_gbc, plot = 'confusion_matrix')\n",
    "\n",
    "#evaluate_model(tuned_gbc)"
   ]
  },
  {
   "cell_type": "code",
   "execution_count": null,
   "id": "6f7ab7b0",
   "metadata": {
    "hidden": true
   },
   "outputs": [],
   "source": [
    "#Predict on test / hold-out Sample\n",
    "predict_model(tuned_gbc);"
   ]
  },
  {
   "cell_type": "code",
   "execution_count": null,
   "id": "b23fe8a8",
   "metadata": {
    "hidden": true
   },
   "outputs": [],
   "source": [
    "predict_model(gbc);"
   ]
  },
  {
   "cell_type": "code",
   "execution_count": null,
   "id": "753b6b5c",
   "metadata": {
    "hidden": true,
    "scrolled": true
   },
   "outputs": [],
   "source": [
    "# Confusion Matrix\n",
    "#plot_model(tuned_gbc, plot = 'confusion_matrix')"
   ]
  },
  {
   "cell_type": "code",
   "execution_count": null,
   "id": "6f308e84",
   "metadata": {
    "hidden": true
   },
   "outputs": [],
   "source": [
    "#plot_model(tuned_gbc, plot='feature_all')"
   ]
  },
  {
   "cell_type": "markdown",
   "id": "8ec13765",
   "metadata": {
    "hidden": true
   },
   "source": [
    "### CatBoost Classifier (catboost)"
   ]
  },
  {
   "cell_type": "code",
   "execution_count": null,
   "id": "864f3ad0",
   "metadata": {
    "hidden": true
   },
   "outputs": [],
   "source": [
    "#catboost = create_model('catboost',class_weights={0:6, 1:9},max_depth=3)\n",
    "catboost = create_model('catboost')"
   ]
  },
  {
   "cell_type": "code",
   "execution_count": null,
   "id": "090419f1",
   "metadata": {
    "hidden": true
   },
   "outputs": [],
   "source": [
    "#Tune a Model\n",
    "tuned_catboost = tune_model(catboost,optimize = 'Balanced Accuracy',n_iter= 100)"
   ]
  },
  {
   "cell_type": "code",
   "execution_count": null,
   "id": "629af742",
   "metadata": {
    "hidden": true
   },
   "outputs": [],
   "source": [
    "#AUC Plot\n",
    "#plot_model(tuned_catboost, plot = 'auc')\n",
    "#Precision-Recall Curve\n",
    "#plot_model(tuned_catboost, plot = 'pr')\n",
    "# Feature Importance Plot\n",
    "#plot_model(tuned_catboost, plot='feature')\n",
    "# Confusion Matrix\n",
    "#plot_model(tuned_catboost, plot = 'confusion_matrix')\n",
    "\n",
    "#evaluate_model(tuned_catboost)"
   ]
  },
  {
   "cell_type": "code",
   "execution_count": null,
   "id": "54161290",
   "metadata": {
    "hidden": true
   },
   "outputs": [],
   "source": [
    "#Predict on test / hold-out Sample\n",
    "predict_model(tuned_catboost);"
   ]
  },
  {
   "cell_type": "code",
   "execution_count": null,
   "id": "392fafea",
   "metadata": {
    "hidden": true
   },
   "outputs": [],
   "source": [
    "predict_model(catboost);"
   ]
  },
  {
   "cell_type": "code",
   "execution_count": null,
   "id": "f99d1876",
   "metadata": {
    "hidden": true
   },
   "outputs": [],
   "source": [
    "# Confusion Matrix\n",
    "#plot_model(catboost, plot = 'confusion_matrix')"
   ]
  },
  {
   "cell_type": "code",
   "execution_count": null,
   "id": "fbdddeda",
   "metadata": {
    "hidden": true
   },
   "outputs": [],
   "source": [
    "#plot_model(catboost, plot='feature_all')"
   ]
  },
  {
   "cell_type": "markdown",
   "id": "0a8c7d82",
   "metadata": {
    "hidden": true
   },
   "source": [
    "### Light Gradient Boosting Machine (lightgbm)"
   ]
  },
  {
   "cell_type": "code",
   "execution_count": null,
   "id": "ef7e38ab",
   "metadata": {
    "hidden": true
   },
   "outputs": [],
   "source": [
    "lightgbm = create_model('lightgbm',class_weight={0:6, 1:9},max_depth=3,num_leaves=80)"
   ]
  },
  {
   "cell_type": "code",
   "execution_count": null,
   "id": "1e3af32b",
   "metadata": {
    "hidden": true
   },
   "outputs": [],
   "source": [
    "#Tune a Model\n",
    "tuned_lightgbm = tune_model(lightgbm,optimize = 'Balanced Accuracy',n_iter= 100)"
   ]
  },
  {
   "cell_type": "code",
   "execution_count": null,
   "id": "cb759a59",
   "metadata": {
    "hidden": true
   },
   "outputs": [],
   "source": [
    "#AUC Plot\n",
    "#plot_model(tuned_lightgbm, plot = 'auc')\n",
    "#Precision-Recall Curve\n",
    "#plot_model(tuned_lightgbm, plot = 'pr')\n",
    "# Feature Importance Plot\n",
    "#plot_model(tuned_lightgbm, plot='feature')\n",
    "# Confusion Matrix\n",
    "#plot_model(tuned_lightgbm, plot = 'confusion_matrix')\n",
    "\n",
    "#evaluate_model(tuned_lightgbm)"
   ]
  },
  {
   "cell_type": "code",
   "execution_count": null,
   "id": "7c0746c7",
   "metadata": {
    "hidden": true
   },
   "outputs": [],
   "source": [
    "#Predict on test / hold-out Sample\n",
    "predict_model(tuned_lightgbm);"
   ]
  },
  {
   "cell_type": "code",
   "execution_count": null,
   "id": "f83e677d",
   "metadata": {
    "hidden": true
   },
   "outputs": [],
   "source": [
    "predict_model(lightgbm);"
   ]
  },
  {
   "cell_type": "code",
   "execution_count": null,
   "id": "d0d5b330",
   "metadata": {
    "hidden": true
   },
   "outputs": [],
   "source": [
    "# Confusion Matrix\n",
    "#plot_model(tuned_lightgbm, plot = 'confusion_matrix')"
   ]
  },
  {
   "cell_type": "code",
   "execution_count": null,
   "id": "8e086478",
   "metadata": {
    "hidden": true
   },
   "outputs": [],
   "source": [
    "#plot_model(tuned_lightgbm, plot='feature_all')"
   ]
  }
 ],
 "metadata": {
  "kernelspec": {
   "display_name": " theyabpycaret",
   "language": "python",
   "name": "theyabpycaret"
  },
  "language_info": {
   "codemirror_mode": {
    "name": "ipython",
    "version": 3
   },
   "file_extension": ".py",
   "mimetype": "text/x-python",
   "name": "python",
   "nbconvert_exporter": "python",
   "pygments_lexer": "ipython3",
   "version": "3.8.12"
  },
  "toc": {
   "base_numbering": 1,
   "nav_menu": {},
   "number_sections": true,
   "sideBar": true,
   "skip_h1_title": false,
   "title_cell": "Table of Contents",
   "title_sidebar": "Contents",
   "toc_cell": false,
   "toc_position": {
    "height": "calc(100% - 180px)",
    "left": "10px",
    "top": "150px",
    "width": "327.188px"
   },
   "toc_section_display": true,
   "toc_window_display": false
  }
 },
 "nbformat": 4,
 "nbformat_minor": 5
}
