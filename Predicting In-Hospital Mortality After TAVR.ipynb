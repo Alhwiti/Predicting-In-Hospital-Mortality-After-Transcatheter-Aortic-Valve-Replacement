{
 "cells": [
  {
   "cell_type": "markdown",
   "id": "7ce9cc3b",
   "metadata": {},
   "source": [
    "# Import Packages and libraries"
   ]
  },
  {
   "cell_type": "code",
   "execution_count": null,
   "id": "0dccc2b2",
   "metadata": {},
   "outputs": [],
   "source": [
    "import pandas as pd\n",
    "import numpy as np\n",
    "import sklearn\n",
    "import pycaret\n",
    "import imblearn as im\n",
    "from pandas.api.types import CategoricalDtype\n",
    "from pycaret.classification import *\n",
    "#from imblearn.over_sampling import ADASYN, BorderlineSMOTE, KMeansSMOTE, RandomOverSampler\n",
    "#from imblearn.over_sampling import SMOTE,SMOTENC, SVMSMOTE\n",
    "from imblearn.over_sampling import *\n",
    "from imblearn.under_sampling import *\n",
    "from imblearn.combine import SMOTEENN, SMOTETomek\n",
    "from imblearn.under_sampling import RandomUnderSampler, CondensedNearestNeighbour, EditedNearestNeighbours, RepeatedEditedNearestNeighbours,AllKNN, InstanceHardnessThreshold, NearMiss, NeighbourhoodCleaningRule, OneSidedSelection, TomekLinks, ClusterCentroids\n",
    "\n",
    "import os\n",
    "os.environ[\"GIT_PYTHON_REFRESH\"] = \"quiet\"\n",
    "import git"
   ]
  },
  {
   "cell_type": "markdown",
   "id": "6789400a",
   "metadata": {},
   "source": [
    "# Reading the TAVR Data"
   ]
  },
  {
   "cell_type": "code",
   "execution_count": null,
   "id": "9ceeb2df",
   "metadata": {},
   "outputs": [],
   "source": [
    "df = pd.read_csv('DATA') # reading the csv containing all the data\n",
    "df.columns = df.columns.str.lower() \n",
    "\n",
    "df.head() # printing the first five rows of the data"
   ]
  },
  {
   "cell_type": "markdown",
   "id": "12087534",
   "metadata": {},
   "source": [
    "This code shows number of missing data in each variable"
   ]
  },
  {
   "cell_type": "code",
   "execution_count": null,
   "id": "8e45112c",
   "metadata": {},
   "outputs": [],
   "source": [
    "df.isna() .sum()"
   ]
  },
  {
   "cell_type": "markdown",
   "id": "c74d7732",
   "metadata": {},
   "source": [
    "You can use the next code to remove NA values from your data"
   ]
  },
  {
   "cell_type": "code",
   "execution_count": null,
   "id": "47d84625",
   "metadata": {},
   "outputs": [],
   "source": [
    "df = df.dropna(how='any', subset=['column1','column1','column1']) "
   ]
  },
  {
   "cell_type": "markdown",
   "id": "cccde1f3",
   "metadata": {},
   "source": [
    ".info method allows you to see more information about the data"
   ]
  },
  {
   "cell_type": "code",
   "execution_count": null,
   "id": "b3a420c5",
   "metadata": {},
   "outputs": [],
   "source": [
    "df.info()"
   ]
  },
  {
   "cell_type": "markdown",
   "id": "b298b0ec",
   "metadata": {},
   "source": [
    ".shape attributes shows the shape of your data (rows , columns )"
   ]
  },
  {
   "cell_type": "code",
   "execution_count": null,
   "id": "b89c4cbe",
   "metadata": {},
   "outputs": [],
   "source": [
    "df.shape"
   ]
  },
  {
   "cell_type": "markdown",
   "id": "00320b07",
   "metadata": {},
   "source": [
    "Here you can drop the unwanted columns out from your dataset"
   ]
  },
  {
   "cell_type": "code",
   "execution_count": null,
   "id": "1f352ac2",
   "metadata": {},
   "outputs": [],
   "source": [
    "df.drop(df.columns[[1,2]],axis=1, inplace=True) # You must enter the number of the columns that you want to drop."
   ]
  },
  {
   "cell_type": "markdown",
   "id": "93cf17ef",
   "metadata": {},
   "source": [
    "Next, converting all columns of type object to categorical"
   ]
  },
  {
   "cell_type": "code",
   "execution_count": null,
   "id": "a2a31cca",
   "metadata": {},
   "outputs": [],
   "source": [
    "df.loc[:, df.dtypes == 'object'] =\\\n",
    "    df.select_dtypes(['object'])\\\n",
    "    .apply(lambda x: x.astype('category'))"
   ]
  },
  {
   "cell_type": "code",
   "execution_count": null,
   "id": "a3b6323d",
   "metadata": {},
   "outputs": [],
   "source": []
  },
  {
   "cell_type": "code",
   "execution_count": null,
   "id": "f6f64161",
   "metadata": {},
   "outputs": [],
   "source": []
  },
  {
   "cell_type": "code",
   "execution_count": null,
   "id": "f7bf28c4",
   "metadata": {},
   "outputs": [],
   "source": []
  }
 ],
 "metadata": {
  "kernelspec": {
   "display_name": " theyabpycaret",
   "language": "python",
   "name": "theyabpycaret"
  },
  "language_info": {
   "codemirror_mode": {
    "name": "ipython",
    "version": 3
   },
   "file_extension": ".py",
   "mimetype": "text/x-python",
   "name": "python",
   "nbconvert_exporter": "python",
   "pygments_lexer": "ipython3",
   "version": "3.8.12"
  },
  "toc": {
   "base_numbering": 1,
   "nav_menu": {},
   "number_sections": true,
   "sideBar": true,
   "skip_h1_title": false,
   "title_cell": "Table of Contents",
   "title_sidebar": "Contents",
   "toc_cell": false,
   "toc_position": {},
   "toc_section_display": true,
   "toc_window_display": true
  }
 },
 "nbformat": 4,
 "nbformat_minor": 5
}
