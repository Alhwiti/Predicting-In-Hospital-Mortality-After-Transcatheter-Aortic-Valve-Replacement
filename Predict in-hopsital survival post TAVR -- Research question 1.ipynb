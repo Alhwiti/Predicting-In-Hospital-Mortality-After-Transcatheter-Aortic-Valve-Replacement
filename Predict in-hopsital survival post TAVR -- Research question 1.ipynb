{
 "cells": [
  {
   "cell_type": "markdown",
   "id": "d0a86dcd",
   "metadata": {},
   "source": [
    "# Import Packages and libraries"
   ]
  },
  {
   "cell_type": "code",
   "execution_count": 8,
   "id": "7e5afaea",
   "metadata": {},
   "outputs": [],
   "source": [
    "import pandas as pd\n",
    "import numpy as np\n",
    "import sklearn\n",
    "import pycaret\n",
    "import imblearn as im\n",
    "from pandas.api.types import CategoricalDtype\n",
    "from pycaret.classification import *\n",
    "#from imblearn.over_sampling import ADASYN, BorderlineSMOTE, KMeansSMOTE, RandomOverSampler\n",
    "#from imblearn.over_sampling import SMOTE,SMOTENC, SVMSMOTE\n",
    "from imblearn.over_sampling import *\n",
    "from imblearn.under_sampling import *\n",
    "from imblearn.combine import SMOTEENN, SMOTETomek\n",
    "from imblearn.under_sampling import RandomUnderSampler, CondensedNearestNeighbour, EditedNearestNeighbours, RepeatedEditedNearestNeighbours,AllKNN, InstanceHardnessThreshold, NearMiss, NeighbourhoodCleaningRule, OneSidedSelection, TomekLinks, ClusterCentroids\n",
    "from sklearn.metrics import average_precision_score\n",
    "\n",
    "import os\n",
    "os.environ[\"GIT_PYTHON_REFRESH\"] = \"quiet\"\n",
    "import git"
   ]
  },
  {
   "cell_type": "markdown",
   "id": "d63ee7d9",
   "metadata": {},
   "source": [
    "# Reading the TAVR Data"
   ]
  },
  {
   "cell_type": "code",
   "execution_count": 9,
   "id": "27c21e8f",
   "metadata": {},
   "outputs": [
    {
     "data": {
      "text/html": [
       "<div>\n",
       "<style scoped>\n",
       "    .dataframe tbody tr th:only-of-type {\n",
       "        vertical-align: middle;\n",
       "    }\n",
       "\n",
       "    .dataframe tbody tr th {\n",
       "        vertical-align: top;\n",
       "    }\n",
       "\n",
       "    .dataframe thead th {\n",
       "        text-align: right;\n",
       "    }\n",
       "</style>\n",
       "<table border=\"1\" class=\"dataframe\">\n",
       "  <thead>\n",
       "    <tr style=\"text-align: right;\">\n",
       "      <th></th>\n",
       "      <th>id</th>\n",
       "      <th>year</th>\n",
       "      <th>key_nis</th>\n",
       "      <th>died</th>\n",
       "      <th>age</th>\n",
       "      <th>female</th>\n",
       "      <th>race</th>\n",
       "      <th>elective</th>\n",
       "      <th>aweekend</th>\n",
       "      <th>zipinc_qrtl</th>\n",
       "      <th>...</th>\n",
       "      <th>sepsis</th>\n",
       "      <th>smoker</th>\n",
       "      <th>valvular_disease</th>\n",
       "      <th>weight_loss</th>\n",
       "      <th>endovascular_tavr</th>\n",
       "      <th>transapical_tavr</th>\n",
       "      <th>ppm_placement</th>\n",
       "      <th>conversion_to_savr</th>\n",
       "      <th>vascular_complications</th>\n",
       "      <th>major_bleeding</th>\n",
       "    </tr>\n",
       "  </thead>\n",
       "  <tbody>\n",
       "    <tr>\n",
       "      <th>0</th>\n",
       "      <td>1</td>\n",
       "      <td>2012</td>\n",
       "      <td>10294859</td>\n",
       "      <td>No</td>\n",
       "      <td>67</td>\n",
       "      <td>Female</td>\n",
       "      <td>White</td>\n",
       "      <td>Elective</td>\n",
       "      <td>No</td>\n",
       "      <td>ThirdQ</td>\n",
       "      <td>...</td>\n",
       "      <td>No</td>\n",
       "      <td>No</td>\n",
       "      <td>Yes</td>\n",
       "      <td>No</td>\n",
       "      <td>Yes</td>\n",
       "      <td>No</td>\n",
       "      <td>No</td>\n",
       "      <td>No</td>\n",
       "      <td>No</td>\n",
       "      <td>No</td>\n",
       "    </tr>\n",
       "    <tr>\n",
       "      <th>1</th>\n",
       "      <td>2</td>\n",
       "      <td>2012</td>\n",
       "      <td>10019518</td>\n",
       "      <td>No</td>\n",
       "      <td>90</td>\n",
       "      <td>Male</td>\n",
       "      <td>White</td>\n",
       "      <td>Elective</td>\n",
       "      <td>No</td>\n",
       "      <td>ThirdQ</td>\n",
       "      <td>...</td>\n",
       "      <td>No</td>\n",
       "      <td>No</td>\n",
       "      <td>Yes</td>\n",
       "      <td>No</td>\n",
       "      <td>Yes</td>\n",
       "      <td>No</td>\n",
       "      <td>No</td>\n",
       "      <td>No</td>\n",
       "      <td>No</td>\n",
       "      <td>No</td>\n",
       "    </tr>\n",
       "    <tr>\n",
       "      <th>2</th>\n",
       "      <td>3</td>\n",
       "      <td>2012</td>\n",
       "      <td>10155781</td>\n",
       "      <td>No</td>\n",
       "      <td>90</td>\n",
       "      <td>Male</td>\n",
       "      <td>White</td>\n",
       "      <td>NonElective</td>\n",
       "      <td>No</td>\n",
       "      <td>FourthQ</td>\n",
       "      <td>...</td>\n",
       "      <td>No</td>\n",
       "      <td>Yes</td>\n",
       "      <td>Yes</td>\n",
       "      <td>No</td>\n",
       "      <td>Yes</td>\n",
       "      <td>No</td>\n",
       "      <td>Yes</td>\n",
       "      <td>No</td>\n",
       "      <td>No</td>\n",
       "      <td>No</td>\n",
       "    </tr>\n",
       "    <tr>\n",
       "      <th>3</th>\n",
       "      <td>4</td>\n",
       "      <td>2012</td>\n",
       "      <td>10103697</td>\n",
       "      <td>No</td>\n",
       "      <td>80</td>\n",
       "      <td>Female</td>\n",
       "      <td>White</td>\n",
       "      <td>NonElective</td>\n",
       "      <td>No</td>\n",
       "      <td>FirstQ</td>\n",
       "      <td>...</td>\n",
       "      <td>No</td>\n",
       "      <td>Yes</td>\n",
       "      <td>Yes</td>\n",
       "      <td>No</td>\n",
       "      <td>No</td>\n",
       "      <td>Yes</td>\n",
       "      <td>Yes</td>\n",
       "      <td>No</td>\n",
       "      <td>No</td>\n",
       "      <td>No</td>\n",
       "    </tr>\n",
       "    <tr>\n",
       "      <th>4</th>\n",
       "      <td>5</td>\n",
       "      <td>2012</td>\n",
       "      <td>10330854</td>\n",
       "      <td>No</td>\n",
       "      <td>84</td>\n",
       "      <td>Female</td>\n",
       "      <td>White</td>\n",
       "      <td>Elective</td>\n",
       "      <td>No</td>\n",
       "      <td>FourthQ</td>\n",
       "      <td>...</td>\n",
       "      <td>No</td>\n",
       "      <td>No</td>\n",
       "      <td>Yes</td>\n",
       "      <td>No</td>\n",
       "      <td>No</td>\n",
       "      <td>Yes</td>\n",
       "      <td>No</td>\n",
       "      <td>No</td>\n",
       "      <td>No</td>\n",
       "      <td>No</td>\n",
       "    </tr>\n",
       "  </tbody>\n",
       "</table>\n",
       "<p>5 rows × 60 columns</p>\n",
       "</div>"
      ],
      "text/plain": [
       "   id  year   key_nis died  age  female   race     elective aweekend  \\\n",
       "0   1  2012  10294859   No   67  Female  White     Elective       No   \n",
       "1   2  2012  10019518   No   90    Male  White     Elective       No   \n",
       "2   3  2012  10155781   No   90    Male  White  NonElective       No   \n",
       "3   4  2012  10103697   No   80  Female  White  NonElective       No   \n",
       "4   5  2012  10330854   No   84  Female  White     Elective       No   \n",
       "\n",
       "  zipinc_qrtl  ... sepsis smoker valvular_disease weight_loss  \\\n",
       "0      ThirdQ  ...     No     No              Yes          No   \n",
       "1      ThirdQ  ...     No     No              Yes          No   \n",
       "2     FourthQ  ...     No    Yes              Yes          No   \n",
       "3      FirstQ  ...     No    Yes              Yes          No   \n",
       "4     FourthQ  ...     No     No              Yes          No   \n",
       "\n",
       "  endovascular_tavr transapical_tavr ppm_placement conversion_to_savr  \\\n",
       "0               Yes               No            No                 No   \n",
       "1               Yes               No            No                 No   \n",
       "2               Yes               No           Yes                 No   \n",
       "3                No              Yes           Yes                 No   \n",
       "4                No              Yes            No                 No   \n",
       "\n",
       "  vascular_complications major_bleeding  \n",
       "0                     No             No  \n",
       "1                     No             No  \n",
       "2                     No             No  \n",
       "3                     No             No  \n",
       "4                     No             No  \n",
       "\n",
       "[5 rows x 60 columns]"
      ]
     },
     "execution_count": 9,
     "metadata": {},
     "output_type": "execute_result"
    }
   ],
   "source": [
    "df = pd.read_csv('NewRawMLTavrDataCat.csv') # reading the csv containing all the data\n",
    "df.columns = df.columns.str.lower()\n",
    "\n",
    "df.head() # printing the first five rows of the data"
   ]
  },
  {
   "cell_type": "code",
   "execution_count": 10,
   "id": "cc85d7f8",
   "metadata": {},
   "outputs": [],
   "source": [
    "df = df.dropna(how='any', subset=['race','zipinc_qrtl','elective'])"
   ]
  },
  {
   "cell_type": "code",
   "execution_count": 11,
   "id": "48db07de",
   "metadata": {},
   "outputs": [],
   "source": [
    "#data.drop(data.columns[[0,2,11,8,15,14,34,31,33,53,16,17,19,22,24,49,50,56,57,58,59]],axis=1, inplace=True)\n",
    "\n",
    "\n",
    "#data.drop(data.columns[[0,2,16,17,19,22,24,49,50,56,57,58,59]],axis=1, inplace=True) #All 45 All\n",
    "data.drop(data.columns[[0,2,16,17,19,22,24,49,50,56,57,58,59,31,8,34]],axis=1, inplace=True) #All 40\n",
    "#data.drop(data.columns[[0,2,16,17,19,22,24,49,50,56,57,58,59,31,8,34,11,14,15,33,13,52,9,6,20,40]],axis=1, inplace=True) #All 30\n",
    "#data.drop(data.columns[[0,2,16,17,19,22,24,49,50,56,57,58,59,31,8,34,11,14,15,33,13,52,9,6,20,40,12,43,38,47,10,29,36,25,42,44]],axis=1, inplace=True) #All 20\n",
    "#data.drop(data.columns[[0,2,16,17,19,22,24,49,50,56,57,58,59,31,8,34,11,14,15,33,13,52,9,6,20,40,12,43,38,47,10,29,36,25,42,44,30,18,21,27,48,45,46,26,5,51]],axis=1, inplace=True) #All 10\n",
    "#data.drop(data.columns[[0,2,16,17,19,22,24,49,50,56,57,58,59,31,8,34,11,14,15,33,13,52,9,6,20,40,12,43,38,47,10,29,36,25,42,44,30,18,21,27,48,45,46,26,5,51,53,7,28,37,32]],axis=1, inplace=True) #All 5\n",
    "\n",
    "\n",
    "data.info()"
   ]
  },
  {
   "cell_type": "code",
   "execution_count": 12,
   "id": "2b2ad882",
   "metadata": {},
   "outputs": [],
   "source": [
    "# converting all columns of type object to categorical\n",
    "df.loc[:, df.dtypes == 'object'] =\\\n",
    "    df.select_dtypes(['object'])\\\n",
    "    .apply(lambda x: x.astype('category'))"
   ]
  },
  {
   "cell_type": "markdown",
   "id": "a41af49f",
   "metadata": {},
   "source": [
    "# Over Sampling"
   ]
  },
  {
   "cell_type": "code",
   "execution_count": 13,
   "id": "051cf934",
   "metadata": {},
   "outputs": [
    {
     "data": {
      "text/html": [
       "<style type=\"text/css\">\n",
       "#T_6c561_row5_col1, #T_6c561_row44_col1 {\n",
       "  background-color: lightgreen;\n",
       "}\n",
       "</style>\n",
       "<table id=\"T_6c561\">\n",
       "  <thead>\n",
       "    <tr>\n",
       "      <th class=\"blank level0\" >&nbsp;</th>\n",
       "      <th id=\"T_6c561_level0_col0\" class=\"col_heading level0 col0\" >Description</th>\n",
       "      <th id=\"T_6c561_level0_col1\" class=\"col_heading level0 col1\" >Value</th>\n",
       "    </tr>\n",
       "  </thead>\n",
       "  <tbody>\n",
       "    <tr>\n",
       "      <th id=\"T_6c561_level0_row0\" class=\"row_heading level0 row0\" >0</th>\n",
       "      <td id=\"T_6c561_row0_col0\" class=\"data row0 col0\" >session_id</td>\n",
       "      <td id=\"T_6c561_row0_col1\" class=\"data row0 col1\" >2022</td>\n",
       "    </tr>\n",
       "    <tr>\n",
       "      <th id=\"T_6c561_level0_row1\" class=\"row_heading level0 row1\" >1</th>\n",
       "      <td id=\"T_6c561_row1_col0\" class=\"data row1 col0\" >Target</td>\n",
       "      <td id=\"T_6c561_row1_col1\" class=\"data row1 col1\" >died</td>\n",
       "    </tr>\n",
       "    <tr>\n",
       "      <th id=\"T_6c561_level0_row2\" class=\"row_heading level0 row2\" >2</th>\n",
       "      <td id=\"T_6c561_row2_col0\" class=\"data row2 col0\" >Target Type</td>\n",
       "      <td id=\"T_6c561_row2_col1\" class=\"data row2 col1\" >Binary</td>\n",
       "    </tr>\n",
       "    <tr>\n",
       "      <th id=\"T_6c561_level0_row3\" class=\"row_heading level0 row3\" >3</th>\n",
       "      <td id=\"T_6c561_row3_col0\" class=\"data row3 col0\" >Label Encoded</td>\n",
       "      <td id=\"T_6c561_row3_col1\" class=\"data row3 col1\" >No: 0, Yes: 1</td>\n",
       "    </tr>\n",
       "    <tr>\n",
       "      <th id=\"T_6c561_level0_row4\" class=\"row_heading level0 row4\" >4</th>\n",
       "      <td id=\"T_6c561_row4_col0\" class=\"data row4 col0\" >Original Data</td>\n",
       "      <td id=\"T_6c561_row4_col1\" class=\"data row4 col1\" >(54739, 47)</td>\n",
       "    </tr>\n",
       "    <tr>\n",
       "      <th id=\"T_6c561_level0_row5\" class=\"row_heading level0 row5\" >5</th>\n",
       "      <td id=\"T_6c561_row5_col0\" class=\"data row5 col0\" >Missing Values</td>\n",
       "      <td id=\"T_6c561_row5_col1\" class=\"data row5 col1\" >1</td>\n",
       "    </tr>\n",
       "    <tr>\n",
       "      <th id=\"T_6c561_level0_row6\" class=\"row_heading level0 row6\" >6</th>\n",
       "      <td id=\"T_6c561_row6_col0\" class=\"data row6 col0\" >Numeric Features</td>\n",
       "      <td id=\"T_6c561_row6_col1\" class=\"data row6 col1\" >2</td>\n",
       "    </tr>\n",
       "    <tr>\n",
       "      <th id=\"T_6c561_level0_row7\" class=\"row_heading level0 row7\" >7</th>\n",
       "      <td id=\"T_6c561_row7_col0\" class=\"data row7 col0\" >Categorical Features</td>\n",
       "      <td id=\"T_6c561_row7_col1\" class=\"data row7 col1\" >44</td>\n",
       "    </tr>\n",
       "    <tr>\n",
       "      <th id=\"T_6c561_level0_row8\" class=\"row_heading level0 row8\" >8</th>\n",
       "      <td id=\"T_6c561_row8_col0\" class=\"data row8 col0\" >Ordinal Features</td>\n",
       "      <td id=\"T_6c561_row8_col1\" class=\"data row8 col1\" >0</td>\n",
       "    </tr>\n",
       "    <tr>\n",
       "      <th id=\"T_6c561_level0_row9\" class=\"row_heading level0 row9\" >9</th>\n",
       "      <td id=\"T_6c561_row9_col0\" class=\"data row9 col0\" >High Cardinality Features</td>\n",
       "      <td id=\"T_6c561_row9_col1\" class=\"data row9 col1\" >0</td>\n",
       "    </tr>\n",
       "    <tr>\n",
       "      <th id=\"T_6c561_level0_row10\" class=\"row_heading level0 row10\" >10</th>\n",
       "      <td id=\"T_6c561_row10_col0\" class=\"data row10 col0\" >High Cardinality Method</td>\n",
       "      <td id=\"T_6c561_row10_col1\" class=\"data row10 col1\" >None</td>\n",
       "    </tr>\n",
       "    <tr>\n",
       "      <th id=\"T_6c561_level0_row11\" class=\"row_heading level0 row11\" >11</th>\n",
       "      <td id=\"T_6c561_row11_col0\" class=\"data row11 col0\" >Transformed Train Set</td>\n",
       "      <td id=\"T_6c561_row11_col1\" class=\"data row11 col1\" >(43791, 76)</td>\n",
       "    </tr>\n",
       "    <tr>\n",
       "      <th id=\"T_6c561_level0_row12\" class=\"row_heading level0 row12\" >12</th>\n",
       "      <td id=\"T_6c561_row12_col0\" class=\"data row12 col0\" >Transformed Test Set</td>\n",
       "      <td id=\"T_6c561_row12_col1\" class=\"data row12 col1\" >(10948, 76)</td>\n",
       "    </tr>\n",
       "    <tr>\n",
       "      <th id=\"T_6c561_level0_row13\" class=\"row_heading level0 row13\" >13</th>\n",
       "      <td id=\"T_6c561_row13_col0\" class=\"data row13 col0\" >Shuffle Train-Test</td>\n",
       "      <td id=\"T_6c561_row13_col1\" class=\"data row13 col1\" >True</td>\n",
       "    </tr>\n",
       "    <tr>\n",
       "      <th id=\"T_6c561_level0_row14\" class=\"row_heading level0 row14\" >14</th>\n",
       "      <td id=\"T_6c561_row14_col0\" class=\"data row14 col0\" >Stratify Train-Test</td>\n",
       "      <td id=\"T_6c561_row14_col1\" class=\"data row14 col1\" >False</td>\n",
       "    </tr>\n",
       "    <tr>\n",
       "      <th id=\"T_6c561_level0_row15\" class=\"row_heading level0 row15\" >15</th>\n",
       "      <td id=\"T_6c561_row15_col0\" class=\"data row15 col0\" >Fold Generator</td>\n",
       "      <td id=\"T_6c561_row15_col1\" class=\"data row15 col1\" >StratifiedKFold</td>\n",
       "    </tr>\n",
       "    <tr>\n",
       "      <th id=\"T_6c561_level0_row16\" class=\"row_heading level0 row16\" >16</th>\n",
       "      <td id=\"T_6c561_row16_col0\" class=\"data row16 col0\" >Fold Number</td>\n",
       "      <td id=\"T_6c561_row16_col1\" class=\"data row16 col1\" >10</td>\n",
       "    </tr>\n",
       "    <tr>\n",
       "      <th id=\"T_6c561_level0_row17\" class=\"row_heading level0 row17\" >17</th>\n",
       "      <td id=\"T_6c561_row17_col0\" class=\"data row17 col0\" >CPU Jobs</td>\n",
       "      <td id=\"T_6c561_row17_col1\" class=\"data row17 col1\" >-1</td>\n",
       "    </tr>\n",
       "    <tr>\n",
       "      <th id=\"T_6c561_level0_row18\" class=\"row_heading level0 row18\" >18</th>\n",
       "      <td id=\"T_6c561_row18_col0\" class=\"data row18 col0\" >Use GPU</td>\n",
       "      <td id=\"T_6c561_row18_col1\" class=\"data row18 col1\" >0</td>\n",
       "    </tr>\n",
       "    <tr>\n",
       "      <th id=\"T_6c561_level0_row19\" class=\"row_heading level0 row19\" >19</th>\n",
       "      <td id=\"T_6c561_row19_col0\" class=\"data row19 col0\" >Log Experiment</td>\n",
       "      <td id=\"T_6c561_row19_col1\" class=\"data row19 col1\" >0</td>\n",
       "    </tr>\n",
       "    <tr>\n",
       "      <th id=\"T_6c561_level0_row20\" class=\"row_heading level0 row20\" >20</th>\n",
       "      <td id=\"T_6c561_row20_col0\" class=\"data row20 col0\" >Experiment Name</td>\n",
       "      <td id=\"T_6c561_row20_col1\" class=\"data row20 col1\" >tavr_ros</td>\n",
       "    </tr>\n",
       "    <tr>\n",
       "      <th id=\"T_6c561_level0_row21\" class=\"row_heading level0 row21\" >21</th>\n",
       "      <td id=\"T_6c561_row21_col0\" class=\"data row21 col0\" >USI</td>\n",
       "      <td id=\"T_6c561_row21_col1\" class=\"data row21 col1\" >80bb</td>\n",
       "    </tr>\n",
       "    <tr>\n",
       "      <th id=\"T_6c561_level0_row22\" class=\"row_heading level0 row22\" >22</th>\n",
       "      <td id=\"T_6c561_row22_col0\" class=\"data row22 col0\" >Imputation Type</td>\n",
       "      <td id=\"T_6c561_row22_col1\" class=\"data row22 col1\" >simple</td>\n",
       "    </tr>\n",
       "    <tr>\n",
       "      <th id=\"T_6c561_level0_row23\" class=\"row_heading level0 row23\" >23</th>\n",
       "      <td id=\"T_6c561_row23_col0\" class=\"data row23 col0\" >Iterative Imputation Iteration</td>\n",
       "      <td id=\"T_6c561_row23_col1\" class=\"data row23 col1\" >None</td>\n",
       "    </tr>\n",
       "    <tr>\n",
       "      <th id=\"T_6c561_level0_row24\" class=\"row_heading level0 row24\" >24</th>\n",
       "      <td id=\"T_6c561_row24_col0\" class=\"data row24 col0\" >Numeric Imputer</td>\n",
       "      <td id=\"T_6c561_row24_col1\" class=\"data row24 col1\" >mean</td>\n",
       "    </tr>\n",
       "    <tr>\n",
       "      <th id=\"T_6c561_level0_row25\" class=\"row_heading level0 row25\" >25</th>\n",
       "      <td id=\"T_6c561_row25_col0\" class=\"data row25 col0\" >Iterative Imputation Numeric Model</td>\n",
       "      <td id=\"T_6c561_row25_col1\" class=\"data row25 col1\" >None</td>\n",
       "    </tr>\n",
       "    <tr>\n",
       "      <th id=\"T_6c561_level0_row26\" class=\"row_heading level0 row26\" >26</th>\n",
       "      <td id=\"T_6c561_row26_col0\" class=\"data row26 col0\" >Categorical Imputer</td>\n",
       "      <td id=\"T_6c561_row26_col1\" class=\"data row26 col1\" >constant</td>\n",
       "    </tr>\n",
       "    <tr>\n",
       "      <th id=\"T_6c561_level0_row27\" class=\"row_heading level0 row27\" >27</th>\n",
       "      <td id=\"T_6c561_row27_col0\" class=\"data row27 col0\" >Iterative Imputation Categorical Model</td>\n",
       "      <td id=\"T_6c561_row27_col1\" class=\"data row27 col1\" >None</td>\n",
       "    </tr>\n",
       "    <tr>\n",
       "      <th id=\"T_6c561_level0_row28\" class=\"row_heading level0 row28\" >28</th>\n",
       "      <td id=\"T_6c561_row28_col0\" class=\"data row28 col0\" >Unknown Categoricals Handling</td>\n",
       "      <td id=\"T_6c561_row28_col1\" class=\"data row28 col1\" >least_frequent</td>\n",
       "    </tr>\n",
       "    <tr>\n",
       "      <th id=\"T_6c561_level0_row29\" class=\"row_heading level0 row29\" >29</th>\n",
       "      <td id=\"T_6c561_row29_col0\" class=\"data row29 col0\" >Normalize</td>\n",
       "      <td id=\"T_6c561_row29_col1\" class=\"data row29 col1\" >0</td>\n",
       "    </tr>\n",
       "    <tr>\n",
       "      <th id=\"T_6c561_level0_row30\" class=\"row_heading level0 row30\" >30</th>\n",
       "      <td id=\"T_6c561_row30_col0\" class=\"data row30 col0\" >Normalize Method</td>\n",
       "      <td id=\"T_6c561_row30_col1\" class=\"data row30 col1\" >None</td>\n",
       "    </tr>\n",
       "    <tr>\n",
       "      <th id=\"T_6c561_level0_row31\" class=\"row_heading level0 row31\" >31</th>\n",
       "      <td id=\"T_6c561_row31_col0\" class=\"data row31 col0\" >Transformation</td>\n",
       "      <td id=\"T_6c561_row31_col1\" class=\"data row31 col1\" >0</td>\n",
       "    </tr>\n",
       "    <tr>\n",
       "      <th id=\"T_6c561_level0_row32\" class=\"row_heading level0 row32\" >32</th>\n",
       "      <td id=\"T_6c561_row32_col0\" class=\"data row32 col0\" >Transformation Method</td>\n",
       "      <td id=\"T_6c561_row32_col1\" class=\"data row32 col1\" >None</td>\n",
       "    </tr>\n",
       "    <tr>\n",
       "      <th id=\"T_6c561_level0_row33\" class=\"row_heading level0 row33\" >33</th>\n",
       "      <td id=\"T_6c561_row33_col0\" class=\"data row33 col0\" >PCA</td>\n",
       "      <td id=\"T_6c561_row33_col1\" class=\"data row33 col1\" >0</td>\n",
       "    </tr>\n",
       "    <tr>\n",
       "      <th id=\"T_6c561_level0_row34\" class=\"row_heading level0 row34\" >34</th>\n",
       "      <td id=\"T_6c561_row34_col0\" class=\"data row34 col0\" >PCA Method</td>\n",
       "      <td id=\"T_6c561_row34_col1\" class=\"data row34 col1\" >None</td>\n",
       "    </tr>\n",
       "    <tr>\n",
       "      <th id=\"T_6c561_level0_row35\" class=\"row_heading level0 row35\" >35</th>\n",
       "      <td id=\"T_6c561_row35_col0\" class=\"data row35 col0\" >PCA Components</td>\n",
       "      <td id=\"T_6c561_row35_col1\" class=\"data row35 col1\" >None</td>\n",
       "    </tr>\n",
       "    <tr>\n",
       "      <th id=\"T_6c561_level0_row36\" class=\"row_heading level0 row36\" >36</th>\n",
       "      <td id=\"T_6c561_row36_col0\" class=\"data row36 col0\" >Ignore Low Variance</td>\n",
       "      <td id=\"T_6c561_row36_col1\" class=\"data row36 col1\" >0</td>\n",
       "    </tr>\n",
       "    <tr>\n",
       "      <th id=\"T_6c561_level0_row37\" class=\"row_heading level0 row37\" >37</th>\n",
       "      <td id=\"T_6c561_row37_col0\" class=\"data row37 col0\" >Combine Rare Levels</td>\n",
       "      <td id=\"T_6c561_row37_col1\" class=\"data row37 col1\" >0</td>\n",
       "    </tr>\n",
       "    <tr>\n",
       "      <th id=\"T_6c561_level0_row38\" class=\"row_heading level0 row38\" >38</th>\n",
       "      <td id=\"T_6c561_row38_col0\" class=\"data row38 col0\" >Rare Level Threshold</td>\n",
       "      <td id=\"T_6c561_row38_col1\" class=\"data row38 col1\" >None</td>\n",
       "    </tr>\n",
       "    <tr>\n",
       "      <th id=\"T_6c561_level0_row39\" class=\"row_heading level0 row39\" >39</th>\n",
       "      <td id=\"T_6c561_row39_col0\" class=\"data row39 col0\" >Numeric Binning</td>\n",
       "      <td id=\"T_6c561_row39_col1\" class=\"data row39 col1\" >0</td>\n",
       "    </tr>\n",
       "    <tr>\n",
       "      <th id=\"T_6c561_level0_row40\" class=\"row_heading level0 row40\" >40</th>\n",
       "      <td id=\"T_6c561_row40_col0\" class=\"data row40 col0\" >Remove Outliers</td>\n",
       "      <td id=\"T_6c561_row40_col1\" class=\"data row40 col1\" >0</td>\n",
       "    </tr>\n",
       "    <tr>\n",
       "      <th id=\"T_6c561_level0_row41\" class=\"row_heading level0 row41\" >41</th>\n",
       "      <td id=\"T_6c561_row41_col0\" class=\"data row41 col0\" >Outliers Threshold</td>\n",
       "      <td id=\"T_6c561_row41_col1\" class=\"data row41 col1\" >None</td>\n",
       "    </tr>\n",
       "    <tr>\n",
       "      <th id=\"T_6c561_level0_row42\" class=\"row_heading level0 row42\" >42</th>\n",
       "      <td id=\"T_6c561_row42_col0\" class=\"data row42 col0\" >Remove Multicollinearity</td>\n",
       "      <td id=\"T_6c561_row42_col1\" class=\"data row42 col1\" >0</td>\n",
       "    </tr>\n",
       "    <tr>\n",
       "      <th id=\"T_6c561_level0_row43\" class=\"row_heading level0 row43\" >43</th>\n",
       "      <td id=\"T_6c561_row43_col0\" class=\"data row43 col0\" >Multicollinearity Threshold</td>\n",
       "      <td id=\"T_6c561_row43_col1\" class=\"data row43 col1\" >None</td>\n",
       "    </tr>\n",
       "    <tr>\n",
       "      <th id=\"T_6c561_level0_row44\" class=\"row_heading level0 row44\" >44</th>\n",
       "      <td id=\"T_6c561_row44_col0\" class=\"data row44 col0\" >Remove Perfect Collinearity</td>\n",
       "      <td id=\"T_6c561_row44_col1\" class=\"data row44 col1\" >1</td>\n",
       "    </tr>\n",
       "    <tr>\n",
       "      <th id=\"T_6c561_level0_row45\" class=\"row_heading level0 row45\" >45</th>\n",
       "      <td id=\"T_6c561_row45_col0\" class=\"data row45 col0\" >Clustering</td>\n",
       "      <td id=\"T_6c561_row45_col1\" class=\"data row45 col1\" >0</td>\n",
       "    </tr>\n",
       "    <tr>\n",
       "      <th id=\"T_6c561_level0_row46\" class=\"row_heading level0 row46\" >46</th>\n",
       "      <td id=\"T_6c561_row46_col0\" class=\"data row46 col0\" >Clustering Iteration</td>\n",
       "      <td id=\"T_6c561_row46_col1\" class=\"data row46 col1\" >None</td>\n",
       "    </tr>\n",
       "    <tr>\n",
       "      <th id=\"T_6c561_level0_row47\" class=\"row_heading level0 row47\" >47</th>\n",
       "      <td id=\"T_6c561_row47_col0\" class=\"data row47 col0\" >Polynomial Features</td>\n",
       "      <td id=\"T_6c561_row47_col1\" class=\"data row47 col1\" >0</td>\n",
       "    </tr>\n",
       "    <tr>\n",
       "      <th id=\"T_6c561_level0_row48\" class=\"row_heading level0 row48\" >48</th>\n",
       "      <td id=\"T_6c561_row48_col0\" class=\"data row48 col0\" >Polynomial Degree</td>\n",
       "      <td id=\"T_6c561_row48_col1\" class=\"data row48 col1\" >None</td>\n",
       "    </tr>\n",
       "    <tr>\n",
       "      <th id=\"T_6c561_level0_row49\" class=\"row_heading level0 row49\" >49</th>\n",
       "      <td id=\"T_6c561_row49_col0\" class=\"data row49 col0\" >Trignometry Features</td>\n",
       "      <td id=\"T_6c561_row49_col1\" class=\"data row49 col1\" >0</td>\n",
       "    </tr>\n",
       "    <tr>\n",
       "      <th id=\"T_6c561_level0_row50\" class=\"row_heading level0 row50\" >50</th>\n",
       "      <td id=\"T_6c561_row50_col0\" class=\"data row50 col0\" >Polynomial Threshold</td>\n",
       "      <td id=\"T_6c561_row50_col1\" class=\"data row50 col1\" >None</td>\n",
       "    </tr>\n",
       "    <tr>\n",
       "      <th id=\"T_6c561_level0_row51\" class=\"row_heading level0 row51\" >51</th>\n",
       "      <td id=\"T_6c561_row51_col0\" class=\"data row51 col0\" >Group Features</td>\n",
       "      <td id=\"T_6c561_row51_col1\" class=\"data row51 col1\" >0</td>\n",
       "    </tr>\n",
       "    <tr>\n",
       "      <th id=\"T_6c561_level0_row52\" class=\"row_heading level0 row52\" >52</th>\n",
       "      <td id=\"T_6c561_row52_col0\" class=\"data row52 col0\" >Feature Selection</td>\n",
       "      <td id=\"T_6c561_row52_col1\" class=\"data row52 col1\" >0</td>\n",
       "    </tr>\n",
       "    <tr>\n",
       "      <th id=\"T_6c561_level0_row53\" class=\"row_heading level0 row53\" >53</th>\n",
       "      <td id=\"T_6c561_row53_col0\" class=\"data row53 col0\" >Feature Selection Method</td>\n",
       "      <td id=\"T_6c561_row53_col1\" class=\"data row53 col1\" >classic</td>\n",
       "    </tr>\n",
       "    <tr>\n",
       "      <th id=\"T_6c561_level0_row54\" class=\"row_heading level0 row54\" >54</th>\n",
       "      <td id=\"T_6c561_row54_col0\" class=\"data row54 col0\" >Features Selection Threshold</td>\n",
       "      <td id=\"T_6c561_row54_col1\" class=\"data row54 col1\" >None</td>\n",
       "    </tr>\n",
       "    <tr>\n",
       "      <th id=\"T_6c561_level0_row55\" class=\"row_heading level0 row55\" >55</th>\n",
       "      <td id=\"T_6c561_row55_col0\" class=\"data row55 col0\" >Feature Interaction</td>\n",
       "      <td id=\"T_6c561_row55_col1\" class=\"data row55 col1\" >0</td>\n",
       "    </tr>\n",
       "    <tr>\n",
       "      <th id=\"T_6c561_level0_row56\" class=\"row_heading level0 row56\" >56</th>\n",
       "      <td id=\"T_6c561_row56_col0\" class=\"data row56 col0\" >Feature Ratio</td>\n",
       "      <td id=\"T_6c561_row56_col1\" class=\"data row56 col1\" >0</td>\n",
       "    </tr>\n",
       "    <tr>\n",
       "      <th id=\"T_6c561_level0_row57\" class=\"row_heading level0 row57\" >57</th>\n",
       "      <td id=\"T_6c561_row57_col0\" class=\"data row57 col0\" >Interaction Threshold</td>\n",
       "      <td id=\"T_6c561_row57_col1\" class=\"data row57 col1\" >None</td>\n",
       "    </tr>\n",
       "    <tr>\n",
       "      <th id=\"T_6c561_level0_row58\" class=\"row_heading level0 row58\" >58</th>\n",
       "      <td id=\"T_6c561_row58_col0\" class=\"data row58 col0\" >Fix Imbalance</td>\n",
       "      <td id=\"T_6c561_row58_col1\" class=\"data row58 col1\" >0</td>\n",
       "    </tr>\n",
       "    <tr>\n",
       "      <th id=\"T_6c561_level0_row59\" class=\"row_heading level0 row59\" >59</th>\n",
       "      <td id=\"T_6c561_row59_col0\" class=\"data row59 col0\" >Fix Imbalance Method</td>\n",
       "      <td id=\"T_6c561_row59_col1\" class=\"data row59 col1\" >SMOTE</td>\n",
       "    </tr>\n",
       "  </tbody>\n",
       "</table>\n"
      ],
      "text/plain": [
       "<pandas.io.formats.style.Styler at 0x2b0b11422b0>"
      ]
     },
     "metadata": {},
     "output_type": "display_data"
    }
   ],
   "source": [
    "ros = RandomOverSampler(sampling_strategy='minority')\n",
    "ros_setup = setup(df, target = 'died', train_size = 0.8,session_id=2022, experiment_name='tavr_ros')"
   ]
  },
  {
   "cell_type": "markdown",
   "id": "da8ee078",
   "metadata": {},
   "source": [
    "## RandomOverSampler"
   ]
  },
  {
   "cell_type": "code",
   "execution_count": 14,
   "id": "8ace80d1",
   "metadata": {},
   "outputs": [
    {
     "data": {
      "text/html": [
       "<style type=\"text/css\">\n",
       "#T_3cdf1_row5_col1, #T_3cdf1_row19_col1, #T_3cdf1_row29_col1, #T_3cdf1_row42_col1, #T_3cdf1_row44_col1, #T_3cdf1_row52_col1, #T_3cdf1_row58_col1 {\n",
       "  background-color: lightgreen;\n",
       "}\n",
       "</style>\n",
       "<table id=\"T_3cdf1\">\n",
       "  <thead>\n",
       "    <tr>\n",
       "      <th class=\"blank level0\" >&nbsp;</th>\n",
       "      <th id=\"T_3cdf1_level0_col0\" class=\"col_heading level0 col0\" >Description</th>\n",
       "      <th id=\"T_3cdf1_level0_col1\" class=\"col_heading level0 col1\" >Value</th>\n",
       "    </tr>\n",
       "  </thead>\n",
       "  <tbody>\n",
       "    <tr>\n",
       "      <th id=\"T_3cdf1_level0_row0\" class=\"row_heading level0 row0\" >0</th>\n",
       "      <td id=\"T_3cdf1_row0_col0\" class=\"data row0 col0\" >session_id</td>\n",
       "      <td id=\"T_3cdf1_row0_col1\" class=\"data row0 col1\" >2022</td>\n",
       "    </tr>\n",
       "    <tr>\n",
       "      <th id=\"T_3cdf1_level0_row1\" class=\"row_heading level0 row1\" >1</th>\n",
       "      <td id=\"T_3cdf1_row1_col0\" class=\"data row1 col0\" >Target</td>\n",
       "      <td id=\"T_3cdf1_row1_col1\" class=\"data row1 col1\" >died</td>\n",
       "    </tr>\n",
       "    <tr>\n",
       "      <th id=\"T_3cdf1_level0_row2\" class=\"row_heading level0 row2\" >2</th>\n",
       "      <td id=\"T_3cdf1_row2_col0\" class=\"data row2 col0\" >Target Type</td>\n",
       "      <td id=\"T_3cdf1_row2_col1\" class=\"data row2 col1\" >Binary</td>\n",
       "    </tr>\n",
       "    <tr>\n",
       "      <th id=\"T_3cdf1_level0_row3\" class=\"row_heading level0 row3\" >3</th>\n",
       "      <td id=\"T_3cdf1_row3_col0\" class=\"data row3 col0\" >Label Encoded</td>\n",
       "      <td id=\"T_3cdf1_row3_col1\" class=\"data row3 col1\" >No: 0, Yes: 1</td>\n",
       "    </tr>\n",
       "    <tr>\n",
       "      <th id=\"T_3cdf1_level0_row4\" class=\"row_heading level0 row4\" >4</th>\n",
       "      <td id=\"T_3cdf1_row4_col0\" class=\"data row4 col0\" >Original Data</td>\n",
       "      <td id=\"T_3cdf1_row4_col1\" class=\"data row4 col1\" >(54739, 47)</td>\n",
       "    </tr>\n",
       "    <tr>\n",
       "      <th id=\"T_3cdf1_level0_row5\" class=\"row_heading level0 row5\" >5</th>\n",
       "      <td id=\"T_3cdf1_row5_col0\" class=\"data row5 col0\" >Missing Values</td>\n",
       "      <td id=\"T_3cdf1_row5_col1\" class=\"data row5 col1\" >1</td>\n",
       "    </tr>\n",
       "    <tr>\n",
       "      <th id=\"T_3cdf1_level0_row6\" class=\"row_heading level0 row6\" >6</th>\n",
       "      <td id=\"T_3cdf1_row6_col0\" class=\"data row6 col0\" >Numeric Features</td>\n",
       "      <td id=\"T_3cdf1_row6_col1\" class=\"data row6 col1\" >2</td>\n",
       "    </tr>\n",
       "    <tr>\n",
       "      <th id=\"T_3cdf1_level0_row7\" class=\"row_heading level0 row7\" >7</th>\n",
       "      <td id=\"T_3cdf1_row7_col0\" class=\"data row7 col0\" >Categorical Features</td>\n",
       "      <td id=\"T_3cdf1_row7_col1\" class=\"data row7 col1\" >44</td>\n",
       "    </tr>\n",
       "    <tr>\n",
       "      <th id=\"T_3cdf1_level0_row8\" class=\"row_heading level0 row8\" >8</th>\n",
       "      <td id=\"T_3cdf1_row8_col0\" class=\"data row8 col0\" >Ordinal Features</td>\n",
       "      <td id=\"T_3cdf1_row8_col1\" class=\"data row8 col1\" >0</td>\n",
       "    </tr>\n",
       "    <tr>\n",
       "      <th id=\"T_3cdf1_level0_row9\" class=\"row_heading level0 row9\" >9</th>\n",
       "      <td id=\"T_3cdf1_row9_col0\" class=\"data row9 col0\" >High Cardinality Features</td>\n",
       "      <td id=\"T_3cdf1_row9_col1\" class=\"data row9 col1\" >0</td>\n",
       "    </tr>\n",
       "    <tr>\n",
       "      <th id=\"T_3cdf1_level0_row10\" class=\"row_heading level0 row10\" >10</th>\n",
       "      <td id=\"T_3cdf1_row10_col0\" class=\"data row10 col0\" >High Cardinality Method</td>\n",
       "      <td id=\"T_3cdf1_row10_col1\" class=\"data row10 col1\" >None</td>\n",
       "    </tr>\n",
       "    <tr>\n",
       "      <th id=\"T_3cdf1_level0_row11\" class=\"row_heading level0 row11\" >11</th>\n",
       "      <td id=\"T_3cdf1_row11_col0\" class=\"data row11 col0\" >Transformed Train Set</td>\n",
       "      <td id=\"T_3cdf1_row11_col1\" class=\"data row11 col1\" >(43791, 70)</td>\n",
       "    </tr>\n",
       "    <tr>\n",
       "      <th id=\"T_3cdf1_level0_row12\" class=\"row_heading level0 row12\" >12</th>\n",
       "      <td id=\"T_3cdf1_row12_col0\" class=\"data row12 col0\" >Transformed Test Set</td>\n",
       "      <td id=\"T_3cdf1_row12_col1\" class=\"data row12 col1\" >(10948, 70)</td>\n",
       "    </tr>\n",
       "    <tr>\n",
       "      <th id=\"T_3cdf1_level0_row13\" class=\"row_heading level0 row13\" >13</th>\n",
       "      <td id=\"T_3cdf1_row13_col0\" class=\"data row13 col0\" >Shuffle Train-Test</td>\n",
       "      <td id=\"T_3cdf1_row13_col1\" class=\"data row13 col1\" >True</td>\n",
       "    </tr>\n",
       "    <tr>\n",
       "      <th id=\"T_3cdf1_level0_row14\" class=\"row_heading level0 row14\" >14</th>\n",
       "      <td id=\"T_3cdf1_row14_col0\" class=\"data row14 col0\" >Stratify Train-Test</td>\n",
       "      <td id=\"T_3cdf1_row14_col1\" class=\"data row14 col1\" >False</td>\n",
       "    </tr>\n",
       "    <tr>\n",
       "      <th id=\"T_3cdf1_level0_row15\" class=\"row_heading level0 row15\" >15</th>\n",
       "      <td id=\"T_3cdf1_row15_col0\" class=\"data row15 col0\" >Fold Generator</td>\n",
       "      <td id=\"T_3cdf1_row15_col1\" class=\"data row15 col1\" >StratifiedKFold</td>\n",
       "    </tr>\n",
       "    <tr>\n",
       "      <th id=\"T_3cdf1_level0_row16\" class=\"row_heading level0 row16\" >16</th>\n",
       "      <td id=\"T_3cdf1_row16_col0\" class=\"data row16 col0\" >Fold Number</td>\n",
       "      <td id=\"T_3cdf1_row16_col1\" class=\"data row16 col1\" >5</td>\n",
       "    </tr>\n",
       "    <tr>\n",
       "      <th id=\"T_3cdf1_level0_row17\" class=\"row_heading level0 row17\" >17</th>\n",
       "      <td id=\"T_3cdf1_row17_col0\" class=\"data row17 col0\" >CPU Jobs</td>\n",
       "      <td id=\"T_3cdf1_row17_col1\" class=\"data row17 col1\" >-1</td>\n",
       "    </tr>\n",
       "    <tr>\n",
       "      <th id=\"T_3cdf1_level0_row18\" class=\"row_heading level0 row18\" >18</th>\n",
       "      <td id=\"T_3cdf1_row18_col0\" class=\"data row18 col0\" >Use GPU</td>\n",
       "      <td id=\"T_3cdf1_row18_col1\" class=\"data row18 col1\" >0</td>\n",
       "    </tr>\n",
       "    <tr>\n",
       "      <th id=\"T_3cdf1_level0_row19\" class=\"row_heading level0 row19\" >19</th>\n",
       "      <td id=\"T_3cdf1_row19_col0\" class=\"data row19 col0\" >Log Experiment</td>\n",
       "      <td id=\"T_3cdf1_row19_col1\" class=\"data row19 col1\" >1</td>\n",
       "    </tr>\n",
       "    <tr>\n",
       "      <th id=\"T_3cdf1_level0_row20\" class=\"row_heading level0 row20\" >20</th>\n",
       "      <td id=\"T_3cdf1_row20_col0\" class=\"data row20 col0\" >Experiment Name</td>\n",
       "      <td id=\"T_3cdf1_row20_col1\" class=\"data row20 col1\" >tavr_ros</td>\n",
       "    </tr>\n",
       "    <tr>\n",
       "      <th id=\"T_3cdf1_level0_row21\" class=\"row_heading level0 row21\" >21</th>\n",
       "      <td id=\"T_3cdf1_row21_col0\" class=\"data row21 col0\" >USI</td>\n",
       "      <td id=\"T_3cdf1_row21_col1\" class=\"data row21 col1\" >3f38</td>\n",
       "    </tr>\n",
       "    <tr>\n",
       "      <th id=\"T_3cdf1_level0_row22\" class=\"row_heading level0 row22\" >22</th>\n",
       "      <td id=\"T_3cdf1_row22_col0\" class=\"data row22 col0\" >Imputation Type</td>\n",
       "      <td id=\"T_3cdf1_row22_col1\" class=\"data row22 col1\" >iterative</td>\n",
       "    </tr>\n",
       "    <tr>\n",
       "      <th id=\"T_3cdf1_level0_row23\" class=\"row_heading level0 row23\" >23</th>\n",
       "      <td id=\"T_3cdf1_row23_col0\" class=\"data row23 col0\" >Iterative Imputation Iteration</td>\n",
       "      <td id=\"T_3cdf1_row23_col1\" class=\"data row23 col1\" >5</td>\n",
       "    </tr>\n",
       "    <tr>\n",
       "      <th id=\"T_3cdf1_level0_row24\" class=\"row_heading level0 row24\" >24</th>\n",
       "      <td id=\"T_3cdf1_row24_col0\" class=\"data row24 col0\" >Numeric Imputer</td>\n",
       "      <td id=\"T_3cdf1_row24_col1\" class=\"data row24 col1\" >mean</td>\n",
       "    </tr>\n",
       "    <tr>\n",
       "      <th id=\"T_3cdf1_level0_row25\" class=\"row_heading level0 row25\" >25</th>\n",
       "      <td id=\"T_3cdf1_row25_col0\" class=\"data row25 col0\" >Iterative Imputation Numeric Model</td>\n",
       "      <td id=\"T_3cdf1_row25_col1\" class=\"data row25 col1\" >Light Gradient Boosting Machine</td>\n",
       "    </tr>\n",
       "    <tr>\n",
       "      <th id=\"T_3cdf1_level0_row26\" class=\"row_heading level0 row26\" >26</th>\n",
       "      <td id=\"T_3cdf1_row26_col0\" class=\"data row26 col0\" >Categorical Imputer</td>\n",
       "      <td id=\"T_3cdf1_row26_col1\" class=\"data row26 col1\" >constant</td>\n",
       "    </tr>\n",
       "    <tr>\n",
       "      <th id=\"T_3cdf1_level0_row27\" class=\"row_heading level0 row27\" >27</th>\n",
       "      <td id=\"T_3cdf1_row27_col0\" class=\"data row27 col0\" >Iterative Imputation Categorical Model</td>\n",
       "      <td id=\"T_3cdf1_row27_col1\" class=\"data row27 col1\" >Light Gradient Boosting Machine</td>\n",
       "    </tr>\n",
       "    <tr>\n",
       "      <th id=\"T_3cdf1_level0_row28\" class=\"row_heading level0 row28\" >28</th>\n",
       "      <td id=\"T_3cdf1_row28_col0\" class=\"data row28 col0\" >Unknown Categoricals Handling</td>\n",
       "      <td id=\"T_3cdf1_row28_col1\" class=\"data row28 col1\" >least_frequent</td>\n",
       "    </tr>\n",
       "    <tr>\n",
       "      <th id=\"T_3cdf1_level0_row29\" class=\"row_heading level0 row29\" >29</th>\n",
       "      <td id=\"T_3cdf1_row29_col0\" class=\"data row29 col0\" >Normalize</td>\n",
       "      <td id=\"T_3cdf1_row29_col1\" class=\"data row29 col1\" >1</td>\n",
       "    </tr>\n",
       "    <tr>\n",
       "      <th id=\"T_3cdf1_level0_row30\" class=\"row_heading level0 row30\" >30</th>\n",
       "      <td id=\"T_3cdf1_row30_col0\" class=\"data row30 col0\" >Normalize Method</td>\n",
       "      <td id=\"T_3cdf1_row30_col1\" class=\"data row30 col1\" >minmax</td>\n",
       "    </tr>\n",
       "    <tr>\n",
       "      <th id=\"T_3cdf1_level0_row31\" class=\"row_heading level0 row31\" >31</th>\n",
       "      <td id=\"T_3cdf1_row31_col0\" class=\"data row31 col0\" >Transformation</td>\n",
       "      <td id=\"T_3cdf1_row31_col1\" class=\"data row31 col1\" >0</td>\n",
       "    </tr>\n",
       "    <tr>\n",
       "      <th id=\"T_3cdf1_level0_row32\" class=\"row_heading level0 row32\" >32</th>\n",
       "      <td id=\"T_3cdf1_row32_col0\" class=\"data row32 col0\" >Transformation Method</td>\n",
       "      <td id=\"T_3cdf1_row32_col1\" class=\"data row32 col1\" >None</td>\n",
       "    </tr>\n",
       "    <tr>\n",
       "      <th id=\"T_3cdf1_level0_row33\" class=\"row_heading level0 row33\" >33</th>\n",
       "      <td id=\"T_3cdf1_row33_col0\" class=\"data row33 col0\" >PCA</td>\n",
       "      <td id=\"T_3cdf1_row33_col1\" class=\"data row33 col1\" >0</td>\n",
       "    </tr>\n",
       "    <tr>\n",
       "      <th id=\"T_3cdf1_level0_row34\" class=\"row_heading level0 row34\" >34</th>\n",
       "      <td id=\"T_3cdf1_row34_col0\" class=\"data row34 col0\" >PCA Method</td>\n",
       "      <td id=\"T_3cdf1_row34_col1\" class=\"data row34 col1\" >None</td>\n",
       "    </tr>\n",
       "    <tr>\n",
       "      <th id=\"T_3cdf1_level0_row35\" class=\"row_heading level0 row35\" >35</th>\n",
       "      <td id=\"T_3cdf1_row35_col0\" class=\"data row35 col0\" >PCA Components</td>\n",
       "      <td id=\"T_3cdf1_row35_col1\" class=\"data row35 col1\" >None</td>\n",
       "    </tr>\n",
       "    <tr>\n",
       "      <th id=\"T_3cdf1_level0_row36\" class=\"row_heading level0 row36\" >36</th>\n",
       "      <td id=\"T_3cdf1_row36_col0\" class=\"data row36 col0\" >Ignore Low Variance</td>\n",
       "      <td id=\"T_3cdf1_row36_col1\" class=\"data row36 col1\" >0</td>\n",
       "    </tr>\n",
       "    <tr>\n",
       "      <th id=\"T_3cdf1_level0_row37\" class=\"row_heading level0 row37\" >37</th>\n",
       "      <td id=\"T_3cdf1_row37_col0\" class=\"data row37 col0\" >Combine Rare Levels</td>\n",
       "      <td id=\"T_3cdf1_row37_col1\" class=\"data row37 col1\" >0</td>\n",
       "    </tr>\n",
       "    <tr>\n",
       "      <th id=\"T_3cdf1_level0_row38\" class=\"row_heading level0 row38\" >38</th>\n",
       "      <td id=\"T_3cdf1_row38_col0\" class=\"data row38 col0\" >Rare Level Threshold</td>\n",
       "      <td id=\"T_3cdf1_row38_col1\" class=\"data row38 col1\" >None</td>\n",
       "    </tr>\n",
       "    <tr>\n",
       "      <th id=\"T_3cdf1_level0_row39\" class=\"row_heading level0 row39\" >39</th>\n",
       "      <td id=\"T_3cdf1_row39_col0\" class=\"data row39 col0\" >Numeric Binning</td>\n",
       "      <td id=\"T_3cdf1_row39_col1\" class=\"data row39 col1\" >0</td>\n",
       "    </tr>\n",
       "    <tr>\n",
       "      <th id=\"T_3cdf1_level0_row40\" class=\"row_heading level0 row40\" >40</th>\n",
       "      <td id=\"T_3cdf1_row40_col0\" class=\"data row40 col0\" >Remove Outliers</td>\n",
       "      <td id=\"T_3cdf1_row40_col1\" class=\"data row40 col1\" >0</td>\n",
       "    </tr>\n",
       "    <tr>\n",
       "      <th id=\"T_3cdf1_level0_row41\" class=\"row_heading level0 row41\" >41</th>\n",
       "      <td id=\"T_3cdf1_row41_col0\" class=\"data row41 col0\" >Outliers Threshold</td>\n",
       "      <td id=\"T_3cdf1_row41_col1\" class=\"data row41 col1\" >None</td>\n",
       "    </tr>\n",
       "    <tr>\n",
       "      <th id=\"T_3cdf1_level0_row42\" class=\"row_heading level0 row42\" >42</th>\n",
       "      <td id=\"T_3cdf1_row42_col0\" class=\"data row42 col0\" >Remove Multicollinearity</td>\n",
       "      <td id=\"T_3cdf1_row42_col1\" class=\"data row42 col1\" >1</td>\n",
       "    </tr>\n",
       "    <tr>\n",
       "      <th id=\"T_3cdf1_level0_row43\" class=\"row_heading level0 row43\" >43</th>\n",
       "      <td id=\"T_3cdf1_row43_col0\" class=\"data row43 col0\" >Multicollinearity Threshold</td>\n",
       "      <td id=\"T_3cdf1_row43_col1\" class=\"data row43 col1\" >0.900000</td>\n",
       "    </tr>\n",
       "    <tr>\n",
       "      <th id=\"T_3cdf1_level0_row44\" class=\"row_heading level0 row44\" >44</th>\n",
       "      <td id=\"T_3cdf1_row44_col0\" class=\"data row44 col0\" >Remove Perfect Collinearity</td>\n",
       "      <td id=\"T_3cdf1_row44_col1\" class=\"data row44 col1\" >1</td>\n",
       "    </tr>\n",
       "    <tr>\n",
       "      <th id=\"T_3cdf1_level0_row45\" class=\"row_heading level0 row45\" >45</th>\n",
       "      <td id=\"T_3cdf1_row45_col0\" class=\"data row45 col0\" >Clustering</td>\n",
       "      <td id=\"T_3cdf1_row45_col1\" class=\"data row45 col1\" >0</td>\n",
       "    </tr>\n",
       "    <tr>\n",
       "      <th id=\"T_3cdf1_level0_row46\" class=\"row_heading level0 row46\" >46</th>\n",
       "      <td id=\"T_3cdf1_row46_col0\" class=\"data row46 col0\" >Clustering Iteration</td>\n",
       "      <td id=\"T_3cdf1_row46_col1\" class=\"data row46 col1\" >None</td>\n",
       "    </tr>\n",
       "    <tr>\n",
       "      <th id=\"T_3cdf1_level0_row47\" class=\"row_heading level0 row47\" >47</th>\n",
       "      <td id=\"T_3cdf1_row47_col0\" class=\"data row47 col0\" >Polynomial Features</td>\n",
       "      <td id=\"T_3cdf1_row47_col1\" class=\"data row47 col1\" >0</td>\n",
       "    </tr>\n",
       "    <tr>\n",
       "      <th id=\"T_3cdf1_level0_row48\" class=\"row_heading level0 row48\" >48</th>\n",
       "      <td id=\"T_3cdf1_row48_col0\" class=\"data row48 col0\" >Polynomial Degree</td>\n",
       "      <td id=\"T_3cdf1_row48_col1\" class=\"data row48 col1\" >None</td>\n",
       "    </tr>\n",
       "    <tr>\n",
       "      <th id=\"T_3cdf1_level0_row49\" class=\"row_heading level0 row49\" >49</th>\n",
       "      <td id=\"T_3cdf1_row49_col0\" class=\"data row49 col0\" >Trignometry Features</td>\n",
       "      <td id=\"T_3cdf1_row49_col1\" class=\"data row49 col1\" >0</td>\n",
       "    </tr>\n",
       "    <tr>\n",
       "      <th id=\"T_3cdf1_level0_row50\" class=\"row_heading level0 row50\" >50</th>\n",
       "      <td id=\"T_3cdf1_row50_col0\" class=\"data row50 col0\" >Polynomial Threshold</td>\n",
       "      <td id=\"T_3cdf1_row50_col1\" class=\"data row50 col1\" >None</td>\n",
       "    </tr>\n",
       "    <tr>\n",
       "      <th id=\"T_3cdf1_level0_row51\" class=\"row_heading level0 row51\" >51</th>\n",
       "      <td id=\"T_3cdf1_row51_col0\" class=\"data row51 col0\" >Group Features</td>\n",
       "      <td id=\"T_3cdf1_row51_col1\" class=\"data row51 col1\" >0</td>\n",
       "    </tr>\n",
       "    <tr>\n",
       "      <th id=\"T_3cdf1_level0_row52\" class=\"row_heading level0 row52\" >52</th>\n",
       "      <td id=\"T_3cdf1_row52_col0\" class=\"data row52 col0\" >Feature Selection</td>\n",
       "      <td id=\"T_3cdf1_row52_col1\" class=\"data row52 col1\" >1</td>\n",
       "    </tr>\n",
       "    <tr>\n",
       "      <th id=\"T_3cdf1_level0_row53\" class=\"row_heading level0 row53\" >53</th>\n",
       "      <td id=\"T_3cdf1_row53_col0\" class=\"data row53 col0\" >Feature Selection Method</td>\n",
       "      <td id=\"T_3cdf1_row53_col1\" class=\"data row53 col1\" >classic</td>\n",
       "    </tr>\n",
       "    <tr>\n",
       "      <th id=\"T_3cdf1_level0_row54\" class=\"row_heading level0 row54\" >54</th>\n",
       "      <td id=\"T_3cdf1_row54_col0\" class=\"data row54 col0\" >Features Selection Threshold</td>\n",
       "      <td id=\"T_3cdf1_row54_col1\" class=\"data row54 col1\" >0.800000</td>\n",
       "    </tr>\n",
       "    <tr>\n",
       "      <th id=\"T_3cdf1_level0_row55\" class=\"row_heading level0 row55\" >55</th>\n",
       "      <td id=\"T_3cdf1_row55_col0\" class=\"data row55 col0\" >Feature Interaction</td>\n",
       "      <td id=\"T_3cdf1_row55_col1\" class=\"data row55 col1\" >0</td>\n",
       "    </tr>\n",
       "    <tr>\n",
       "      <th id=\"T_3cdf1_level0_row56\" class=\"row_heading level0 row56\" >56</th>\n",
       "      <td id=\"T_3cdf1_row56_col0\" class=\"data row56 col0\" >Feature Ratio</td>\n",
       "      <td id=\"T_3cdf1_row56_col1\" class=\"data row56 col1\" >0</td>\n",
       "    </tr>\n",
       "    <tr>\n",
       "      <th id=\"T_3cdf1_level0_row57\" class=\"row_heading level0 row57\" >57</th>\n",
       "      <td id=\"T_3cdf1_row57_col0\" class=\"data row57 col0\" >Interaction Threshold</td>\n",
       "      <td id=\"T_3cdf1_row57_col1\" class=\"data row57 col1\" >None</td>\n",
       "    </tr>\n",
       "    <tr>\n",
       "      <th id=\"T_3cdf1_level0_row58\" class=\"row_heading level0 row58\" >58</th>\n",
       "      <td id=\"T_3cdf1_row58_col0\" class=\"data row58 col0\" >Fix Imbalance</td>\n",
       "      <td id=\"T_3cdf1_row58_col1\" class=\"data row58 col1\" >1</td>\n",
       "    </tr>\n",
       "    <tr>\n",
       "      <th id=\"T_3cdf1_level0_row59\" class=\"row_heading level0 row59\" >59</th>\n",
       "      <td id=\"T_3cdf1_row59_col0\" class=\"data row59 col0\" >Fix Imbalance Method</td>\n",
       "      <td id=\"T_3cdf1_row59_col1\" class=\"data row59 col1\" >RandomOverSampler</td>\n",
       "    </tr>\n",
       "  </tbody>\n",
       "</table>\n"
      ],
      "text/plain": [
       "<pandas.io.formats.style.Styler at 0x2b0ac1ac160>"
      ]
     },
     "metadata": {},
     "output_type": "display_data"
    }
   ],
   "source": [
    "ros = RandomOverSampler(sampling_strategy='minority')\n",
    "ros_setup = setup(df, target = 'died', train_size = 0.8, preprocess = True, imputation_type = 'iterative', categorical_imputation = 'constant',\n",
    "                      handle_unknown_categorical = True, fix_imbalance=True, fix_imbalance_method=ros, fold_strategy = 'stratifiedkfold', fold = 5, n_jobs = -1,\n",
    "                      session_id=2022, experiment_name='tavr_ros', log_experiment=True ,normalize = True, normalize_method ='minmax', feature_selection= True, remove_multicollinearity= True)"
   ]
  },
  {
   "cell_type": "code",
   "execution_count": 15,
   "id": "04dc9917",
   "metadata": {},
   "outputs": [
    {
     "data": {
      "text/plain": [
       "Name                                                 Balanced Accuracy\n",
       "Display Name                                         Balanced Accuracy\n",
       "Score Function       <function balanced_accuracy_score at 0x000002B...\n",
       "Scorer                            make_scorer(balanced_accuracy_score)\n",
       "Target                                                            pred\n",
       "Args                                                                {}\n",
       "Greater is Better                                                 True\n",
       "Multiclass                                                        True\n",
       "Custom                                                            True\n",
       "Name: Balanced_Accuracy, dtype: object"
      ]
     },
     "execution_count": 15,
     "metadata": {},
     "output_type": "execute_result"
    }
   ],
   "source": [
    "# adding specificity and balanced accuracy to the computed metrics\n",
    "add_metric('Spec', 'Spec.', im.metrics.specificity_score)\n",
    "add_metric('Balanced Accuracy', 'Balanced Accuracy', sklearn.metrics.balanced_accuracy_score)\n",
    "add_metric('AUPRC_ID','AUPRC',sklearn.metrics.average_precision_score, greater_is_better = True)"
   ]
  },
  {
   "cell_type": "code",
   "execution_count": 16,
   "id": "acf8795e",
   "metadata": {},
   "outputs": [
    {
     "data": {
      "text/html": [
       "<style type=\"text/css\">\n",
       "#T_1f32f th {\n",
       "  text-align: left;\n",
       "}\n",
       "#T_1f32f_row0_col0, #T_1f32f_row0_col1, #T_1f32f_row0_col2, #T_1f32f_row0_col3, #T_1f32f_row0_col4, #T_1f32f_row0_col5, #T_1f32f_row0_col6, #T_1f32f_row0_col8, #T_1f32f_row1_col0, #T_1f32f_row1_col1, #T_1f32f_row1_col2, #T_1f32f_row1_col3, #T_1f32f_row1_col4, #T_1f32f_row1_col5, #T_1f32f_row1_col6, #T_1f32f_row1_col7, #T_1f32f_row1_col8, #T_1f32f_row1_col9, #T_1f32f_row2_col0, #T_1f32f_row2_col1, #T_1f32f_row2_col2, #T_1f32f_row2_col3, #T_1f32f_row2_col4, #T_1f32f_row2_col5, #T_1f32f_row2_col6, #T_1f32f_row2_col7, #T_1f32f_row2_col8, #T_1f32f_row2_col9, #T_1f32f_row3_col0, #T_1f32f_row3_col1, #T_1f32f_row3_col3, #T_1f32f_row3_col4, #T_1f32f_row3_col5, #T_1f32f_row3_col6, #T_1f32f_row3_col7, #T_1f32f_row3_col8, #T_1f32f_row3_col9, #T_1f32f_row4_col0, #T_1f32f_row4_col1, #T_1f32f_row4_col2, #T_1f32f_row4_col4, #T_1f32f_row4_col5, #T_1f32f_row4_col6, #T_1f32f_row4_col7, #T_1f32f_row4_col8, #T_1f32f_row4_col9, #T_1f32f_row5_col0, #T_1f32f_row5_col1, #T_1f32f_row5_col2, #T_1f32f_row5_col3, #T_1f32f_row5_col4, #T_1f32f_row5_col5, #T_1f32f_row5_col6, #T_1f32f_row5_col7, #T_1f32f_row5_col8, #T_1f32f_row5_col9, #T_1f32f_row6_col0, #T_1f32f_row6_col1, #T_1f32f_row6_col2, #T_1f32f_row6_col3, #T_1f32f_row6_col4, #T_1f32f_row6_col5, #T_1f32f_row6_col6, #T_1f32f_row6_col7, #T_1f32f_row6_col8, #T_1f32f_row6_col9, #T_1f32f_row7_col0, #T_1f32f_row7_col1, #T_1f32f_row7_col2, #T_1f32f_row7_col3, #T_1f32f_row7_col4, #T_1f32f_row7_col5, #T_1f32f_row7_col6, #T_1f32f_row7_col7, #T_1f32f_row7_col8, #T_1f32f_row7_col9, #T_1f32f_row8_col0, #T_1f32f_row8_col1, #T_1f32f_row8_col2, #T_1f32f_row8_col3, #T_1f32f_row8_col4, #T_1f32f_row8_col5, #T_1f32f_row8_col6, #T_1f32f_row8_col7, #T_1f32f_row8_col8, #T_1f32f_row8_col9, #T_1f32f_row9_col0, #T_1f32f_row9_col1, #T_1f32f_row9_col2, #T_1f32f_row9_col3, #T_1f32f_row9_col4, #T_1f32f_row9_col7, #T_1f32f_row9_col8, #T_1f32f_row9_col9, #T_1f32f_row10_col0, #T_1f32f_row10_col1, #T_1f32f_row10_col2, #T_1f32f_row10_col3, #T_1f32f_row10_col4, #T_1f32f_row10_col5, #T_1f32f_row10_col6, #T_1f32f_row10_col7, #T_1f32f_row10_col8, #T_1f32f_row10_col9, #T_1f32f_row11_col0, #T_1f32f_row11_col1, #T_1f32f_row11_col2, #T_1f32f_row11_col3, #T_1f32f_row11_col4, #T_1f32f_row11_col5, #T_1f32f_row11_col6, #T_1f32f_row11_col7, #T_1f32f_row11_col8, #T_1f32f_row11_col9, #T_1f32f_row12_col0, #T_1f32f_row12_col1, #T_1f32f_row12_col2, #T_1f32f_row12_col3, #T_1f32f_row12_col5, #T_1f32f_row12_col6, #T_1f32f_row12_col7, #T_1f32f_row12_col8, #T_1f32f_row12_col9, #T_1f32f_row13_col0, #T_1f32f_row13_col1, #T_1f32f_row13_col2, #T_1f32f_row13_col3, #T_1f32f_row13_col4, #T_1f32f_row13_col5, #T_1f32f_row13_col6, #T_1f32f_row13_col7, #T_1f32f_row13_col8, #T_1f32f_row13_col9, #T_1f32f_row14_col0, #T_1f32f_row14_col2, #T_1f32f_row14_col3, #T_1f32f_row14_col4, #T_1f32f_row14_col5, #T_1f32f_row14_col6, #T_1f32f_row14_col7, #T_1f32f_row14_col9, #T_1f32f_row15_col0, #T_1f32f_row15_col1, #T_1f32f_row15_col2, #T_1f32f_row15_col3, #T_1f32f_row15_col4, #T_1f32f_row15_col5, #T_1f32f_row15_col6, #T_1f32f_row15_col7, #T_1f32f_row15_col8, #T_1f32f_row15_col9 {\n",
       "  text-align: left;\n",
       "}\n",
       "#T_1f32f_row0_col7, #T_1f32f_row0_col9, #T_1f32f_row3_col2, #T_1f32f_row4_col3, #T_1f32f_row9_col5, #T_1f32f_row9_col6, #T_1f32f_row12_col4, #T_1f32f_row14_col1, #T_1f32f_row14_col8 {\n",
       "  text-align: left;\n",
       "  background-color: yellow;\n",
       "}\n",
       "#T_1f32f_row0_col10, #T_1f32f_row1_col10, #T_1f32f_row2_col10, #T_1f32f_row3_col10, #T_1f32f_row4_col10, #T_1f32f_row5_col10, #T_1f32f_row6_col10, #T_1f32f_row7_col10, #T_1f32f_row8_col10, #T_1f32f_row9_col10, #T_1f32f_row10_col10, #T_1f32f_row11_col10, #T_1f32f_row12_col10, #T_1f32f_row13_col10, #T_1f32f_row15_col10 {\n",
       "  text-align: left;\n",
       "  background-color: lightgrey;\n",
       "}\n",
       "#T_1f32f_row14_col10 {\n",
       "  text-align: left;\n",
       "  background-color: yellow;\n",
       "  background-color: lightgrey;\n",
       "}\n",
       "</style>\n",
       "<table id=\"T_1f32f\">\n",
       "  <thead>\n",
       "    <tr>\n",
       "      <th class=\"blank level0\" >&nbsp;</th>\n",
       "      <th id=\"T_1f32f_level0_col0\" class=\"col_heading level0 col0\" >Model</th>\n",
       "      <th id=\"T_1f32f_level0_col1\" class=\"col_heading level0 col1\" >Accuracy</th>\n",
       "      <th id=\"T_1f32f_level0_col2\" class=\"col_heading level0 col2\" >AUC</th>\n",
       "      <th id=\"T_1f32f_level0_col3\" class=\"col_heading level0 col3\" >Recall</th>\n",
       "      <th id=\"T_1f32f_level0_col4\" class=\"col_heading level0 col4\" >Prec.</th>\n",
       "      <th id=\"T_1f32f_level0_col5\" class=\"col_heading level0 col5\" >F1</th>\n",
       "      <th id=\"T_1f32f_level0_col6\" class=\"col_heading level0 col6\" >Kappa</th>\n",
       "      <th id=\"T_1f32f_level0_col7\" class=\"col_heading level0 col7\" >MCC</th>\n",
       "      <th id=\"T_1f32f_level0_col8\" class=\"col_heading level0 col8\" >Spec.</th>\n",
       "      <th id=\"T_1f32f_level0_col9\" class=\"col_heading level0 col9\" >Balanced Accuracy</th>\n",
       "      <th id=\"T_1f32f_level0_col10\" class=\"col_heading level0 col10\" >TT (Sec)</th>\n",
       "    </tr>\n",
       "  </thead>\n",
       "  <tbody>\n",
       "    <tr>\n",
       "      <th id=\"T_1f32f_level0_row0\" class=\"row_heading level0 row0\" >svm</th>\n",
       "      <td id=\"T_1f32f_row0_col0\" class=\"data row0 col0\" >SVM - Linear Kernel</td>\n",
       "      <td id=\"T_1f32f_row0_col1\" class=\"data row0 col1\" >0.8022</td>\n",
       "      <td id=\"T_1f32f_row0_col2\" class=\"data row0 col2\" >0.0000</td>\n",
       "      <td id=\"T_1f32f_row0_col3\" class=\"data row0 col3\" >0.6599</td>\n",
       "      <td id=\"T_1f32f_row0_col4\" class=\"data row0 col4\" >0.0663</td>\n",
       "      <td id=\"T_1f32f_row0_col5\" class=\"data row0 col5\" >0.1202</td>\n",
       "      <td id=\"T_1f32f_row0_col6\" class=\"data row0 col6\" >0.0867</td>\n",
       "      <td id=\"T_1f32f_row0_col7\" class=\"data row0 col7\" >0.1635</td>\n",
       "      <td id=\"T_1f32f_row0_col8\" class=\"data row0 col8\" >0.8052</td>\n",
       "      <td id=\"T_1f32f_row0_col9\" class=\"data row0 col9\" >0.7325</td>\n",
       "      <td id=\"T_1f32f_row0_col10\" class=\"data row0 col10\" >1.6280</td>\n",
       "    </tr>\n",
       "    <tr>\n",
       "      <th id=\"T_1f32f_level0_row1\" class=\"row_heading level0 row1\" >lda</th>\n",
       "      <td id=\"T_1f32f_row1_col0\" class=\"data row1 col0\" >Linear Discriminant Analysis</td>\n",
       "      <td id=\"T_1f32f_row1_col1\" class=\"data row1 col1\" >0.7832</td>\n",
       "      <td id=\"T_1f32f_row1_col2\" class=\"data row1 col2\" >0.7995</td>\n",
       "      <td id=\"T_1f32f_row1_col3\" class=\"data row1 col3\" >0.6768</td>\n",
       "      <td id=\"T_1f32f_row1_col4\" class=\"data row1 col4\" >0.0611</td>\n",
       "      <td id=\"T_1f32f_row1_col5\" class=\"data row1 col5\" >0.1120</td>\n",
       "      <td id=\"T_1f32f_row1_col6\" class=\"data row1 col6\" >0.0778</td>\n",
       "      <td id=\"T_1f32f_row1_col7\" class=\"data row1 col7\" >0.1560</td>\n",
       "      <td id=\"T_1f32f_row1_col8\" class=\"data row1 col8\" >0.7854</td>\n",
       "      <td id=\"T_1f32f_row1_col9\" class=\"data row1 col9\" >0.7311</td>\n",
       "      <td id=\"T_1f32f_row1_col10\" class=\"data row1 col10\" >0.9420</td>\n",
       "    </tr>\n",
       "    <tr>\n",
       "      <th id=\"T_1f32f_level0_row2\" class=\"row_heading level0 row2\" >ridge</th>\n",
       "      <td id=\"T_1f32f_row2_col0\" class=\"data row2 col0\" >Ridge Classifier</td>\n",
       "      <td id=\"T_1f32f_row2_col1\" class=\"data row2 col1\" >0.7829</td>\n",
       "      <td id=\"T_1f32f_row2_col2\" class=\"data row2 col2\" >0.0000</td>\n",
       "      <td id=\"T_1f32f_row2_col3\" class=\"data row2 col3\" >0.6734</td>\n",
       "      <td id=\"T_1f32f_row2_col4\" class=\"data row2 col4\" >0.0607</td>\n",
       "      <td id=\"T_1f32f_row2_col5\" class=\"data row2 col5\" >0.1114</td>\n",
       "      <td id=\"T_1f32f_row2_col6\" class=\"data row2 col6\" >0.0772</td>\n",
       "      <td id=\"T_1f32f_row2_col7\" class=\"data row2 col7\" >0.1547</td>\n",
       "      <td id=\"T_1f32f_row2_col8\" class=\"data row2 col8\" >0.7852</td>\n",
       "      <td id=\"T_1f32f_row2_col9\" class=\"data row2 col9\" >0.7293</td>\n",
       "      <td id=\"T_1f32f_row2_col10\" class=\"data row2 col10\" >0.1740</td>\n",
       "    </tr>\n",
       "    <tr>\n",
       "      <th id=\"T_1f32f_level0_row3\" class=\"row_heading level0 row3\" >gbc</th>\n",
       "      <td id=\"T_1f32f_row3_col0\" class=\"data row3 col0\" >Gradient Boosting Classifier</td>\n",
       "      <td id=\"T_1f32f_row3_col1\" class=\"data row3 col1\" >0.8028</td>\n",
       "      <td id=\"T_1f32f_row3_col2\" class=\"data row3 col2\" >0.8064</td>\n",
       "      <td id=\"T_1f32f_row3_col3\" class=\"data row3 col3\" >0.6508</td>\n",
       "      <td id=\"T_1f32f_row3_col4\" class=\"data row3 col4\" >0.0647</td>\n",
       "      <td id=\"T_1f32f_row3_col5\" class=\"data row3 col5\" >0.1177</td>\n",
       "      <td id=\"T_1f32f_row3_col6\" class=\"data row3 col6\" >0.0840</td>\n",
       "      <td id=\"T_1f32f_row3_col7\" class=\"data row3 col7\" >0.1597</td>\n",
       "      <td id=\"T_1f32f_row3_col8\" class=\"data row3 col8\" >0.8060</td>\n",
       "      <td id=\"T_1f32f_row3_col9\" class=\"data row3 col9\" >0.7284</td>\n",
       "      <td id=\"T_1f32f_row3_col10\" class=\"data row3 col10\" >7.6420</td>\n",
       "    </tr>\n",
       "    <tr>\n",
       "      <th id=\"T_1f32f_level0_row4\" class=\"row_heading level0 row4\" >lr</th>\n",
       "      <td id=\"T_1f32f_row4_col0\" class=\"data row4 col0\" >Logistic Regression</td>\n",
       "      <td id=\"T_1f32f_row4_col1\" class=\"data row4 col1\" >0.7696</td>\n",
       "      <td id=\"T_1f32f_row4_col2\" class=\"data row4 col2\" >0.7980</td>\n",
       "      <td id=\"T_1f32f_row4_col3\" class=\"data row4 col3\" >0.6847</td>\n",
       "      <td id=\"T_1f32f_row4_col4\" class=\"data row4 col4\" >0.0582</td>\n",
       "      <td id=\"T_1f32f_row4_col5\" class=\"data row4 col5\" >0.1072</td>\n",
       "      <td id=\"T_1f32f_row4_col6\" class=\"data row4 col6\" >0.0727</td>\n",
       "      <td id=\"T_1f32f_row4_col7\" class=\"data row4 col7\" >0.1507</td>\n",
       "      <td id=\"T_1f32f_row4_col8\" class=\"data row4 col8\" >0.7714</td>\n",
       "      <td id=\"T_1f32f_row4_col9\" class=\"data row4 col9\" >0.7281</td>\n",
       "      <td id=\"T_1f32f_row4_col10\" class=\"data row4 col10\" >3.5540</td>\n",
       "    </tr>\n",
       "    <tr>\n",
       "      <th id=\"T_1f32f_level0_row5\" class=\"row_heading level0 row5\" >ada</th>\n",
       "      <td id=\"T_1f32f_row5_col0\" class=\"data row5 col0\" >Ada Boost Classifier</td>\n",
       "      <td id=\"T_1f32f_row5_col1\" class=\"data row5 col1\" >0.7807</td>\n",
       "      <td id=\"T_1f32f_row5_col2\" class=\"data row5 col2\" >0.7944</td>\n",
       "      <td id=\"T_1f32f_row5_col3\" class=\"data row5 col3\" >0.6712</td>\n",
       "      <td id=\"T_1f32f_row5_col4\" class=\"data row5 col4\" >0.0599</td>\n",
       "      <td id=\"T_1f32f_row5_col5\" class=\"data row5 col5\" >0.1100</td>\n",
       "      <td id=\"T_1f32f_row5_col6\" class=\"data row5 col6\" >0.0757</td>\n",
       "      <td id=\"T_1f32f_row5_col7\" class=\"data row5 col7\" >0.1527</td>\n",
       "      <td id=\"T_1f32f_row5_col8\" class=\"data row5 col8\" >0.7829</td>\n",
       "      <td id=\"T_1f32f_row5_col9\" class=\"data row5 col9\" >0.7271</td>\n",
       "      <td id=\"T_1f32f_row5_col10\" class=\"data row5 col10\" >1.9540</td>\n",
       "    </tr>\n",
       "    <tr>\n",
       "      <th id=\"T_1f32f_level0_row6\" class=\"row_heading level0 row6\" >nb</th>\n",
       "      <td id=\"T_1f32f_row6_col0\" class=\"data row6 col0\" >Naive Bayes</td>\n",
       "      <td id=\"T_1f32f_row6_col1\" class=\"data row6 col1\" >0.7866</td>\n",
       "      <td id=\"T_1f32f_row6_col2\" class=\"data row6 col2\" >0.7384</td>\n",
       "      <td id=\"T_1f32f_row6_col3\" class=\"data row6 col3\" >0.5853</td>\n",
       "      <td id=\"T_1f32f_row6_col4\" class=\"data row6 col4\" >0.0545</td>\n",
       "      <td id=\"T_1f32f_row6_col5\" class=\"data row6 col5\" >0.0998</td>\n",
       "      <td id=\"T_1f32f_row6_col6\" class=\"data row6 col6\" >0.0652</td>\n",
       "      <td id=\"T_1f32f_row6_col7\" class=\"data row6 col7\" >0.1284</td>\n",
       "      <td id=\"T_1f32f_row6_col8\" class=\"data row6 col8\" >0.7907</td>\n",
       "      <td id=\"T_1f32f_row6_col9\" class=\"data row6 col9\" >0.6880</td>\n",
       "      <td id=\"T_1f32f_row6_col10\" class=\"data row6 col10\" >0.2320</td>\n",
       "    </tr>\n",
       "    <tr>\n",
       "      <th id=\"T_1f32f_level0_row7\" class=\"row_heading level0 row7\" >lightgbm</th>\n",
       "      <td id=\"T_1f32f_row7_col0\" class=\"data row7 col0\" >Light Gradient Boosting Machine</td>\n",
       "      <td id=\"T_1f32f_row7_col1\" class=\"data row7 col1\" >0.8807</td>\n",
       "      <td id=\"T_1f32f_row7_col2\" class=\"data row7 col2\" >0.7791</td>\n",
       "      <td id=\"T_1f32f_row7_col3\" class=\"data row7 col3\" >0.4791</td>\n",
       "      <td id=\"T_1f32f_row7_col4\" class=\"data row7 col4\" >0.0817</td>\n",
       "      <td id=\"T_1f32f_row7_col5\" class=\"data row7 col5\" >0.1396</td>\n",
       "      <td id=\"T_1f32f_row7_col6\" class=\"data row7 col6\" >0.1088</td>\n",
       "      <td id=\"T_1f32f_row7_col7\" class=\"data row7 col7\" >0.1602</td>\n",
       "      <td id=\"T_1f32f_row7_col8\" class=\"data row7 col8\" >0.8890</td>\n",
       "      <td id=\"T_1f32f_row7_col9\" class=\"data row7 col9\" >0.6840</td>\n",
       "      <td id=\"T_1f32f_row7_col10\" class=\"data row7 col10\" >0.7760</td>\n",
       "    </tr>\n",
       "    <tr>\n",
       "      <th id=\"T_1f32f_level0_row8\" class=\"row_heading level0 row8\" >xgboost</th>\n",
       "      <td id=\"T_1f32f_row8_col0\" class=\"data row8 col0\" >Extreme Gradient Boosting</td>\n",
       "      <td id=\"T_1f32f_row8_col1\" class=\"data row8 col1\" >0.9448</td>\n",
       "      <td id=\"T_1f32f_row8_col2\" class=\"data row8 col2\" >0.7129</td>\n",
       "      <td id=\"T_1f32f_row8_col3\" class=\"data row8 col3\" >0.2181</td>\n",
       "      <td id=\"T_1f32f_row8_col4\" class=\"data row8 col4\" >0.1005</td>\n",
       "      <td id=\"T_1f32f_row8_col5\" class=\"data row8 col5\" >0.1376</td>\n",
       "      <td id=\"T_1f32f_row8_col6\" class=\"data row8 col6\" >0.1130</td>\n",
       "      <td id=\"T_1f32f_row8_col7\" class=\"data row8 col7\" >0.1222</td>\n",
       "      <td id=\"T_1f32f_row8_col8\" class=\"data row8 col8\" >0.9598</td>\n",
       "      <td id=\"T_1f32f_row8_col9\" class=\"data row8 col9\" >0.5889</td>\n",
       "      <td id=\"T_1f32f_row8_col10\" class=\"data row8 col10\" >6.9120</td>\n",
       "    </tr>\n",
       "    <tr>\n",
       "      <th id=\"T_1f32f_level0_row9\" class=\"row_heading level0 row9\" >catboost</th>\n",
       "      <td id=\"T_1f32f_row9_col0\" class=\"data row9 col0\" >CatBoost Classifier</td>\n",
       "      <td id=\"T_1f32f_row9_col1\" class=\"data row9 col1\" >0.9604</td>\n",
       "      <td id=\"T_1f32f_row9_col2\" class=\"data row9 col2\" >0.7163</td>\n",
       "      <td id=\"T_1f32f_row9_col3\" class=\"data row9 col3\" >0.1944</td>\n",
       "      <td id=\"T_1f32f_row9_col4\" class=\"data row9 col4\" >0.1446</td>\n",
       "      <td id=\"T_1f32f_row9_col5\" class=\"data row9 col5\" >0.1656</td>\n",
       "      <td id=\"T_1f32f_row9_col6\" class=\"data row9 col6\" >0.1459</td>\n",
       "      <td id=\"T_1f32f_row9_col7\" class=\"data row9 col7\" >0.1476</td>\n",
       "      <td id=\"T_1f32f_row9_col8\" class=\"data row9 col8\" >0.9762</td>\n",
       "      <td id=\"T_1f32f_row9_col9\" class=\"data row9 col9\" >0.5853</td>\n",
       "      <td id=\"T_1f32f_row9_col10\" class=\"data row9 col10\" >11.5420</td>\n",
       "    </tr>\n",
       "    <tr>\n",
       "      <th id=\"T_1f32f_level0_row10\" class=\"row_heading level0 row10\" >knn</th>\n",
       "      <td id=\"T_1f32f_row10_col0\" class=\"data row10 col0\" >K Neighbors Classifier</td>\n",
       "      <td id=\"T_1f32f_row10_col1\" class=\"data row10 col1\" >0.9443</td>\n",
       "      <td id=\"T_1f32f_row10_col2\" class=\"data row10 col2\" >0.5548</td>\n",
       "      <td id=\"T_1f32f_row10_col3\" class=\"data row10 col3\" >0.1085</td>\n",
       "      <td id=\"T_1f32f_row10_col4\" class=\"data row10 col4\" >0.0546</td>\n",
       "      <td id=\"T_1f32f_row10_col5\" class=\"data row10 col5\" >0.0726</td>\n",
       "      <td id=\"T_1f32f_row10_col6\" class=\"data row10 col6\" >0.0470</td>\n",
       "      <td id=\"T_1f32f_row10_col7\" class=\"data row10 col7\" >0.0501</td>\n",
       "      <td id=\"T_1f32f_row10_col8\" class=\"data row10 col8\" >0.9616</td>\n",
       "      <td id=\"T_1f32f_row10_col9\" class=\"data row10 col9\" >0.5350</td>\n",
       "      <td id=\"T_1f32f_row10_col10\" class=\"data row10 col10\" >74.0440</td>\n",
       "    </tr>\n",
       "    <tr>\n",
       "      <th id=\"T_1f32f_level0_row11\" class=\"row_heading level0 row11\" >dt</th>\n",
       "      <td id=\"T_1f32f_row11_col0\" class=\"data row11 col0\" >Decision Tree Classifier</td>\n",
       "      <td id=\"T_1f32f_row11_col1\" class=\"data row11 col1\" >0.9610</td>\n",
       "      <td id=\"T_1f32f_row11_col2\" class=\"data row11 col2\" >0.5264</td>\n",
       "      <td id=\"T_1f32f_row11_col3\" class=\"data row11 col3\" >0.0734</td>\n",
       "      <td id=\"T_1f32f_row11_col4\" class=\"data row11 col4\" >0.0683</td>\n",
       "      <td id=\"T_1f32f_row11_col5\" class=\"data row11 col5\" >0.0707</td>\n",
       "      <td id=\"T_1f32f_row11_col6\" class=\"data row11 col6\" >0.0509</td>\n",
       "      <td id=\"T_1f32f_row11_col7\" class=\"data row11 col7\" >0.0509</td>\n",
       "      <td id=\"T_1f32f_row11_col8\" class=\"data row11 col8\" >0.9794</td>\n",
       "      <td id=\"T_1f32f_row11_col9\" class=\"data row11 col9\" >0.5264</td>\n",
       "      <td id=\"T_1f32f_row11_col10\" class=\"data row11 col10\" >0.5600</td>\n",
       "    </tr>\n",
       "    <tr>\n",
       "      <th id=\"T_1f32f_level0_row12\" class=\"row_heading level0 row12\" >rf</th>\n",
       "      <td id=\"T_1f32f_row12_col0\" class=\"data row12 col0\" >Random Forest Classifier</td>\n",
       "      <td id=\"T_1f32f_row12_col1\" class=\"data row12 col1\" >0.9795</td>\n",
       "      <td id=\"T_1f32f_row12_col2\" class=\"data row12 col2\" >0.7698</td>\n",
       "      <td id=\"T_1f32f_row12_col3\" class=\"data row12 col3\" >0.0034</td>\n",
       "      <td id=\"T_1f32f_row12_col4\" class=\"data row12 col4\" >0.2167</td>\n",
       "      <td id=\"T_1f32f_row12_col5\" class=\"data row12 col5\" >0.0067</td>\n",
       "      <td id=\"T_1f32f_row12_col6\" class=\"data row12 col6\" >0.0059</td>\n",
       "      <td id=\"T_1f32f_row12_col7\" class=\"data row12 col7\" >0.0242</td>\n",
       "      <td id=\"T_1f32f_row12_col8\" class=\"data row12 col8\" >0.9997</td>\n",
       "      <td id=\"T_1f32f_row12_col9\" class=\"data row12 col9\" >0.5015</td>\n",
       "      <td id=\"T_1f32f_row12_col10\" class=\"data row12 col10\" >4.7100</td>\n",
       "    </tr>\n",
       "    <tr>\n",
       "      <th id=\"T_1f32f_level0_row13\" class=\"row_heading level0 row13\" >et</th>\n",
       "      <td id=\"T_1f32f_row13_col0\" class=\"data row13 col0\" >Extra Trees Classifier</td>\n",
       "      <td id=\"T_1f32f_row13_col1\" class=\"data row13 col1\" >0.9796</td>\n",
       "      <td id=\"T_1f32f_row13_col2\" class=\"data row13 col2\" >0.7430</td>\n",
       "      <td id=\"T_1f32f_row13_col3\" class=\"data row13 col3\" >0.0011</td>\n",
       "      <td id=\"T_1f32f_row13_col4\" class=\"data row13 col4\" >0.1000</td>\n",
       "      <td id=\"T_1f32f_row13_col5\" class=\"data row13 col5\" >0.0022</td>\n",
       "      <td id=\"T_1f32f_row13_col6\" class=\"data row13 col6\" >0.0017</td>\n",
       "      <td id=\"T_1f32f_row13_col7\" class=\"data row13 col7\" >0.0085</td>\n",
       "      <td id=\"T_1f32f_row13_col8\" class=\"data row13 col8\" >0.9998</td>\n",
       "      <td id=\"T_1f32f_row13_col9\" class=\"data row13 col9\" >0.5004</td>\n",
       "      <td id=\"T_1f32f_row13_col10\" class=\"data row13 col10\" >5.7120</td>\n",
       "    </tr>\n",
       "    <tr>\n",
       "      <th id=\"T_1f32f_level0_row14\" class=\"row_heading level0 row14\" >dummy</th>\n",
       "      <td id=\"T_1f32f_row14_col0\" class=\"data row14 col0\" >Dummy Classifier</td>\n",
       "      <td id=\"T_1f32f_row14_col1\" class=\"data row14 col1\" >0.9798</td>\n",
       "      <td id=\"T_1f32f_row14_col2\" class=\"data row14 col2\" >0.5000</td>\n",
       "      <td id=\"T_1f32f_row14_col3\" class=\"data row14 col3\" >0.0000</td>\n",
       "      <td id=\"T_1f32f_row14_col4\" class=\"data row14 col4\" >0.0000</td>\n",
       "      <td id=\"T_1f32f_row14_col5\" class=\"data row14 col5\" >0.0000</td>\n",
       "      <td id=\"T_1f32f_row14_col6\" class=\"data row14 col6\" >0.0000</td>\n",
       "      <td id=\"T_1f32f_row14_col7\" class=\"data row14 col7\" >0.0000</td>\n",
       "      <td id=\"T_1f32f_row14_col8\" class=\"data row14 col8\" >1.0000</td>\n",
       "      <td id=\"T_1f32f_row14_col9\" class=\"data row14 col9\" >0.5000</td>\n",
       "      <td id=\"T_1f32f_row14_col10\" class=\"data row14 col10\" >0.1140</td>\n",
       "    </tr>\n",
       "    <tr>\n",
       "      <th id=\"T_1f32f_level0_row15\" class=\"row_heading level0 row15\" >qda</th>\n",
       "      <td id=\"T_1f32f_row15_col0\" class=\"data row15 col0\" >Quadratic Discriminant Analysis</td>\n",
       "      <td id=\"T_1f32f_row15_col1\" class=\"data row15 col1\" >0.4299</td>\n",
       "      <td id=\"T_1f32f_row15_col2\" class=\"data row15 col2\" >0.4972</td>\n",
       "      <td id=\"T_1f32f_row15_col3\" class=\"data row15 col3\" >0.5672</td>\n",
       "      <td id=\"T_1f32f_row15_col4\" class=\"data row15 col4\" >0.0216</td>\n",
       "      <td id=\"T_1f32f_row15_col5\" class=\"data row15 col5\" >0.0330</td>\n",
       "      <td id=\"T_1f32f_row15_col6\" class=\"data row15 col6\" >-0.0004</td>\n",
       "      <td id=\"T_1f32f_row15_col7\" class=\"data row15 col7\" >-0.0019</td>\n",
       "      <td id=\"T_1f32f_row15_col8\" class=\"data row15 col8\" >0.4271</td>\n",
       "      <td id=\"T_1f32f_row15_col9\" class=\"data row15 col9\" >0.4972</td>\n",
       "      <td id=\"T_1f32f_row15_col10\" class=\"data row15 col10\" >0.7420</td>\n",
       "    </tr>\n",
       "  </tbody>\n",
       "</table>\n"
      ],
      "text/plain": [
       "<pandas.io.formats.style.Styler at 0x2b0ac05a700>"
      ]
     },
     "metadata": {},
     "output_type": "display_data"
    }
   ],
   "source": [
    "best_models_ros = compare_models(sort = 'Balanced Accuracy')\n",
    "#best = compare_models(sort = 'Balanced Accuracy')"
   ]
  },
  {
   "cell_type": "code",
   "execution_count": null,
   "id": "9cf030a1",
   "metadata": {},
   "outputs": [],
   "source": [
    " #check feature importance\n",
    "#plot_model(best_models_ros, plot = 'feature')"
   ]
  },
  {
   "cell_type": "code",
   "execution_count": null,
   "id": "6c24de5b",
   "metadata": {},
   "outputs": [],
   "source": [
    "dummy = create_model('dummy')"
   ]
  },
  {
   "cell_type": "code",
   "execution_count": null,
   "id": "c59cda21",
   "metadata": {},
   "outputs": [],
   "source": [
    "predict_model(dummy);"
   ]
  },
  {
   "cell_type": "code",
   "execution_count": null,
   "id": "84516728",
   "metadata": {},
   "outputs": [],
   "source": [
    "plot_model(dummy, plot = 'confusion_matrix')"
   ]
  },
  {
   "cell_type": "markdown",
   "id": "0f0489a8",
   "metadata": {},
   "source": [
    "### Logistic Regression (lr)"
   ]
  },
  {
   "cell_type": "code",
   "execution_count": 9,
   "id": "7a69941f",
   "metadata": {},
   "outputs": [
    {
     "data": {
      "text/html": [
       "<style type=\"text/css\">\n",
       "#T_0adc8_row5_col0, #T_0adc8_row5_col1, #T_0adc8_row5_col2, #T_0adc8_row5_col3, #T_0adc8_row5_col4, #T_0adc8_row5_col5, #T_0adc8_row5_col6, #T_0adc8_row5_col7, #T_0adc8_row5_col8 {\n",
       "  background: yellow;\n",
       "}\n",
       "</style>\n",
       "<table id=\"T_0adc8\">\n",
       "  <thead>\n",
       "    <tr>\n",
       "      <th class=\"blank level0\" >&nbsp;</th>\n",
       "      <th id=\"T_0adc8_level0_col0\" class=\"col_heading level0 col0\" >Accuracy</th>\n",
       "      <th id=\"T_0adc8_level0_col1\" class=\"col_heading level0 col1\" >AUC</th>\n",
       "      <th id=\"T_0adc8_level0_col2\" class=\"col_heading level0 col2\" >Recall</th>\n",
       "      <th id=\"T_0adc8_level0_col3\" class=\"col_heading level0 col3\" >Prec.</th>\n",
       "      <th id=\"T_0adc8_level0_col4\" class=\"col_heading level0 col4\" >F1</th>\n",
       "      <th id=\"T_0adc8_level0_col5\" class=\"col_heading level0 col5\" >Kappa</th>\n",
       "      <th id=\"T_0adc8_level0_col6\" class=\"col_heading level0 col6\" >MCC</th>\n",
       "      <th id=\"T_0adc8_level0_col7\" class=\"col_heading level0 col7\" >Spec.</th>\n",
       "      <th id=\"T_0adc8_level0_col8\" class=\"col_heading level0 col8\" >Balanced Accuracy</th>\n",
       "    </tr>\n",
       "  </thead>\n",
       "  <tbody>\n",
       "    <tr>\n",
       "      <th id=\"T_0adc8_level0_row0\" class=\"row_heading level0 row0\" >0</th>\n",
       "      <td id=\"T_0adc8_row0_col0\" class=\"data row0 col0\" >0.7677</td>\n",
       "      <td id=\"T_0adc8_row0_col1\" class=\"data row0 col1\" >0.8029</td>\n",
       "      <td id=\"T_0adc8_row0_col2\" class=\"data row0 col2\" >0.6893</td>\n",
       "      <td id=\"T_0adc8_row0_col3\" class=\"data row0 col3\" >0.0580</td>\n",
       "      <td id=\"T_0adc8_row0_col4\" class=\"data row0 col4\" >0.1071</td>\n",
       "      <td id=\"T_0adc8_row0_col5\" class=\"data row0 col5\" >0.0725</td>\n",
       "      <td id=\"T_0adc8_row0_col6\" class=\"data row0 col6\" >0.1511</td>\n",
       "      <td id=\"T_0adc8_row0_col7\" class=\"data row0 col7\" >0.7693</td>\n",
       "      <td id=\"T_0adc8_row0_col8\" class=\"data row0 col8\" >0.7293</td>\n",
       "    </tr>\n",
       "    <tr>\n",
       "      <th id=\"T_0adc8_level0_row1\" class=\"row_heading level0 row1\" >1</th>\n",
       "      <td id=\"T_0adc8_row1_col0\" class=\"data row1 col0\" >0.7716</td>\n",
       "      <td id=\"T_0adc8_row1_col1\" class=\"data row1 col1\" >0.8058</td>\n",
       "      <td id=\"T_0adc8_row1_col2\" class=\"data row1 col2\" >0.7062</td>\n",
       "      <td id=\"T_0adc8_row1_col3\" class=\"data row1 col3\" >0.0603</td>\n",
       "      <td id=\"T_0adc8_row1_col4\" class=\"data row1 col4\" >0.1111</td>\n",
       "      <td id=\"T_0adc8_row1_col5\" class=\"data row1 col5\" >0.0767</td>\n",
       "      <td id=\"T_0adc8_row1_col6\" class=\"data row1 col6\" >0.1586</td>\n",
       "      <td id=\"T_0adc8_row1_col7\" class=\"data row1 col7\" >0.7730</td>\n",
       "      <td id=\"T_0adc8_row1_col8\" class=\"data row1 col8\" >0.7396</td>\n",
       "    </tr>\n",
       "    <tr>\n",
       "      <th id=\"T_0adc8_level0_row2\" class=\"row_heading level0 row2\" >2</th>\n",
       "      <td id=\"T_0adc8_row2_col0\" class=\"data row2 col0\" >0.7640</td>\n",
       "      <td id=\"T_0adc8_row2_col1\" class=\"data row2 col1\" >0.8079</td>\n",
       "      <td id=\"T_0adc8_row2_col2\" class=\"data row2 col2\" >0.7062</td>\n",
       "      <td id=\"T_0adc8_row2_col3\" class=\"data row2 col3\" >0.0584</td>\n",
       "      <td id=\"T_0adc8_row2_col4\" class=\"data row2 col4\" >0.1079</td>\n",
       "      <td id=\"T_0adc8_row2_col5\" class=\"data row2 col5\" >0.0733</td>\n",
       "      <td id=\"T_0adc8_row2_col6\" class=\"data row2 col6\" >0.1544</td>\n",
       "      <td id=\"T_0adc8_row2_col7\" class=\"data row2 col7\" >0.7652</td>\n",
       "      <td id=\"T_0adc8_row2_col8\" class=\"data row2 col8\" >0.7357</td>\n",
       "    </tr>\n",
       "    <tr>\n",
       "      <th id=\"T_0adc8_level0_row3\" class=\"row_heading level0 row3\" >3</th>\n",
       "      <td id=\"T_0adc8_row3_col0\" class=\"data row3 col0\" >0.7740</td>\n",
       "      <td id=\"T_0adc8_row3_col1\" class=\"data row3 col1\" >0.7660</td>\n",
       "      <td id=\"T_0adc8_row3_col2\" class=\"data row3 col2\" >0.6215</td>\n",
       "      <td id=\"T_0adc8_row3_col3\" class=\"data row3 col3\" >0.0544</td>\n",
       "      <td id=\"T_0adc8_row3_col4\" class=\"data row3 col4\" >0.1000</td>\n",
       "      <td id=\"T_0adc8_row3_col5\" class=\"data row3 col5\" >0.0653</td>\n",
       "      <td id=\"T_0adc8_row3_col6\" class=\"data row3 col6\" >0.1331</td>\n",
       "      <td id=\"T_0adc8_row3_col7\" class=\"data row3 col7\" >0.7772</td>\n",
       "      <td id=\"T_0adc8_row3_col8\" class=\"data row3 col8\" >0.6993</td>\n",
       "    </tr>\n",
       "    <tr>\n",
       "      <th id=\"T_0adc8_level0_row4\" class=\"row_heading level0 row4\" >4</th>\n",
       "      <td id=\"T_0adc8_row4_col0\" class=\"data row4 col0\" >0.7743</td>\n",
       "      <td id=\"T_0adc8_row4_col1\" class=\"data row4 col1\" >0.8079</td>\n",
       "      <td id=\"T_0adc8_row4_col2\" class=\"data row4 col2\" >0.6780</td>\n",
       "      <td id=\"T_0adc8_row4_col3\" class=\"data row4 col3\" >0.0588</td>\n",
       "      <td id=\"T_0adc8_row4_col4\" class=\"data row4 col4\" >0.1083</td>\n",
       "      <td id=\"T_0adc8_row4_col5\" class=\"data row4 col5\" >0.0738</td>\n",
       "      <td id=\"T_0adc8_row4_col6\" class=\"data row4 col6\" >0.1512</td>\n",
       "      <td id=\"T_0adc8_row4_col7\" class=\"data row4 col7\" >0.7762</td>\n",
       "      <td id=\"T_0adc8_row4_col8\" class=\"data row4 col8\" >0.7271</td>\n",
       "    </tr>\n",
       "    <tr>\n",
       "      <th id=\"T_0adc8_level0_row5\" class=\"row_heading level0 row5\" >Mean</th>\n",
       "      <td id=\"T_0adc8_row5_col0\" class=\"data row5 col0\" >0.7703</td>\n",
       "      <td id=\"T_0adc8_row5_col1\" class=\"data row5 col1\" >0.7981</td>\n",
       "      <td id=\"T_0adc8_row5_col2\" class=\"data row5 col2\" >0.6802</td>\n",
       "      <td id=\"T_0adc8_row5_col3\" class=\"data row5 col3\" >0.0580</td>\n",
       "      <td id=\"T_0adc8_row5_col4\" class=\"data row5 col4\" >0.1069</td>\n",
       "      <td id=\"T_0adc8_row5_col5\" class=\"data row5 col5\" >0.0723</td>\n",
       "      <td id=\"T_0adc8_row5_col6\" class=\"data row5 col6\" >0.1497</td>\n",
       "      <td id=\"T_0adc8_row5_col7\" class=\"data row5 col7\" >0.7722</td>\n",
       "      <td id=\"T_0adc8_row5_col8\" class=\"data row5 col8\" >0.7262</td>\n",
       "    </tr>\n",
       "    <tr>\n",
       "      <th id=\"T_0adc8_level0_row6\" class=\"row_heading level0 row6\" >SD</th>\n",
       "      <td id=\"T_0adc8_row6_col0\" class=\"data row6 col0\" >0.0040</td>\n",
       "      <td id=\"T_0adc8_row6_col1\" class=\"data row6 col1\" >0.0161</td>\n",
       "      <td id=\"T_0adc8_row6_col2\" class=\"data row6 col2\" >0.0313</td>\n",
       "      <td id=\"T_0adc8_row6_col3\" class=\"data row6 col3\" >0.0020</td>\n",
       "      <td id=\"T_0adc8_row6_col4\" class=\"data row6 col4\" >0.0037</td>\n",
       "      <td id=\"T_0adc8_row6_col5\" class=\"data row6 col5\" >0.0038</td>\n",
       "      <td id=\"T_0adc8_row6_col6\" class=\"data row6 col6\" >0.0087</td>\n",
       "      <td id=\"T_0adc8_row6_col7\" class=\"data row6 col7\" >0.0045</td>\n",
       "      <td id=\"T_0adc8_row6_col8\" class=\"data row6 col8\" >0.0142</td>\n",
       "    </tr>\n",
       "  </tbody>\n",
       "</table>\n"
      ],
      "text/plain": [
       "<pandas.io.formats.style.Styler at 0x2760203b100>"
      ]
     },
     "metadata": {},
     "output_type": "display_data"
    }
   ],
   "source": [
    "lr = create_model('lr')"
   ]
  },
  {
   "cell_type": "code",
   "execution_count": 10,
   "id": "fe92d2b5",
   "metadata": {},
   "outputs": [
    {
     "data": {
      "text/html": [
       "<style type=\"text/css\">\n",
       "#T_f9060_row5_col0, #T_f9060_row5_col1, #T_f9060_row5_col2, #T_f9060_row5_col3, #T_f9060_row5_col4, #T_f9060_row5_col5, #T_f9060_row5_col6, #T_f9060_row5_col7, #T_f9060_row5_col8 {\n",
       "  background: yellow;\n",
       "}\n",
       "</style>\n",
       "<table id=\"T_f9060\">\n",
       "  <thead>\n",
       "    <tr>\n",
       "      <th class=\"blank level0\" >&nbsp;</th>\n",
       "      <th id=\"T_f9060_level0_col0\" class=\"col_heading level0 col0\" >Accuracy</th>\n",
       "      <th id=\"T_f9060_level0_col1\" class=\"col_heading level0 col1\" >AUC</th>\n",
       "      <th id=\"T_f9060_level0_col2\" class=\"col_heading level0 col2\" >Recall</th>\n",
       "      <th id=\"T_f9060_level0_col3\" class=\"col_heading level0 col3\" >Prec.</th>\n",
       "      <th id=\"T_f9060_level0_col4\" class=\"col_heading level0 col4\" >F1</th>\n",
       "      <th id=\"T_f9060_level0_col5\" class=\"col_heading level0 col5\" >Kappa</th>\n",
       "      <th id=\"T_f9060_level0_col6\" class=\"col_heading level0 col6\" >MCC</th>\n",
       "      <th id=\"T_f9060_level0_col7\" class=\"col_heading level0 col7\" >Spec.</th>\n",
       "      <th id=\"T_f9060_level0_col8\" class=\"col_heading level0 col8\" >Balanced Accuracy</th>\n",
       "    </tr>\n",
       "  </thead>\n",
       "  <tbody>\n",
       "    <tr>\n",
       "      <th id=\"T_f9060_level0_row0\" class=\"row_heading level0 row0\" >0</th>\n",
       "      <td id=\"T_f9060_row0_col0\" class=\"data row0 col0\" >0.7642</td>\n",
       "      <td id=\"T_f9060_row0_col1\" class=\"data row0 col1\" >0.8036</td>\n",
       "      <td id=\"T_f9060_row0_col2\" class=\"data row0 col2\" >0.6893</td>\n",
       "      <td id=\"T_f9060_row0_col3\" class=\"data row0 col3\" >0.0572</td>\n",
       "      <td id=\"T_f9060_row0_col4\" class=\"data row0 col4\" >0.1057</td>\n",
       "      <td id=\"T_f9060_row0_col5\" class=\"data row0 col5\" >0.0710</td>\n",
       "      <td id=\"T_f9060_row0_col6\" class=\"data row0 col6\" >0.1492</td>\n",
       "      <td id=\"T_f9060_row0_col7\" class=\"data row0 col7\" >0.7658</td>\n",
       "      <td id=\"T_f9060_row0_col8\" class=\"data row0 col8\" >0.7275</td>\n",
       "    </tr>\n",
       "    <tr>\n",
       "      <th id=\"T_f9060_level0_row1\" class=\"row_heading level0 row1\" >1</th>\n",
       "      <td id=\"T_f9060_row1_col0\" class=\"data row1 col0\" >0.7724</td>\n",
       "      <td id=\"T_f9060_row1_col1\" class=\"data row1 col1\" >0.8047</td>\n",
       "      <td id=\"T_f9060_row1_col2\" class=\"data row1 col2\" >0.7006</td>\n",
       "      <td id=\"T_f9060_row1_col3\" class=\"data row1 col3\" >0.0601</td>\n",
       "      <td id=\"T_f9060_row1_col4\" class=\"data row1 col4\" >0.1107</td>\n",
       "      <td id=\"T_f9060_row1_col5\" class=\"data row1 col5\" >0.0763</td>\n",
       "      <td id=\"T_f9060_row1_col6\" class=\"data row1 col6\" >0.1573</td>\n",
       "      <td id=\"T_f9060_row1_col7\" class=\"data row1 col7\" >0.7739</td>\n",
       "      <td id=\"T_f9060_row1_col8\" class=\"data row1 col8\" >0.7372</td>\n",
       "    </tr>\n",
       "    <tr>\n",
       "      <th id=\"T_f9060_level0_row2\" class=\"row_heading level0 row2\" >2</th>\n",
       "      <td id=\"T_f9060_row2_col0\" class=\"data row2 col0\" >0.7651</td>\n",
       "      <td id=\"T_f9060_row2_col1\" class=\"data row2 col1\" >0.8111</td>\n",
       "      <td id=\"T_f9060_row2_col2\" class=\"data row2 col2\" >0.7006</td>\n",
       "      <td id=\"T_f9060_row2_col3\" class=\"data row2 col3\" >0.0583</td>\n",
       "      <td id=\"T_f9060_row2_col4\" class=\"data row2 col4\" >0.1076</td>\n",
       "      <td id=\"T_f9060_row2_col5\" class=\"data row2 col5\" >0.0730</td>\n",
       "      <td id=\"T_f9060_row2_col6\" class=\"data row2 col6\" >0.1532</td>\n",
       "      <td id=\"T_f9060_row2_col7\" class=\"data row2 col7\" >0.7665</td>\n",
       "      <td id=\"T_f9060_row2_col8\" class=\"data row2 col8\" >0.7335</td>\n",
       "    </tr>\n",
       "    <tr>\n",
       "      <th id=\"T_f9060_level0_row3\" class=\"row_heading level0 row3\" >3</th>\n",
       "      <td id=\"T_f9060_row3_col0\" class=\"data row3 col0\" >0.7752</td>\n",
       "      <td id=\"T_f9060_row3_col1\" class=\"data row3 col1\" >0.7662</td>\n",
       "      <td id=\"T_f9060_row3_col2\" class=\"data row3 col2\" >0.6271</td>\n",
       "      <td id=\"T_f9060_row3_col3\" class=\"data row3 col3\" >0.0551</td>\n",
       "      <td id=\"T_f9060_row3_col4\" class=\"data row3 col4\" >0.1013</td>\n",
       "      <td id=\"T_f9060_row3_col5\" class=\"data row3 col5\" >0.0666</td>\n",
       "      <td id=\"T_f9060_row3_col6\" class=\"data row3 col6\" >0.1355</td>\n",
       "      <td id=\"T_f9060_row3_col7\" class=\"data row3 col7\" >0.7782</td>\n",
       "      <td id=\"T_f9060_row3_col8\" class=\"data row3 col8\" >0.7027</td>\n",
       "    </tr>\n",
       "    <tr>\n",
       "      <th id=\"T_f9060_level0_row4\" class=\"row_heading level0 row4\" >4</th>\n",
       "      <td id=\"T_f9060_row4_col0\" class=\"data row4 col0\" >0.7738</td>\n",
       "      <td id=\"T_f9060_row4_col1\" class=\"data row4 col1\" >0.8072</td>\n",
       "      <td id=\"T_f9060_row4_col2\" class=\"data row4 col2\" >0.6836</td>\n",
       "      <td id=\"T_f9060_row4_col3\" class=\"data row4 col3\" >0.0591</td>\n",
       "      <td id=\"T_f9060_row4_col4\" class=\"data row4 col4\" >0.1089</td>\n",
       "      <td id=\"T_f9060_row4_col5\" class=\"data row4 col5\" >0.0744</td>\n",
       "      <td id=\"T_f9060_row4_col6\" class=\"data row4 col6\" >0.1527</td>\n",
       "      <td id=\"T_f9060_row4_col7\" class=\"data row4 col7\" >0.7757</td>\n",
       "      <td id=\"T_f9060_row4_col8\" class=\"data row4 col8\" >0.7296</td>\n",
       "    </tr>\n",
       "    <tr>\n",
       "      <th id=\"T_f9060_level0_row5\" class=\"row_heading level0 row5\" >Mean</th>\n",
       "      <td id=\"T_f9060_row5_col0\" class=\"data row5 col0\" >0.7702</td>\n",
       "      <td id=\"T_f9060_row5_col1\" class=\"data row5 col1\" >0.7985</td>\n",
       "      <td id=\"T_f9060_row5_col2\" class=\"data row5 col2\" >0.6802</td>\n",
       "      <td id=\"T_f9060_row5_col3\" class=\"data row5 col3\" >0.0580</td>\n",
       "      <td id=\"T_f9060_row5_col4\" class=\"data row5 col4\" >0.1068</td>\n",
       "      <td id=\"T_f9060_row5_col5\" class=\"data row5 col5\" >0.0723</td>\n",
       "      <td id=\"T_f9060_row5_col6\" class=\"data row5 col6\" >0.1496</td>\n",
       "      <td id=\"T_f9060_row5_col7\" class=\"data row5 col7\" >0.7720</td>\n",
       "      <td id=\"T_f9060_row5_col8\" class=\"data row5 col8\" >0.7261</td>\n",
       "    </tr>\n",
       "    <tr>\n",
       "      <th id=\"T_f9060_level0_row6\" class=\"row_heading level0 row6\" >SD</th>\n",
       "      <td id=\"T_f9060_row6_col0\" class=\"data row6 col0\" >0.0046</td>\n",
       "      <td id=\"T_f9060_row6_col1\" class=\"data row6 col1\" >0.0164</td>\n",
       "      <td id=\"T_f9060_row6_col2\" class=\"data row6 col2\" >0.0274</td>\n",
       "      <td id=\"T_f9060_row6_col3\" class=\"data row6 col3\" >0.0017</td>\n",
       "      <td id=\"T_f9060_row6_col4\" class=\"data row6 col4\" >0.0032</td>\n",
       "      <td id=\"T_f9060_row6_col5\" class=\"data row6 col5\" >0.0033</td>\n",
       "      <td id=\"T_f9060_row6_col6\" class=\"data row6 col6\" >0.0075</td>\n",
       "      <td id=\"T_f9060_row6_col7\" class=\"data row6 col7\" >0.0050</td>\n",
       "      <td id=\"T_f9060_row6_col8\" class=\"data row6 col8\" >0.0122</td>\n",
       "    </tr>\n",
       "  </tbody>\n",
       "</table>\n"
      ],
      "text/plain": [
       "<pandas.io.formats.style.Styler at 0x27600a7ca30>"
      ]
     },
     "metadata": {},
     "output_type": "display_data"
    }
   ],
   "source": [
    "#Tune a Model\n",
    "tuned_lr = tune_model(lr,optimize = 'Balanced Accuracy')"
   ]
  },
  {
   "cell_type": "code",
   "execution_count": null,
   "id": "00952138",
   "metadata": {},
   "outputs": [],
   "source": [
    "#AUC Plot\n",
    "#plot_model(tuned_lr, plot = 'auc')\n",
    "#Precision-Recall Curve\n",
    "#plot_model(tuned_lr, plot = 'pr')\n",
    "# Feature Importance Plot\n",
    "#plot_model(tuned_lr, plot='feature')\n",
    "# Confusion Matrix\n",
    "#plot_model(tuned_lr, plot = 'confusion_matrix')\n",
    "\n",
    "#evaluate_model(tuned_lr)"
   ]
  },
  {
   "cell_type": "code",
   "execution_count": 10,
   "id": "41efb7e5",
   "metadata": {},
   "outputs": [
    {
     "data": {
      "text/html": [
       "<style type=\"text/css\">\n",
       "</style>\n",
       "<table id=\"T_ea6ca\">\n",
       "  <thead>\n",
       "    <tr>\n",
       "      <th class=\"blank level0\" >&nbsp;</th>\n",
       "      <th id=\"T_ea6ca_level0_col0\" class=\"col_heading level0 col0\" >Model</th>\n",
       "      <th id=\"T_ea6ca_level0_col1\" class=\"col_heading level0 col1\" >Accuracy</th>\n",
       "      <th id=\"T_ea6ca_level0_col2\" class=\"col_heading level0 col2\" >AUC</th>\n",
       "      <th id=\"T_ea6ca_level0_col3\" class=\"col_heading level0 col3\" >Recall</th>\n",
       "      <th id=\"T_ea6ca_level0_col4\" class=\"col_heading level0 col4\" >Prec.</th>\n",
       "      <th id=\"T_ea6ca_level0_col5\" class=\"col_heading level0 col5\" >F1</th>\n",
       "      <th id=\"T_ea6ca_level0_col6\" class=\"col_heading level0 col6\" >Kappa</th>\n",
       "      <th id=\"T_ea6ca_level0_col7\" class=\"col_heading level0 col7\" >MCC</th>\n",
       "      <th id=\"T_ea6ca_level0_col8\" class=\"col_heading level0 col8\" >Spec.</th>\n",
       "      <th id=\"T_ea6ca_level0_col9\" class=\"col_heading level0 col9\" >Balanced Accuracy</th>\n",
       "    </tr>\n",
       "  </thead>\n",
       "  <tbody>\n",
       "    <tr>\n",
       "      <th id=\"T_ea6ca_level0_row0\" class=\"row_heading level0 row0\" >0</th>\n",
       "      <td id=\"T_ea6ca_row0_col0\" class=\"data row0 col0\" >Logistic Regression</td>\n",
       "      <td id=\"T_ea6ca_row0_col1\" class=\"data row0 col1\" >0.7709</td>\n",
       "      <td id=\"T_ea6ca_row0_col2\" class=\"data row0 col2\" >0.8179</td>\n",
       "      <td id=\"T_ea6ca_row0_col3\" class=\"data row0 col3\" >0.7193</td>\n",
       "      <td id=\"T_ea6ca_row0_col4\" class=\"data row0 col4\" >0.0629</td>\n",
       "      <td id=\"T_ea6ca_row0_col5\" class=\"data row0 col5\" >0.1157</td>\n",
       "      <td id=\"T_ea6ca_row0_col6\" class=\"data row0 col6\" >0.0804</td>\n",
       "      <td id=\"T_ea6ca_row0_col7\" class=\"data row0 col7\" >0.1647</td>\n",
       "      <td id=\"T_ea6ca_row0_col8\" class=\"data row0 col8\" >0.7720</td>\n",
       "      <td id=\"T_ea6ca_row0_col9\" class=\"data row0 col9\" >0.7457</td>\n",
       "    </tr>\n",
       "  </tbody>\n",
       "</table>\n"
      ],
      "text/plain": [
       "<pandas.io.formats.style.Styler at 0x1f3d9fb09a0>"
      ]
     },
     "metadata": {},
     "output_type": "display_data"
    }
   ],
   "source": [
    "#Predict on test / hold-out Sample\n",
    "predict_model(tuned_lr);"
   ]
  },
  {
   "cell_type": "code",
   "execution_count": 11,
   "id": "5d0997e4",
   "metadata": {},
   "outputs": [
    {
     "data": {
      "text/html": [
       "<style type=\"text/css\">\n",
       "</style>\n",
       "<table id=\"T_2ab8c\">\n",
       "  <thead>\n",
       "    <tr>\n",
       "      <th class=\"blank level0\" >&nbsp;</th>\n",
       "      <th id=\"T_2ab8c_level0_col0\" class=\"col_heading level0 col0\" >Model</th>\n",
       "      <th id=\"T_2ab8c_level0_col1\" class=\"col_heading level0 col1\" >Accuracy</th>\n",
       "      <th id=\"T_2ab8c_level0_col2\" class=\"col_heading level0 col2\" >AUC</th>\n",
       "      <th id=\"T_2ab8c_level0_col3\" class=\"col_heading level0 col3\" >Recall</th>\n",
       "      <th id=\"T_2ab8c_level0_col4\" class=\"col_heading level0 col4\" >Prec.</th>\n",
       "      <th id=\"T_2ab8c_level0_col5\" class=\"col_heading level0 col5\" >F1</th>\n",
       "      <th id=\"T_2ab8c_level0_col6\" class=\"col_heading level0 col6\" >Kappa</th>\n",
       "      <th id=\"T_2ab8c_level0_col7\" class=\"col_heading level0 col7\" >MCC</th>\n",
       "      <th id=\"T_2ab8c_level0_col8\" class=\"col_heading level0 col8\" >Spec.</th>\n",
       "      <th id=\"T_2ab8c_level0_col9\" class=\"col_heading level0 col9\" >Balanced Accuracy</th>\n",
       "    </tr>\n",
       "  </thead>\n",
       "  <tbody>\n",
       "    <tr>\n",
       "      <th id=\"T_2ab8c_level0_row0\" class=\"row_heading level0 row0\" >0</th>\n",
       "      <td id=\"T_2ab8c_row0_col0\" class=\"data row0 col0\" >Logistic Regression</td>\n",
       "      <td id=\"T_2ab8c_row0_col1\" class=\"data row0 col1\" >0.7712</td>\n",
       "      <td id=\"T_2ab8c_row0_col2\" class=\"data row0 col2\" >0.8179</td>\n",
       "      <td id=\"T_2ab8c_row0_col3\" class=\"data row0 col3\" >0.7193</td>\n",
       "      <td id=\"T_2ab8c_row0_col4\" class=\"data row0 col4\" >0.0630</td>\n",
       "      <td id=\"T_2ab8c_row0_col5\" class=\"data row0 col5\" >0.1158</td>\n",
       "      <td id=\"T_2ab8c_row0_col6\" class=\"data row0 col6\" >0.0806</td>\n",
       "      <td id=\"T_2ab8c_row0_col7\" class=\"data row0 col7\" >0.1649</td>\n",
       "      <td id=\"T_2ab8c_row0_col8\" class=\"data row0 col8\" >0.7723</td>\n",
       "      <td id=\"T_2ab8c_row0_col9\" class=\"data row0 col9\" >0.7458</td>\n",
       "    </tr>\n",
       "  </tbody>\n",
       "</table>\n"
      ],
      "text/plain": [
       "<pandas.io.formats.style.Styler at 0x1f3d8c69190>"
      ]
     },
     "metadata": {},
     "output_type": "display_data"
    }
   ],
   "source": [
    "predict_model(lr);"
   ]
  },
  {
   "cell_type": "code",
   "execution_count": null,
   "id": "7f9692b0",
   "metadata": {},
   "outputs": [],
   "source": [
    "# Confusion Matrix\n",
    "#plot_model(tuned_lr, plot = 'confusion_matrix')"
   ]
  },
  {
   "cell_type": "code",
   "execution_count": null,
   "id": "adde69a4",
   "metadata": {},
   "outputs": [],
   "source": [
    "#plot_model(tuned_lr, plot='feature_all')"
   ]
  },
  {
   "cell_type": "code",
   "execution_count": null,
   "id": "8b88c3e3",
   "metadata": {},
   "outputs": [],
   "source": [
    "#pd.DataFrame({'Feature': get_config('X_train').columns, 'Value' : abs(lr.coef_[0])}).sort_values(by='Value', ascending=False)\n"
   ]
  },
  {
   "cell_type": "code",
   "execution_count": null,
   "id": "ed101fee",
   "metadata": {},
   "outputs": [],
   "source": [
    "#plot_model(lr, plot = 'threshold')\n"
   ]
  },
  {
   "cell_type": "code",
   "execution_count": null,
   "id": "eb2c0d66",
   "metadata": {},
   "outputs": [],
   "source": [
    "#plot_model(tuned_lr,plot='boundary')"
   ]
  },
  {
   "cell_type": "code",
   "execution_count": null,
   "id": "1040b498",
   "metadata": {},
   "outputs": [],
   "source": [
    "#print (lr.coef_)"
   ]
  },
  {
   "cell_type": "code",
   "execution_count": null,
   "id": "02ccdb91",
   "metadata": {},
   "outputs": [],
   "source": [
    "#print (lr.intercept_)"
   ]
  },
  {
   "cell_type": "code",
   "execution_count": null,
   "id": "485a62ef",
   "metadata": {},
   "outputs": [],
   "source": [
    "#evaluate_model(tuned_lr)"
   ]
  },
  {
   "cell_type": "code",
   "execution_count": null,
   "id": "8d960aae",
   "metadata": {},
   "outputs": [],
   "source": [
    "#interpret_model(lr, plot = 'reason', observation = 12)"
   ]
  },
  {
   "cell_type": "code",
   "execution_count": null,
   "id": "41894b79",
   "metadata": {},
   "outputs": [],
   "source": [
    "#print(tuned_lr.get_params())"
   ]
  },
  {
   "cell_type": "markdown",
   "id": "a780bc9f",
   "metadata": {},
   "source": [
    "### Linear Discriminant Analysis(lda)"
   ]
  },
  {
   "cell_type": "code",
   "execution_count": 12,
   "id": "6113de53",
   "metadata": {},
   "outputs": [
    {
     "data": {
      "text/html": [
       "<style type=\"text/css\">\n",
       "#T_56f25_row5_col0, #T_56f25_row5_col1, #T_56f25_row5_col2, #T_56f25_row5_col3, #T_56f25_row5_col4, #T_56f25_row5_col5, #T_56f25_row5_col6, #T_56f25_row5_col7, #T_56f25_row5_col8 {\n",
       "  background: yellow;\n",
       "}\n",
       "</style>\n",
       "<table id=\"T_56f25\">\n",
       "  <thead>\n",
       "    <tr>\n",
       "      <th class=\"blank level0\" >&nbsp;</th>\n",
       "      <th id=\"T_56f25_level0_col0\" class=\"col_heading level0 col0\" >Accuracy</th>\n",
       "      <th id=\"T_56f25_level0_col1\" class=\"col_heading level0 col1\" >AUC</th>\n",
       "      <th id=\"T_56f25_level0_col2\" class=\"col_heading level0 col2\" >Recall</th>\n",
       "      <th id=\"T_56f25_level0_col3\" class=\"col_heading level0 col3\" >Prec.</th>\n",
       "      <th id=\"T_56f25_level0_col4\" class=\"col_heading level0 col4\" >F1</th>\n",
       "      <th id=\"T_56f25_level0_col5\" class=\"col_heading level0 col5\" >Kappa</th>\n",
       "      <th id=\"T_56f25_level0_col6\" class=\"col_heading level0 col6\" >MCC</th>\n",
       "      <th id=\"T_56f25_level0_col7\" class=\"col_heading level0 col7\" >Spec.</th>\n",
       "      <th id=\"T_56f25_level0_col8\" class=\"col_heading level0 col8\" >Balanced Accuracy</th>\n",
       "    </tr>\n",
       "  </thead>\n",
       "  <tbody>\n",
       "    <tr>\n",
       "      <th id=\"T_56f25_level0_row0\" class=\"row_heading level0 row0\" >0</th>\n",
       "      <td id=\"T_56f25_row0_col0\" class=\"data row0 col0\" >0.7821</td>\n",
       "      <td id=\"T_56f25_row0_col1\" class=\"data row0 col1\" >0.8029</td>\n",
       "      <td id=\"T_56f25_row0_col2\" class=\"data row0 col2\" >0.6893</td>\n",
       "      <td id=\"T_56f25_row0_col3\" class=\"data row0 col3\" >0.0617</td>\n",
       "      <td id=\"T_56f25_row0_col4\" class=\"data row0 col4\" >0.1133</td>\n",
       "      <td id=\"T_56f25_row0_col5\" class=\"data row0 col5\" >0.0792</td>\n",
       "      <td id=\"T_56f25_row0_col6\" class=\"data row0 col6\" >0.1593</td>\n",
       "      <td id=\"T_56f25_row0_col7\" class=\"data row0 col7\" >0.7840</td>\n",
       "      <td id=\"T_56f25_row0_col8\" class=\"data row0 col8\" >0.7366</td>\n",
       "    </tr>\n",
       "    <tr>\n",
       "      <th id=\"T_56f25_level0_row1\" class=\"row_heading level0 row1\" >1</th>\n",
       "      <td id=\"T_56f25_row1_col0\" class=\"data row1 col0\" >0.7841</td>\n",
       "      <td id=\"T_56f25_row1_col1\" class=\"data row1 col1\" >0.8058</td>\n",
       "      <td id=\"T_56f25_row1_col2\" class=\"data row1 col2\" >0.6893</td>\n",
       "      <td id=\"T_56f25_row1_col3\" class=\"data row1 col3\" >0.0623</td>\n",
       "      <td id=\"T_56f25_row1_col4\" class=\"data row1 col4\" >0.1143</td>\n",
       "      <td id=\"T_56f25_row1_col5\" class=\"data row1 col5\" >0.0802</td>\n",
       "      <td id=\"T_56f25_row1_col6\" class=\"data row1 col6\" >0.1605</td>\n",
       "      <td id=\"T_56f25_row1_col7\" class=\"data row1 col7\" >0.7860</td>\n",
       "      <td id=\"T_56f25_row1_col8\" class=\"data row1 col8\" >0.7377</td>\n",
       "    </tr>\n",
       "    <tr>\n",
       "      <th id=\"T_56f25_level0_row2\" class=\"row_heading level0 row2\" >2</th>\n",
       "      <td id=\"T_56f25_row2_col0\" class=\"data row2 col0\" >0.7754</td>\n",
       "      <td id=\"T_56f25_row2_col1\" class=\"data row2 col1\" >0.8119</td>\n",
       "      <td id=\"T_56f25_row2_col2\" class=\"data row2 col2\" >0.6949</td>\n",
       "      <td id=\"T_56f25_row2_col3\" class=\"data row2 col3\" >0.0604</td>\n",
       "      <td id=\"T_56f25_row2_col4\" class=\"data row2 col4\" >0.1112</td>\n",
       "      <td id=\"T_56f25_row2_col5\" class=\"data row2 col5\" >0.0768</td>\n",
       "      <td id=\"T_56f25_row2_col6\" class=\"data row2 col6\" >0.1572</td>\n",
       "      <td id=\"T_56f25_row2_col7\" class=\"data row2 col7\" >0.7771</td>\n",
       "      <td id=\"T_56f25_row2_col8\" class=\"data row2 col8\" >0.7360</td>\n",
       "    </tr>\n",
       "    <tr>\n",
       "      <th id=\"T_56f25_level0_row3\" class=\"row_heading level0 row3\" >3</th>\n",
       "      <td id=\"T_56f25_row3_col0\" class=\"data row3 col0\" >0.7848</td>\n",
       "      <td id=\"T_56f25_row3_col1\" class=\"data row3 col1\" >0.7695</td>\n",
       "      <td id=\"T_56f25_row3_col2\" class=\"data row3 col2\" >0.6271</td>\n",
       "      <td id=\"T_56f25_row3_col3\" class=\"data row3 col3\" >0.0575</td>\n",
       "      <td id=\"T_56f25_row3_col4\" class=\"data row3 col4\" >0.1054</td>\n",
       "      <td id=\"T_56f25_row3_col5\" class=\"data row3 col5\" >0.0710</td>\n",
       "      <td id=\"T_56f25_row3_col6\" class=\"data row3 col6\" >0.1409</td>\n",
       "      <td id=\"T_56f25_row3_col7\" class=\"data row3 col7\" >0.7880</td>\n",
       "      <td id=\"T_56f25_row3_col8\" class=\"data row3 col8\" >0.7076</td>\n",
       "    </tr>\n",
       "    <tr>\n",
       "      <th id=\"T_56f25_level0_row4\" class=\"row_heading level0 row4\" >4</th>\n",
       "      <td id=\"T_56f25_row4_col0\" class=\"data row4 col0\" >0.7866</td>\n",
       "      <td id=\"T_56f25_row4_col1\" class=\"data row4 col1\" >0.8085</td>\n",
       "      <td id=\"T_56f25_row4_col2\" class=\"data row4 col2\" >0.6667</td>\n",
       "      <td id=\"T_56f25_row4_col3\" class=\"data row4 col3\" >0.0612</td>\n",
       "      <td id=\"T_56f25_row4_col4\" class=\"data row4 col4\" >0.1121</td>\n",
       "      <td id=\"T_56f25_row4_col5\" class=\"data row4 col5\" >0.0780</td>\n",
       "      <td id=\"T_56f25_row4_col6\" class=\"data row4 col6\" >0.1548</td>\n",
       "      <td id=\"T_56f25_row4_col7\" class=\"data row4 col7\" >0.7891</td>\n",
       "      <td id=\"T_56f25_row4_col8\" class=\"data row4 col8\" >0.7279</td>\n",
       "    </tr>\n",
       "    <tr>\n",
       "      <th id=\"T_56f25_level0_row5\" class=\"row_heading level0 row5\" >Mean</th>\n",
       "      <td id=\"T_56f25_row5_col0\" class=\"data row5 col0\" >0.7826</td>\n",
       "      <td id=\"T_56f25_row5_col1\" class=\"data row5 col1\" >0.7997</td>\n",
       "      <td id=\"T_56f25_row5_col2\" class=\"data row5 col2\" >0.6734</td>\n",
       "      <td id=\"T_56f25_row5_col3\" class=\"data row5 col3\" >0.0606</td>\n",
       "      <td id=\"T_56f25_row5_col4\" class=\"data row5 col4\" >0.1113</td>\n",
       "      <td id=\"T_56f25_row5_col5\" class=\"data row5 col5\" >0.0770</td>\n",
       "      <td id=\"T_56f25_row5_col6\" class=\"data row5 col6\" >0.1546</td>\n",
       "      <td id=\"T_56f25_row5_col7\" class=\"data row5 col7\" >0.7848</td>\n",
       "      <td id=\"T_56f25_row5_col8\" class=\"data row5 col8\" >0.7291</td>\n",
       "    </tr>\n",
       "    <tr>\n",
       "      <th id=\"T_56f25_level0_row6\" class=\"row_heading level0 row6\" >SD</th>\n",
       "      <td id=\"T_56f25_row6_col0\" class=\"data row6 col0\" >0.0039</td>\n",
       "      <td id=\"T_56f25_row6_col1\" class=\"data row6 col1\" >0.0154</td>\n",
       "      <td id=\"T_56f25_row6_col2\" class=\"data row6 col2\" >0.0251</td>\n",
       "      <td id=\"T_56f25_row6_col3\" class=\"data row6 col3\" >0.0017</td>\n",
       "      <td id=\"T_56f25_row6_col4\" class=\"data row6 col4\" >0.0031</td>\n",
       "      <td id=\"T_56f25_row6_col5\" class=\"data row6 col5\" >0.0032</td>\n",
       "      <td id=\"T_56f25_row6_col6\" class=\"data row6 col6\" >0.0071</td>\n",
       "      <td id=\"T_56f25_row6_col7\" class=\"data row6 col7\" >0.0043</td>\n",
       "      <td id=\"T_56f25_row6_col8\" class=\"data row6 col8\" >0.0113</td>\n",
       "    </tr>\n",
       "  </tbody>\n",
       "</table>\n"
      ],
      "text/plain": [
       "<pandas.io.formats.style.Styler at 0x1f3da0467c0>"
      ]
     },
     "metadata": {},
     "output_type": "display_data"
    }
   ],
   "source": [
    "lda = create_model('lda')"
   ]
  },
  {
   "cell_type": "code",
   "execution_count": 13,
   "id": "987e0ddd",
   "metadata": {},
   "outputs": [
    {
     "data": {
      "text/html": [
       "<style type=\"text/css\">\n",
       "#T_03714_row5_col0, #T_03714_row5_col1, #T_03714_row5_col2, #T_03714_row5_col3, #T_03714_row5_col4, #T_03714_row5_col5, #T_03714_row5_col6, #T_03714_row5_col7, #T_03714_row5_col8 {\n",
       "  background: yellow;\n",
       "}\n",
       "</style>\n",
       "<table id=\"T_03714\">\n",
       "  <thead>\n",
       "    <tr>\n",
       "      <th class=\"blank level0\" >&nbsp;</th>\n",
       "      <th id=\"T_03714_level0_col0\" class=\"col_heading level0 col0\" >Accuracy</th>\n",
       "      <th id=\"T_03714_level0_col1\" class=\"col_heading level0 col1\" >AUC</th>\n",
       "      <th id=\"T_03714_level0_col2\" class=\"col_heading level0 col2\" >Recall</th>\n",
       "      <th id=\"T_03714_level0_col3\" class=\"col_heading level0 col3\" >Prec.</th>\n",
       "      <th id=\"T_03714_level0_col4\" class=\"col_heading level0 col4\" >F1</th>\n",
       "      <th id=\"T_03714_level0_col5\" class=\"col_heading level0 col5\" >Kappa</th>\n",
       "      <th id=\"T_03714_level0_col6\" class=\"col_heading level0 col6\" >MCC</th>\n",
       "      <th id=\"T_03714_level0_col7\" class=\"col_heading level0 col7\" >Spec.</th>\n",
       "      <th id=\"T_03714_level0_col8\" class=\"col_heading level0 col8\" >Balanced Accuracy</th>\n",
       "    </tr>\n",
       "  </thead>\n",
       "  <tbody>\n",
       "    <tr>\n",
       "      <th id=\"T_03714_level0_row0\" class=\"row_heading level0 row0\" >0</th>\n",
       "      <td id=\"T_03714_row0_col0\" class=\"data row0 col0\" >0.7725</td>\n",
       "      <td id=\"T_03714_row0_col1\" class=\"data row0 col1\" >0.7956</td>\n",
       "      <td id=\"T_03714_row0_col2\" class=\"data row0 col2\" >0.7062</td>\n",
       "      <td id=\"T_03714_row0_col3\" class=\"data row0 col3\" >0.0605</td>\n",
       "      <td id=\"T_03714_row0_col4\" class=\"data row0 col4\" >0.1115</td>\n",
       "      <td id=\"T_03714_row0_col5\" class=\"data row0 col5\" >0.0771</td>\n",
       "      <td id=\"T_03714_row0_col6\" class=\"data row0 col6\" >0.1591</td>\n",
       "      <td id=\"T_03714_row0_col7\" class=\"data row0 col7\" >0.7738</td>\n",
       "      <td id=\"T_03714_row0_col8\" class=\"data row0 col8\" >0.7400</td>\n",
       "    </tr>\n",
       "    <tr>\n",
       "      <th id=\"T_03714_level0_row1\" class=\"row_heading level0 row1\" >1</th>\n",
       "      <td id=\"T_03714_row1_col0\" class=\"data row1 col0\" >0.7772</td>\n",
       "      <td id=\"T_03714_row1_col1\" class=\"data row1 col1\" >0.8082</td>\n",
       "      <td id=\"T_03714_row1_col2\" class=\"data row1 col2\" >0.7006</td>\n",
       "      <td id=\"T_03714_row1_col3\" class=\"data row1 col3\" >0.0613</td>\n",
       "      <td id=\"T_03714_row1_col4\" class=\"data row1 col4\" >0.1128</td>\n",
       "      <td id=\"T_03714_row1_col5\" class=\"data row1 col5\" >0.0785</td>\n",
       "      <td id=\"T_03714_row1_col6\" class=\"data row1 col6\" >0.1601</td>\n",
       "      <td id=\"T_03714_row1_col7\" class=\"data row1 col7\" >0.7788</td>\n",
       "      <td id=\"T_03714_row1_col8\" class=\"data row1 col8\" >0.7397</td>\n",
       "    </tr>\n",
       "    <tr>\n",
       "      <th id=\"T_03714_level0_row2\" class=\"row_heading level0 row2\" >2</th>\n",
       "      <td id=\"T_03714_row2_col0\" class=\"data row2 col0\" >0.7687</td>\n",
       "      <td id=\"T_03714_row2_col1\" class=\"data row2 col1\" >0.8133</td>\n",
       "      <td id=\"T_03714_row2_col2\" class=\"data row2 col2\" >0.7345</td>\n",
       "      <td id=\"T_03714_row2_col3\" class=\"data row2 col3\" >0.0616</td>\n",
       "      <td id=\"T_03714_row2_col4\" class=\"data row2 col4\" >0.1137</td>\n",
       "      <td id=\"T_03714_row2_col5\" class=\"data row2 col5\" >0.0794</td>\n",
       "      <td id=\"T_03714_row2_col6\" class=\"data row2 col6\" >0.1658</td>\n",
       "      <td id=\"T_03714_row2_col7\" class=\"data row2 col7\" >0.7694</td>\n",
       "      <td id=\"T_03714_row2_col8\" class=\"data row2 col8\" >0.7519</td>\n",
       "    </tr>\n",
       "    <tr>\n",
       "      <th id=\"T_03714_level0_row3\" class=\"row_heading level0 row3\" >3</th>\n",
       "      <td id=\"T_03714_row3_col0\" class=\"data row3 col0\" >0.7730</td>\n",
       "      <td id=\"T_03714_row3_col1\" class=\"data row3 col1\" >0.7774</td>\n",
       "      <td id=\"T_03714_row3_col2\" class=\"data row3 col2\" >0.6328</td>\n",
       "      <td id=\"T_03714_row3_col3\" class=\"data row3 col3\" >0.0550</td>\n",
       "      <td id=\"T_03714_row3_col4\" class=\"data row3 col4\" >0.1013</td>\n",
       "      <td id=\"T_03714_row3_col5\" class=\"data row3 col5\" >0.0666</td>\n",
       "      <td id=\"T_03714_row3_col6\" class=\"data row3 col6\" >0.1362</td>\n",
       "      <td id=\"T_03714_row3_col7\" class=\"data row3 col7\" >0.7759</td>\n",
       "      <td id=\"T_03714_row3_col8\" class=\"data row3 col8\" >0.7043</td>\n",
       "    </tr>\n",
       "    <tr>\n",
       "      <th id=\"T_03714_level0_row4\" class=\"row_heading level0 row4\" >4</th>\n",
       "      <td id=\"T_03714_row4_col0\" class=\"data row4 col0\" >0.7812</td>\n",
       "      <td id=\"T_03714_row4_col1\" class=\"data row4 col1\" >0.7968</td>\n",
       "      <td id=\"T_03714_row4_col2\" class=\"data row4 col2\" >0.6667</td>\n",
       "      <td id=\"T_03714_row4_col3\" class=\"data row4 col3\" >0.0597</td>\n",
       "      <td id=\"T_03714_row4_col4\" class=\"data row4 col4\" >0.1097</td>\n",
       "      <td id=\"T_03714_row4_col5\" class=\"data row4 col5\" >0.0754</td>\n",
       "      <td id=\"T_03714_row4_col6\" class=\"data row4 col6\" >0.1516</td>\n",
       "      <td id=\"T_03714_row4_col7\" class=\"data row4 col7\" >0.7836</td>\n",
       "      <td id=\"T_03714_row4_col8\" class=\"data row4 col8\" >0.7251</td>\n",
       "    </tr>\n",
       "    <tr>\n",
       "      <th id=\"T_03714_level0_row5\" class=\"row_heading level0 row5\" >Mean</th>\n",
       "      <td id=\"T_03714_row5_col0\" class=\"data row5 col0\" >0.7745</td>\n",
       "      <td id=\"T_03714_row5_col1\" class=\"data row5 col1\" >0.7982</td>\n",
       "      <td id=\"T_03714_row5_col2\" class=\"data row5 col2\" >0.6881</td>\n",
       "      <td id=\"T_03714_row5_col3\" class=\"data row5 col3\" >0.0597</td>\n",
       "      <td id=\"T_03714_row5_col4\" class=\"data row5 col4\" >0.1098</td>\n",
       "      <td id=\"T_03714_row5_col5\" class=\"data row5 col5\" >0.0754</td>\n",
       "      <td id=\"T_03714_row5_col6\" class=\"data row5 col6\" >0.1546</td>\n",
       "      <td id=\"T_03714_row5_col7\" class=\"data row5 col7\" >0.7763</td>\n",
       "      <td id=\"T_03714_row5_col8\" class=\"data row5 col8\" >0.7322</td>\n",
       "    </tr>\n",
       "    <tr>\n",
       "      <th id=\"T_03714_level0_row6\" class=\"row_heading level0 row6\" >SD</th>\n",
       "      <td id=\"T_03714_row6_col0\" class=\"data row6 col0\" >0.0043</td>\n",
       "      <td id=\"T_03714_row6_col1\" class=\"data row6 col1\" >0.0124</td>\n",
       "      <td id=\"T_03714_row6_col2\" class=\"data row6 col2\" >0.0351</td>\n",
       "      <td id=\"T_03714_row6_col3\" class=\"data row6 col3\" >0.0024</td>\n",
       "      <td id=\"T_03714_row6_col4\" class=\"data row6 col4\" >0.0045</td>\n",
       "      <td id=\"T_03714_row6_col5\" class=\"data row6 col5\" >0.0046</td>\n",
       "      <td id=\"T_03714_row6_col6\" class=\"data row6 col6\" >0.0102</td>\n",
       "      <td id=\"T_03714_row6_col7\" class=\"data row6 col7\" >0.0048</td>\n",
       "      <td id=\"T_03714_row6_col8\" class=\"data row6 col8\" >0.0163</td>\n",
       "    </tr>\n",
       "  </tbody>\n",
       "</table>\n"
      ],
      "text/plain": [
       "<pandas.io.formats.style.Styler at 0x1f3d892afd0>"
      ]
     },
     "metadata": {},
     "output_type": "display_data"
    }
   ],
   "source": [
    "#Tune a Model\n",
    "tuned_lda = tune_model(lda,optimize = 'Balanced Accuracy')"
   ]
  },
  {
   "cell_type": "code",
   "execution_count": null,
   "id": "11e384b4",
   "metadata": {},
   "outputs": [],
   "source": [
    "#AUC Plot\n",
    "#plot_model(tuned_lda, plot = 'auc')\n",
    "#Precision-Recall Curve\n",
    "#plot_model(tuned_lda, plot = 'pr')\n",
    "# Feature Importance Plot\n",
    "#plot_model(tuned_lda, plot='feature')\n",
    "# Confusion Matrix\n",
    "#plot_model(tuned_lda, plot = 'confusion_matrix')\n",
    "\n",
    "#evaluate_model(tuned_lda)"
   ]
  },
  {
   "cell_type": "code",
   "execution_count": 14,
   "id": "00a3bba5",
   "metadata": {},
   "outputs": [
    {
     "data": {
      "text/html": [
       "<style type=\"text/css\">\n",
       "</style>\n",
       "<table id=\"T_a5d1e\">\n",
       "  <thead>\n",
       "    <tr>\n",
       "      <th class=\"blank level0\" >&nbsp;</th>\n",
       "      <th id=\"T_a5d1e_level0_col0\" class=\"col_heading level0 col0\" >Model</th>\n",
       "      <th id=\"T_a5d1e_level0_col1\" class=\"col_heading level0 col1\" >Accuracy</th>\n",
       "      <th id=\"T_a5d1e_level0_col2\" class=\"col_heading level0 col2\" >AUC</th>\n",
       "      <th id=\"T_a5d1e_level0_col3\" class=\"col_heading level0 col3\" >Recall</th>\n",
       "      <th id=\"T_a5d1e_level0_col4\" class=\"col_heading level0 col4\" >Prec.</th>\n",
       "      <th id=\"T_a5d1e_level0_col5\" class=\"col_heading level0 col5\" >F1</th>\n",
       "      <th id=\"T_a5d1e_level0_col6\" class=\"col_heading level0 col6\" >Kappa</th>\n",
       "      <th id=\"T_a5d1e_level0_col7\" class=\"col_heading level0 col7\" >MCC</th>\n",
       "      <th id=\"T_a5d1e_level0_col8\" class=\"col_heading level0 col8\" >Spec.</th>\n",
       "      <th id=\"T_a5d1e_level0_col9\" class=\"col_heading level0 col9\" >Balanced Accuracy</th>\n",
       "    </tr>\n",
       "  </thead>\n",
       "  <tbody>\n",
       "    <tr>\n",
       "      <th id=\"T_a5d1e_level0_row0\" class=\"row_heading level0 row0\" >0</th>\n",
       "      <td id=\"T_a5d1e_row0_col0\" class=\"data row0 col0\" >Linear Discriminant Analysis</td>\n",
       "      <td id=\"T_a5d1e_row0_col1\" class=\"data row0 col1\" >0.7748</td>\n",
       "      <td id=\"T_a5d1e_row0_col2\" class=\"data row0 col2\" >0.8106</td>\n",
       "      <td id=\"T_a5d1e_row0_col3\" class=\"data row0 col3\" >0.7061</td>\n",
       "      <td id=\"T_a5d1e_row0_col4\" class=\"data row0 col4\" >0.0629</td>\n",
       "      <td id=\"T_a5d1e_row0_col5\" class=\"data row0 col5\" >0.1155</td>\n",
       "      <td id=\"T_a5d1e_row0_col6\" class=\"data row0 col6\" >0.0803</td>\n",
       "      <td id=\"T_a5d1e_row0_col7\" class=\"data row0 col7\" >0.1627</td>\n",
       "      <td id=\"T_a5d1e_row0_col8\" class=\"data row0 col8\" >0.7762</td>\n",
       "      <td id=\"T_a5d1e_row0_col9\" class=\"data row0 col9\" >0.7412</td>\n",
       "    </tr>\n",
       "  </tbody>\n",
       "</table>\n"
      ],
      "text/plain": [
       "<pandas.io.formats.style.Styler at 0x1f3d892a550>"
      ]
     },
     "metadata": {},
     "output_type": "display_data"
    }
   ],
   "source": [
    "#Predict on test / hold-out Sample\n",
    "predict_model(tuned_lda);"
   ]
  },
  {
   "cell_type": "code",
   "execution_count": 15,
   "id": "5b43b0fc",
   "metadata": {},
   "outputs": [
    {
     "data": {
      "text/html": [
       "<style type=\"text/css\">\n",
       "</style>\n",
       "<table id=\"T_1e63f\">\n",
       "  <thead>\n",
       "    <tr>\n",
       "      <th class=\"blank level0\" >&nbsp;</th>\n",
       "      <th id=\"T_1e63f_level0_col0\" class=\"col_heading level0 col0\" >Model</th>\n",
       "      <th id=\"T_1e63f_level0_col1\" class=\"col_heading level0 col1\" >Accuracy</th>\n",
       "      <th id=\"T_1e63f_level0_col2\" class=\"col_heading level0 col2\" >AUC</th>\n",
       "      <th id=\"T_1e63f_level0_col3\" class=\"col_heading level0 col3\" >Recall</th>\n",
       "      <th id=\"T_1e63f_level0_col4\" class=\"col_heading level0 col4\" >Prec.</th>\n",
       "      <th id=\"T_1e63f_level0_col5\" class=\"col_heading level0 col5\" >F1</th>\n",
       "      <th id=\"T_1e63f_level0_col6\" class=\"col_heading level0 col6\" >Kappa</th>\n",
       "      <th id=\"T_1e63f_level0_col7\" class=\"col_heading level0 col7\" >MCC</th>\n",
       "      <th id=\"T_1e63f_level0_col8\" class=\"col_heading level0 col8\" >Spec.</th>\n",
       "      <th id=\"T_1e63f_level0_col9\" class=\"col_heading level0 col9\" >Balanced Accuracy</th>\n",
       "    </tr>\n",
       "  </thead>\n",
       "  <tbody>\n",
       "    <tr>\n",
       "      <th id=\"T_1e63f_level0_row0\" class=\"row_heading level0 row0\" >0</th>\n",
       "      <td id=\"T_1e63f_row0_col0\" class=\"data row0 col0\" >Linear Discriminant Analysis</td>\n",
       "      <td id=\"T_1e63f_row0_col1\" class=\"data row0 col1\" >0.7826</td>\n",
       "      <td id=\"T_1e63f_row0_col2\" class=\"data row0 col2\" >0.8162</td>\n",
       "      <td id=\"T_1e63f_row0_col3\" class=\"data row0 col3\" >0.7105</td>\n",
       "      <td id=\"T_1e63f_row0_col4\" class=\"data row0 col4\" >0.0654</td>\n",
       "      <td id=\"T_1e63f_row0_col5\" class=\"data row0 col5\" >0.1198</td>\n",
       "      <td id=\"T_1e63f_row0_col6\" class=\"data row0 col6\" >0.0849</td>\n",
       "      <td id=\"T_1e63f_row0_col7\" class=\"data row0 col7\" >0.1689</td>\n",
       "      <td id=\"T_1e63f_row0_col8\" class=\"data row0 col8\" >0.7841</td>\n",
       "      <td id=\"T_1e63f_row0_col9\" class=\"data row0 col9\" >0.7473</td>\n",
       "    </tr>\n",
       "  </tbody>\n",
       "</table>\n"
      ],
      "text/plain": [
       "<pandas.io.formats.style.Styler at 0x1f3d8c6a8e0>"
      ]
     },
     "metadata": {},
     "output_type": "display_data"
    }
   ],
   "source": [
    "predict_model(lda);"
   ]
  },
  {
   "cell_type": "code",
   "execution_count": null,
   "id": "6afbeefd",
   "metadata": {
    "scrolled": true
   },
   "outputs": [],
   "source": [
    "# Confusion Matrix\n",
    "#plot_model(lda, plot = 'confusion_matrix')"
   ]
  },
  {
   "cell_type": "code",
   "execution_count": null,
   "id": "1e86da93",
   "metadata": {},
   "outputs": [],
   "source": [
    "#plot_model(lda, plot='feature_all')"
   ]
  },
  {
   "cell_type": "code",
   "execution_count": null,
   "id": "589ccac1",
   "metadata": {},
   "outputs": [],
   "source": [
    "#pd.DataFrame({'Feature': get_config('X_train').columns, 'Value' : abs(lda.coef_[0])}).sort_values(by='Value', ascending=False)\n"
   ]
  },
  {
   "cell_type": "code",
   "execution_count": null,
   "id": "5828cb7f",
   "metadata": {},
   "outputs": [],
   "source": [
    "#plot_model(tuned_lda,plot='boundary')"
   ]
  },
  {
   "cell_type": "code",
   "execution_count": null,
   "id": "80201b8a",
   "metadata": {},
   "outputs": [],
   "source": [
    "#print(tuned_lda.get_params())"
   ]
  },
  {
   "cell_type": "markdown",
   "id": "dd52e29b",
   "metadata": {},
   "source": [
    "### Gradient Boosting Classifier (gbc)"
   ]
  },
  {
   "cell_type": "code",
   "execution_count": 16,
   "id": "3ac504d6",
   "metadata": {},
   "outputs": [
    {
     "data": {
      "text/html": [
       "<style type=\"text/css\">\n",
       "#T_5697b_row5_col0, #T_5697b_row5_col1, #T_5697b_row5_col2, #T_5697b_row5_col3, #T_5697b_row5_col4, #T_5697b_row5_col5, #T_5697b_row5_col6, #T_5697b_row5_col7, #T_5697b_row5_col8 {\n",
       "  background: yellow;\n",
       "}\n",
       "</style>\n",
       "<table id=\"T_5697b\">\n",
       "  <thead>\n",
       "    <tr>\n",
       "      <th class=\"blank level0\" >&nbsp;</th>\n",
       "      <th id=\"T_5697b_level0_col0\" class=\"col_heading level0 col0\" >Accuracy</th>\n",
       "      <th id=\"T_5697b_level0_col1\" class=\"col_heading level0 col1\" >AUC</th>\n",
       "      <th id=\"T_5697b_level0_col2\" class=\"col_heading level0 col2\" >Recall</th>\n",
       "      <th id=\"T_5697b_level0_col3\" class=\"col_heading level0 col3\" >Prec.</th>\n",
       "      <th id=\"T_5697b_level0_col4\" class=\"col_heading level0 col4\" >F1</th>\n",
       "      <th id=\"T_5697b_level0_col5\" class=\"col_heading level0 col5\" >Kappa</th>\n",
       "      <th id=\"T_5697b_level0_col6\" class=\"col_heading level0 col6\" >MCC</th>\n",
       "      <th id=\"T_5697b_level0_col7\" class=\"col_heading level0 col7\" >Spec.</th>\n",
       "      <th id=\"T_5697b_level0_col8\" class=\"col_heading level0 col8\" >Balanced Accuracy</th>\n",
       "    </tr>\n",
       "  </thead>\n",
       "  <tbody>\n",
       "    <tr>\n",
       "      <th id=\"T_5697b_level0_row0\" class=\"row_heading level0 row0\" >0</th>\n",
       "      <td id=\"T_5697b_row0_col0\" class=\"data row0 col0\" >0.8198</td>\n",
       "      <td id=\"T_5697b_row0_col1\" class=\"data row0 col1\" >0.8090</td>\n",
       "      <td id=\"T_5697b_row0_col2\" class=\"data row0 col2\" >0.6328</td>\n",
       "      <td id=\"T_5697b_row0_col3\" class=\"data row0 col3\" >0.0689</td>\n",
       "      <td id=\"T_5697b_row0_col4\" class=\"data row0 col4\" >0.1243</td>\n",
       "      <td id=\"T_5697b_row0_col5\" class=\"data row0 col5\" >0.0912</td>\n",
       "      <td id=\"T_5697b_row0_col6\" class=\"data row0 col6\" >0.1652</td>\n",
       "      <td id=\"T_5697b_row0_col7\" class=\"data row0 col7\" >0.8237</td>\n",
       "      <td id=\"T_5697b_row0_col8\" class=\"data row0 col8\" >0.7282</td>\n",
       "    </tr>\n",
       "    <tr>\n",
       "      <th id=\"T_5697b_level0_row1\" class=\"row_heading level0 row1\" >1</th>\n",
       "      <td id=\"T_5697b_row1_col0\" class=\"data row1 col0\" >0.8214</td>\n",
       "      <td id=\"T_5697b_row1_col1\" class=\"data row1 col1\" >0.8043</td>\n",
       "      <td id=\"T_5697b_row1_col2\" class=\"data row1 col2\" >0.6441</td>\n",
       "      <td id=\"T_5697b_row1_col3\" class=\"data row1 col3\" >0.0706</td>\n",
       "      <td id=\"T_5697b_row1_col4\" class=\"data row1 col4\" >0.1272</td>\n",
       "      <td id=\"T_5697b_row1_col5\" class=\"data row1 col5\" >0.0942</td>\n",
       "      <td id=\"T_5697b_row1_col6\" class=\"data row1 col6\" >0.1702</td>\n",
       "      <td id=\"T_5697b_row1_col7\" class=\"data row1 col7\" >0.8251</td>\n",
       "      <td id=\"T_5697b_row1_col8\" class=\"data row1 col8\" >0.7346</td>\n",
       "    </tr>\n",
       "    <tr>\n",
       "      <th id=\"T_5697b_level0_row2\" class=\"row_heading level0 row2\" >2</th>\n",
       "      <td id=\"T_5697b_row2_col0\" class=\"data row2 col0\" >0.8148</td>\n",
       "      <td id=\"T_5697b_row2_col1\" class=\"data row2 col1\" >0.8055</td>\n",
       "      <td id=\"T_5697b_row2_col2\" class=\"data row2 col2\" >0.6215</td>\n",
       "      <td id=\"T_5697b_row2_col3\" class=\"data row2 col3\" >0.0661</td>\n",
       "      <td id=\"T_5697b_row2_col4\" class=\"data row2 col4\" >0.1194</td>\n",
       "      <td id=\"T_5697b_row2_col5\" class=\"data row2 col5\" >0.0860</td>\n",
       "      <td id=\"T_5697b_row2_col6\" class=\"data row2 col6\" >0.1579</td>\n",
       "      <td id=\"T_5697b_row2_col7\" class=\"data row2 col7\" >0.8188</td>\n",
       "      <td id=\"T_5697b_row2_col8\" class=\"data row2 col8\" >0.7201</td>\n",
       "    </tr>\n",
       "    <tr>\n",
       "      <th id=\"T_5697b_level0_row3\" class=\"row_heading level0 row3\" >3</th>\n",
       "      <td id=\"T_5697b_row3_col0\" class=\"data row3 col0\" >0.8219</td>\n",
       "      <td id=\"T_5697b_row3_col1\" class=\"data row3 col1\" >0.7740</td>\n",
       "      <td id=\"T_5697b_row3_col2\" class=\"data row3 col2\" >0.5706</td>\n",
       "      <td id=\"T_5697b_row3_col3\" class=\"data row3 col3\" >0.0637</td>\n",
       "      <td id=\"T_5697b_row3_col4\" class=\"data row3 col4\" >0.1146</td>\n",
       "      <td id=\"T_5697b_row3_col5\" class=\"data row3 col5\" >0.0812</td>\n",
       "      <td id=\"T_5697b_row3_col6\" class=\"data row3 col6\" >0.1454</td>\n",
       "      <td id=\"T_5697b_row3_col7\" class=\"data row3 col7\" >0.8271</td>\n",
       "      <td id=\"T_5697b_row3_col8\" class=\"data row3 col8\" >0.6988</td>\n",
       "    </tr>\n",
       "    <tr>\n",
       "      <th id=\"T_5697b_level0_row4\" class=\"row_heading level0 row4\" >4</th>\n",
       "      <td id=\"T_5697b_row4_col0\" class=\"data row4 col0\" >0.8290</td>\n",
       "      <td id=\"T_5697b_row4_col1\" class=\"data row4 col1\" >0.7914</td>\n",
       "      <td id=\"T_5697b_row4_col2\" class=\"data row4 col2\" >0.5876</td>\n",
       "      <td id=\"T_5697b_row4_col3\" class=\"data row4 col3\" >0.0680</td>\n",
       "      <td id=\"T_5697b_row4_col4\" class=\"data row4 col4\" >0.1219</td>\n",
       "      <td id=\"T_5697b_row4_col5\" class=\"data row4 col5\" >0.0889</td>\n",
       "      <td id=\"T_5697b_row4_col6\" class=\"data row4 col6\" >0.1562</td>\n",
       "      <td id=\"T_5697b_row4_col7\" class=\"data row4 col7\" >0.8339</td>\n",
       "      <td id=\"T_5697b_row4_col8\" class=\"data row4 col8\" >0.7108</td>\n",
       "    </tr>\n",
       "    <tr>\n",
       "      <th id=\"T_5697b_level0_row5\" class=\"row_heading level0 row5\" >Mean</th>\n",
       "      <td id=\"T_5697b_row5_col0\" class=\"data row5 col0\" >0.8214</td>\n",
       "      <td id=\"T_5697b_row5_col1\" class=\"data row5 col1\" >0.7968</td>\n",
       "      <td id=\"T_5697b_row5_col2\" class=\"data row5 col2\" >0.6113</td>\n",
       "      <td id=\"T_5697b_row5_col3\" class=\"data row5 col3\" >0.0675</td>\n",
       "      <td id=\"T_5697b_row5_col4\" class=\"data row5 col4\" >0.1215</td>\n",
       "      <td id=\"T_5697b_row5_col5\" class=\"data row5 col5\" >0.0883</td>\n",
       "      <td id=\"T_5697b_row5_col6\" class=\"data row5 col6\" >0.1590</td>\n",
       "      <td id=\"T_5697b_row5_col7\" class=\"data row5 col7\" >0.8257</td>\n",
       "      <td id=\"T_5697b_row5_col8\" class=\"data row5 col8\" >0.7185</td>\n",
       "    </tr>\n",
       "    <tr>\n",
       "      <th id=\"T_5697b_level0_row6\" class=\"row_heading level0 row6\" >SD</th>\n",
       "      <td id=\"T_5697b_row6_col0\" class=\"data row6 col0\" >0.0045</td>\n",
       "      <td id=\"T_5697b_row6_col1\" class=\"data row6 col1\" >0.0129</td>\n",
       "      <td id=\"T_5697b_row6_col2\" class=\"data row6 col2\" >0.0278</td>\n",
       "      <td id=\"T_5697b_row6_col3\" class=\"data row6 col3\" >0.0024</td>\n",
       "      <td id=\"T_5697b_row6_col4\" class=\"data row6 col4\" >0.0043</td>\n",
       "      <td id=\"T_5697b_row6_col5\" class=\"data row6 col5\" >0.0044</td>\n",
       "      <td id=\"T_5697b_row6_col6\" class=\"data row6 col6\" >0.0085</td>\n",
       "      <td id=\"T_5697b_row6_col7\" class=\"data row6 col7\" >0.0049</td>\n",
       "      <td id=\"T_5697b_row6_col8\" class=\"data row6 col8\" >0.0127</td>\n",
       "    </tr>\n",
       "  </tbody>\n",
       "</table>\n"
      ],
      "text/plain": [
       "<pandas.io.formats.style.Styler at 0x1f3d8a9e760>"
      ]
     },
     "metadata": {},
     "output_type": "display_data"
    }
   ],
   "source": [
    "gbc = create_model('gbc',ccp_alpha=0.0, criterion='friedman_mse', init=None,\n",
    "                           learning_rate=0.1, loss='deviance', max_depth=3,\n",
    "                           max_features=None, max_leaf_nodes=None,\n",
    "                           min_impurity_decrease=0.0, min_impurity_split=None,\n",
    "                           min_samples_leaf=1, min_samples_split=2,\n",
    "                           min_weight_fraction_leaf=0.0, n_estimators=200,\n",
    "                           n_iter_no_change=None, presort='deprecated', subsample=1.0, tol=0.0001,\n",
    "                           validation_fraction=0.1,warm_start=False)"
   ]
  },
  {
   "cell_type": "code",
   "execution_count": 18,
   "id": "5bca86b9",
   "metadata": {},
   "outputs": [
    {
     "data": {
      "text/html": [
       "<style type=\"text/css\">\n",
       "#T_5bc91_row5_col0, #T_5bc91_row5_col1, #T_5bc91_row5_col2, #T_5bc91_row5_col3, #T_5bc91_row5_col4, #T_5bc91_row5_col5, #T_5bc91_row5_col6, #T_5bc91_row5_col7, #T_5bc91_row5_col8 {\n",
       "  background: yellow;\n",
       "}\n",
       "</style>\n",
       "<table id=\"T_5bc91\">\n",
       "  <thead>\n",
       "    <tr>\n",
       "      <th class=\"blank level0\" >&nbsp;</th>\n",
       "      <th id=\"T_5bc91_level0_col0\" class=\"col_heading level0 col0\" >Accuracy</th>\n",
       "      <th id=\"T_5bc91_level0_col1\" class=\"col_heading level0 col1\" >AUC</th>\n",
       "      <th id=\"T_5bc91_level0_col2\" class=\"col_heading level0 col2\" >Recall</th>\n",
       "      <th id=\"T_5bc91_level0_col3\" class=\"col_heading level0 col3\" >Prec.</th>\n",
       "      <th id=\"T_5bc91_level0_col4\" class=\"col_heading level0 col4\" >F1</th>\n",
       "      <th id=\"T_5bc91_level0_col5\" class=\"col_heading level0 col5\" >Kappa</th>\n",
       "      <th id=\"T_5bc91_level0_col6\" class=\"col_heading level0 col6\" >MCC</th>\n",
       "      <th id=\"T_5bc91_level0_col7\" class=\"col_heading level0 col7\" >Spec.</th>\n",
       "      <th id=\"T_5bc91_level0_col8\" class=\"col_heading level0 col8\" >Balanced Accuracy</th>\n",
       "    </tr>\n",
       "  </thead>\n",
       "  <tbody>\n",
       "    <tr>\n",
       "      <th id=\"T_5bc91_level0_row0\" class=\"row_heading level0 row0\" >0</th>\n",
       "      <td id=\"T_5bc91_row0_col0\" class=\"data row0 col0\" >0.7761</td>\n",
       "      <td id=\"T_5bc91_row0_col1\" class=\"data row0 col1\" >0.8136</td>\n",
       "      <td id=\"T_5bc91_row0_col2\" class=\"data row0 col2\" >0.7006</td>\n",
       "      <td id=\"T_5bc91_row0_col3\" class=\"data row0 col3\" >0.0610</td>\n",
       "      <td id=\"T_5bc91_row0_col4\" class=\"data row0 col4\" >0.1123</td>\n",
       "      <td id=\"T_5bc91_row0_col5\" class=\"data row0 col5\" >0.0780</td>\n",
       "      <td id=\"T_5bc91_row0_col6\" class=\"data row0 col6\" >0.1594</td>\n",
       "      <td id=\"T_5bc91_row0_col7\" class=\"data row0 col7\" >0.7777</td>\n",
       "      <td id=\"T_5bc91_row0_col8\" class=\"data row0 col8\" >0.7391</td>\n",
       "    </tr>\n",
       "    <tr>\n",
       "      <th id=\"T_5bc91_level0_row1\" class=\"row_heading level0 row1\" >1</th>\n",
       "      <td id=\"T_5bc91_row1_col0\" class=\"data row1 col0\" >0.7808</td>\n",
       "      <td id=\"T_5bc91_row1_col1\" class=\"data row1 col1\" >0.8055</td>\n",
       "      <td id=\"T_5bc91_row1_col2\" class=\"data row1 col2\" >0.6780</td>\n",
       "      <td id=\"T_5bc91_row1_col3\" class=\"data row1 col3\" >0.0605</td>\n",
       "      <td id=\"T_5bc91_row1_col4\" class=\"data row1 col4\" >0.1111</td>\n",
       "      <td id=\"T_5bc91_row1_col5\" class=\"data row1 col5\" >0.0769</td>\n",
       "      <td id=\"T_5bc91_row1_col6\" class=\"data row1 col6\" >0.1550</td>\n",
       "      <td id=\"T_5bc91_row1_col7\" class=\"data row1 col7\" >0.7829</td>\n",
       "      <td id=\"T_5bc91_row1_col8\" class=\"data row1 col8\" >0.7304</td>\n",
       "    </tr>\n",
       "    <tr>\n",
       "      <th id=\"T_5bc91_level0_row2\" class=\"row_heading level0 row2\" >2</th>\n",
       "      <td id=\"T_5bc91_row2_col0\" class=\"data row2 col0\" >0.7795</td>\n",
       "      <td id=\"T_5bc91_row2_col1\" class=\"data row2 col1\" >0.8181</td>\n",
       "      <td id=\"T_5bc91_row2_col2\" class=\"data row2 col2\" >0.7062</td>\n",
       "      <td id=\"T_5bc91_row2_col3\" class=\"data row2 col3\" >0.0624</td>\n",
       "      <td id=\"T_5bc91_row2_col4\" class=\"data row2 col4\" >0.1146</td>\n",
       "      <td id=\"T_5bc91_row2_col5\" class=\"data row2 col5\" >0.0805</td>\n",
       "      <td id=\"T_5bc91_row2_col6\" class=\"data row2 col6\" >0.1632</td>\n",
       "      <td id=\"T_5bc91_row2_col7\" class=\"data row2 col7\" >0.7810</td>\n",
       "      <td id=\"T_5bc91_row2_col8\" class=\"data row2 col8\" >0.7436</td>\n",
       "    </tr>\n",
       "    <tr>\n",
       "      <th id=\"T_5bc91_level0_row3\" class=\"row_heading level0 row3\" >3</th>\n",
       "      <td id=\"T_5bc91_row3_col0\" class=\"data row3 col0\" >0.7799</td>\n",
       "      <td id=\"T_5bc91_row3_col1\" class=\"data row3 col1\" >0.7758</td>\n",
       "      <td id=\"T_5bc91_row3_col2\" class=\"data row3 col2\" >0.6384</td>\n",
       "      <td id=\"T_5bc91_row3_col3\" class=\"data row3 col3\" >0.0572</td>\n",
       "      <td id=\"T_5bc91_row3_col4\" class=\"data row3 col4\" >0.1049</td>\n",
       "      <td id=\"T_5bc91_row3_col5\" class=\"data row3 col5\" >0.0704</td>\n",
       "      <td id=\"T_5bc91_row3_col6\" class=\"data row3 col6\" >0.1418</td>\n",
       "      <td id=\"T_5bc91_row3_col7\" class=\"data row3 col7\" >0.7828</td>\n",
       "      <td id=\"T_5bc91_row3_col8\" class=\"data row3 col8\" >0.7106</td>\n",
       "    </tr>\n",
       "    <tr>\n",
       "      <th id=\"T_5bc91_level0_row4\" class=\"row_heading level0 row4\" >4</th>\n",
       "      <td id=\"T_5bc91_row4_col0\" class=\"data row4 col0\" >0.7880</td>\n",
       "      <td id=\"T_5bc91_row4_col1\" class=\"data row4 col1\" >0.8099</td>\n",
       "      <td id=\"T_5bc91_row4_col2\" class=\"data row4 col2\" >0.7288</td>\n",
       "      <td id=\"T_5bc91_row4_col3\" class=\"data row4 col3\" >0.0666</td>\n",
       "      <td id=\"T_5bc91_row4_col4\" class=\"data row4 col4\" >0.1220</td>\n",
       "      <td id=\"T_5bc91_row4_col5\" class=\"data row4 col5\" >0.0882</td>\n",
       "      <td id=\"T_5bc91_row4_col6\" class=\"data row4 col6\" >0.1756</td>\n",
       "      <td id=\"T_5bc91_row4_col7\" class=\"data row4 col7\" >0.7892</td>\n",
       "      <td id=\"T_5bc91_row4_col8\" class=\"data row4 col8\" >0.7590</td>\n",
       "    </tr>\n",
       "    <tr>\n",
       "      <th id=\"T_5bc91_level0_row5\" class=\"row_heading level0 row5\" >Mean</th>\n",
       "      <td id=\"T_5bc91_row5_col0\" class=\"data row5 col0\" >0.7808</td>\n",
       "      <td id=\"T_5bc91_row5_col1\" class=\"data row5 col1\" >0.8046</td>\n",
       "      <td id=\"T_5bc91_row5_col2\" class=\"data row5 col2\" >0.6904</td>\n",
       "      <td id=\"T_5bc91_row5_col3\" class=\"data row5 col3\" >0.0615</td>\n",
       "      <td id=\"T_5bc91_row5_col4\" class=\"data row5 col4\" >0.1130</td>\n",
       "      <td id=\"T_5bc91_row5_col5\" class=\"data row5 col5\" >0.0788</td>\n",
       "      <td id=\"T_5bc91_row5_col6\" class=\"data row5 col6\" >0.1590</td>\n",
       "      <td id=\"T_5bc91_row5_col7\" class=\"data row5 col7\" >0.7827</td>\n",
       "      <td id=\"T_5bc91_row5_col8\" class=\"data row5 col8\" >0.7366</td>\n",
       "    </tr>\n",
       "    <tr>\n",
       "      <th id=\"T_5bc91_level0_row6\" class=\"row_heading level0 row6\" >SD</th>\n",
       "      <td id=\"T_5bc91_row6_col0\" class=\"data row6 col0\" >0.0039</td>\n",
       "      <td id=\"T_5bc91_row6_col1\" class=\"data row6 col1\" >0.0150</td>\n",
       "      <td id=\"T_5bc91_row6_col2\" class=\"data row6 col2\" >0.0306</td>\n",
       "      <td id=\"T_5bc91_row6_col3\" class=\"data row6 col3\" >0.0030</td>\n",
       "      <td id=\"T_5bc91_row6_col4\" class=\"data row6 col4\" >0.0055</td>\n",
       "      <td id=\"T_5bc91_row6_col5\" class=\"data row6 col5\" >0.0058</td>\n",
       "      <td id=\"T_5bc91_row6_col6\" class=\"data row6 col6\" >0.0110</td>\n",
       "      <td id=\"T_5bc91_row6_col7\" class=\"data row6 col7\" >0.0037</td>\n",
       "      <td id=\"T_5bc91_row6_col8\" class=\"data row6 col8\" >0.0159</td>\n",
       "    </tr>\n",
       "  </tbody>\n",
       "</table>\n"
      ],
      "text/plain": [
       "<pandas.io.formats.style.Styler at 0x1f3d8c76400>"
      ]
     },
     "metadata": {},
     "output_type": "display_data"
    }
   ],
   "source": [
    "#Tune a Model\n",
    "tuned_gbc = tune_model(gbc,optimize = 'Balanced Accuracy')"
   ]
  },
  {
   "cell_type": "code",
   "execution_count": null,
   "id": "1ec67b0a",
   "metadata": {},
   "outputs": [],
   "source": [
    "#AUC Plot\n",
    "#plot_model(tuned_gbc, plot = 'auc')\n",
    "#Precision-Recall Curve\n",
    "#plot_model(tuned_gbc, plot = 'pr')\n",
    "# Feature Importance Plot\n",
    "#plot_model(tuned_gbc, plot='feature')\n",
    "# Confusion Matrix\n",
    "#plot_model(tuned_gbc, plot = 'confusion_matrix')\n",
    "\n",
    "#evaluate_model(tuned_gbc)"
   ]
  },
  {
   "cell_type": "code",
   "execution_count": 19,
   "id": "6f7ab7b0",
   "metadata": {},
   "outputs": [
    {
     "data": {
      "text/html": [
       "<style type=\"text/css\">\n",
       "</style>\n",
       "<table id=\"T_0bda9\">\n",
       "  <thead>\n",
       "    <tr>\n",
       "      <th class=\"blank level0\" >&nbsp;</th>\n",
       "      <th id=\"T_0bda9_level0_col0\" class=\"col_heading level0 col0\" >Model</th>\n",
       "      <th id=\"T_0bda9_level0_col1\" class=\"col_heading level0 col1\" >Accuracy</th>\n",
       "      <th id=\"T_0bda9_level0_col2\" class=\"col_heading level0 col2\" >AUC</th>\n",
       "      <th id=\"T_0bda9_level0_col3\" class=\"col_heading level0 col3\" >Recall</th>\n",
       "      <th id=\"T_0bda9_level0_col4\" class=\"col_heading level0 col4\" >Prec.</th>\n",
       "      <th id=\"T_0bda9_level0_col5\" class=\"col_heading level0 col5\" >F1</th>\n",
       "      <th id=\"T_0bda9_level0_col6\" class=\"col_heading level0 col6\" >Kappa</th>\n",
       "      <th id=\"T_0bda9_level0_col7\" class=\"col_heading level0 col7\" >MCC</th>\n",
       "      <th id=\"T_0bda9_level0_col8\" class=\"col_heading level0 col8\" >Spec.</th>\n",
       "      <th id=\"T_0bda9_level0_col9\" class=\"col_heading level0 col9\" >Balanced Accuracy</th>\n",
       "    </tr>\n",
       "  </thead>\n",
       "  <tbody>\n",
       "    <tr>\n",
       "      <th id=\"T_0bda9_level0_row0\" class=\"row_heading level0 row0\" >0</th>\n",
       "      <td id=\"T_0bda9_row0_col0\" class=\"data row0 col0\" >Gradient Boosting Classifier</td>\n",
       "      <td id=\"T_0bda9_row0_col1\" class=\"data row0 col1\" >0.7856</td>\n",
       "      <td id=\"T_0bda9_row0_col2\" class=\"data row0 col2\" >0.8248</td>\n",
       "      <td id=\"T_0bda9_row0_col3\" class=\"data row0 col3\" >0.7237</td>\n",
       "      <td id=\"T_0bda9_row0_col4\" class=\"data row0 col4\" >0.0674</td>\n",
       "      <td id=\"T_0bda9_row0_col5\" class=\"data row0 col5\" >0.1233</td>\n",
       "      <td id=\"T_0bda9_row0_col6\" class=\"data row0 col6\" >0.0885</td>\n",
       "      <td id=\"T_0bda9_row0_col7\" class=\"data row0 col7\" >0.1750</td>\n",
       "      <td id=\"T_0bda9_row0_col8\" class=\"data row0 col8\" >0.7869</td>\n",
       "      <td id=\"T_0bda9_row0_col9\" class=\"data row0 col9\" >0.7553</td>\n",
       "    </tr>\n",
       "  </tbody>\n",
       "</table>\n"
      ],
      "text/plain": [
       "<pandas.io.formats.style.Styler at 0x1f381ef4be0>"
      ]
     },
     "metadata": {},
     "output_type": "display_data"
    }
   ],
   "source": [
    "#Predict on test / hold-out Sample\n",
    "predict_model(tuned_gbc);"
   ]
  },
  {
   "cell_type": "code",
   "execution_count": 20,
   "id": "b23fe8a8",
   "metadata": {},
   "outputs": [
    {
     "data": {
      "text/html": [
       "<style type=\"text/css\">\n",
       "</style>\n",
       "<table id=\"T_bb8ec\">\n",
       "  <thead>\n",
       "    <tr>\n",
       "      <th class=\"blank level0\" >&nbsp;</th>\n",
       "      <th id=\"T_bb8ec_level0_col0\" class=\"col_heading level0 col0\" >Model</th>\n",
       "      <th id=\"T_bb8ec_level0_col1\" class=\"col_heading level0 col1\" >Accuracy</th>\n",
       "      <th id=\"T_bb8ec_level0_col2\" class=\"col_heading level0 col2\" >AUC</th>\n",
       "      <th id=\"T_bb8ec_level0_col3\" class=\"col_heading level0 col3\" >Recall</th>\n",
       "      <th id=\"T_bb8ec_level0_col4\" class=\"col_heading level0 col4\" >Prec.</th>\n",
       "      <th id=\"T_bb8ec_level0_col5\" class=\"col_heading level0 col5\" >F1</th>\n",
       "      <th id=\"T_bb8ec_level0_col6\" class=\"col_heading level0 col6\" >Kappa</th>\n",
       "      <th id=\"T_bb8ec_level0_col7\" class=\"col_heading level0 col7\" >MCC</th>\n",
       "      <th id=\"T_bb8ec_level0_col8\" class=\"col_heading level0 col8\" >Spec.</th>\n",
       "      <th id=\"T_bb8ec_level0_col9\" class=\"col_heading level0 col9\" >Balanced Accuracy</th>\n",
       "    </tr>\n",
       "  </thead>\n",
       "  <tbody>\n",
       "    <tr>\n",
       "      <th id=\"T_bb8ec_level0_row0\" class=\"row_heading level0 row0\" >0</th>\n",
       "      <td id=\"T_bb8ec_row0_col0\" class=\"data row0 col0\" >Gradient Boosting Classifier</td>\n",
       "      <td id=\"T_bb8ec_row0_col1\" class=\"data row0 col1\" >0.8170</td>\n",
       "      <td id=\"T_bb8ec_row0_col2\" class=\"data row0 col2\" >0.8149</td>\n",
       "      <td id=\"T_bb8ec_row0_col3\" class=\"data row0 col3\" >0.6360</td>\n",
       "      <td id=\"T_bb8ec_row0_col4\" class=\"data row0 col4\" >0.0702</td>\n",
       "      <td id=\"T_bb8ec_row0_col5\" class=\"data row0 col5\" >0.1265</td>\n",
       "      <td id=\"T_bb8ec_row0_col6\" class=\"data row0 col6\" >0.0924</td>\n",
       "      <td id=\"T_bb8ec_row0_col7\" class=\"data row0 col7\" >0.1668</td>\n",
       "      <td id=\"T_bb8ec_row0_col8\" class=\"data row0 col8\" >0.8209</td>\n",
       "      <td id=\"T_bb8ec_row0_col9\" class=\"data row0 col9\" >0.7284</td>\n",
       "    </tr>\n",
       "  </tbody>\n",
       "</table>\n"
      ],
      "text/plain": [
       "<pandas.io.formats.style.Styler at 0x1f3d6cd7f10>"
      ]
     },
     "metadata": {},
     "output_type": "display_data"
    }
   ],
   "source": [
    "predict_model(gbc);"
   ]
  },
  {
   "cell_type": "code",
   "execution_count": null,
   "id": "753b6b5c",
   "metadata": {
    "scrolled": true
   },
   "outputs": [],
   "source": [
    "# Confusion Matrix\n",
    "#plot_model(tuned_gbc, plot = 'confusion_matrix')"
   ]
  },
  {
   "cell_type": "code",
   "execution_count": null,
   "id": "6f308e84",
   "metadata": {},
   "outputs": [],
   "source": [
    "#plot_model(tuned_gbc, plot='feature_all')"
   ]
  },
  {
   "cell_type": "code",
   "execution_count": null,
   "id": "e9a406ea",
   "metadata": {},
   "outputs": [],
   "source": [
    "#tuned_gbc.predict_proba(test_data)"
   ]
  },
  {
   "cell_type": "code",
   "execution_count": null,
   "id": "989f0b42",
   "metadata": {},
   "outputs": [],
   "source": [
    "#pd.DataFrame({'Feature': get_config('X_train').columns, 'Value' : abs(tuned_gbc.coef_[0])}).sort_values(by='Value', ascending=False)\n"
   ]
  },
  {
   "cell_type": "code",
   "execution_count": null,
   "id": "2fc327d2",
   "metadata": {},
   "outputs": [],
   "source": [
    "#plot_model(tuned_gbc,plot='boundary')"
   ]
  },
  {
   "cell_type": "code",
   "execution_count": null,
   "id": "41d2a2ea",
   "metadata": {},
   "outputs": [],
   "source": [
    "#print(tuned_gbc.get_params())"
   ]
  },
  {
   "cell_type": "markdown",
   "id": "8ec13765",
   "metadata": {},
   "source": [
    "### CatBoost Classifier (catboost)"
   ]
  },
  {
   "cell_type": "code",
   "execution_count": 21,
   "id": "864f3ad0",
   "metadata": {},
   "outputs": [
    {
     "data": {
      "text/html": [
       "<style type=\"text/css\">\n",
       "#T_bbd60_row5_col0, #T_bbd60_row5_col1, #T_bbd60_row5_col2, #T_bbd60_row5_col3, #T_bbd60_row5_col4, #T_bbd60_row5_col5, #T_bbd60_row5_col6, #T_bbd60_row5_col7, #T_bbd60_row5_col8 {\n",
       "  background: yellow;\n",
       "}\n",
       "</style>\n",
       "<table id=\"T_bbd60\">\n",
       "  <thead>\n",
       "    <tr>\n",
       "      <th class=\"blank level0\" >&nbsp;</th>\n",
       "      <th id=\"T_bbd60_level0_col0\" class=\"col_heading level0 col0\" >Accuracy</th>\n",
       "      <th id=\"T_bbd60_level0_col1\" class=\"col_heading level0 col1\" >AUC</th>\n",
       "      <th id=\"T_bbd60_level0_col2\" class=\"col_heading level0 col2\" >Recall</th>\n",
       "      <th id=\"T_bbd60_level0_col3\" class=\"col_heading level0 col3\" >Prec.</th>\n",
       "      <th id=\"T_bbd60_level0_col4\" class=\"col_heading level0 col4\" >F1</th>\n",
       "      <th id=\"T_bbd60_level0_col5\" class=\"col_heading level0 col5\" >Kappa</th>\n",
       "      <th id=\"T_bbd60_level0_col6\" class=\"col_heading level0 col6\" >MCC</th>\n",
       "      <th id=\"T_bbd60_level0_col7\" class=\"col_heading level0 col7\" >Spec.</th>\n",
       "      <th id=\"T_bbd60_level0_col8\" class=\"col_heading level0 col8\" >Balanced Accuracy</th>\n",
       "    </tr>\n",
       "  </thead>\n",
       "  <tbody>\n",
       "    <tr>\n",
       "      <th id=\"T_bbd60_level0_row0\" class=\"row_heading level0 row0\" >0</th>\n",
       "      <td id=\"T_bbd60_row0_col0\" class=\"data row0 col0\" >0.9598</td>\n",
       "      <td id=\"T_bbd60_row0_col1\" class=\"data row0 col1\" >0.7281</td>\n",
       "      <td id=\"T_bbd60_row0_col2\" class=\"data row0 col2\" >0.1582</td>\n",
       "      <td id=\"T_bbd60_row0_col3\" class=\"data row0 col3\" >0.1212</td>\n",
       "      <td id=\"T_bbd60_row0_col4\" class=\"data row0 col4\" >0.1373</td>\n",
       "      <td id=\"T_bbd60_row0_col5\" class=\"data row0 col5\" >0.1171</td>\n",
       "      <td id=\"T_bbd60_row0_col6\" class=\"data row0 col6\" >0.1181</td>\n",
       "      <td id=\"T_bbd60_row0_col7\" class=\"data row0 col7\" >0.9763</td>\n",
       "      <td id=\"T_bbd60_row0_col8\" class=\"data row0 col8\" >0.5673</td>\n",
       "    </tr>\n",
       "    <tr>\n",
       "      <th id=\"T_bbd60_level0_row1\" class=\"row_heading level0 row1\" >1</th>\n",
       "      <td id=\"T_bbd60_row1_col0\" class=\"data row1 col0\" >0.9630</td>\n",
       "      <td id=\"T_bbd60_row1_col1\" class=\"data row1 col1\" >0.7417</td>\n",
       "      <td id=\"T_bbd60_row1_col2\" class=\"data row1 col2\" >0.1921</td>\n",
       "      <td id=\"T_bbd60_row1_col3\" class=\"data row1 col3\" >0.1581</td>\n",
       "      <td id=\"T_bbd60_row1_col4\" class=\"data row1 col4\" >0.1735</td>\n",
       "      <td id=\"T_bbd60_row1_col5\" class=\"data row1 col5\" >0.1547</td>\n",
       "      <td id=\"T_bbd60_row1_col6\" class=\"data row1 col6\" >0.1555</td>\n",
       "      <td id=\"T_bbd60_row1_col7\" class=\"data row1 col7\" >0.9789</td>\n",
       "      <td id=\"T_bbd60_row1_col8\" class=\"data row1 col8\" >0.5855</td>\n",
       "    </tr>\n",
       "    <tr>\n",
       "      <th id=\"T_bbd60_level0_row2\" class=\"row_heading level0 row2\" >2</th>\n",
       "      <td id=\"T_bbd60_row2_col0\" class=\"data row2 col0\" >0.9600</td>\n",
       "      <td id=\"T_bbd60_row2_col1\" class=\"data row2 col1\" >0.7255</td>\n",
       "      <td id=\"T_bbd60_row2_col2\" class=\"data row2 col2\" >0.2034</td>\n",
       "      <td id=\"T_bbd60_row2_col3\" class=\"data row2 col3\" >0.1469</td>\n",
       "      <td id=\"T_bbd60_row2_col4\" class=\"data row2 col4\" >0.1706</td>\n",
       "      <td id=\"T_bbd60_row2_col5\" class=\"data row2 col5\" >0.1507</td>\n",
       "      <td id=\"T_bbd60_row2_col6\" class=\"data row2 col6\" >0.1528</td>\n",
       "      <td id=\"T_bbd60_row2_col7\" class=\"data row2 col7\" >0.9756</td>\n",
       "      <td id=\"T_bbd60_row2_col8\" class=\"data row2 col8\" >0.5895</td>\n",
       "    </tr>\n",
       "    <tr>\n",
       "      <th id=\"T_bbd60_level0_row3\" class=\"row_heading level0 row3\" >3</th>\n",
       "      <td id=\"T_bbd60_row3_col0\" class=\"data row3 col0\" >0.9620</td>\n",
       "      <td id=\"T_bbd60_row3_col1\" class=\"data row3 col1\" >0.6954</td>\n",
       "      <td id=\"T_bbd60_row3_col2\" class=\"data row3 col2\" >0.1921</td>\n",
       "      <td id=\"T_bbd60_row3_col3\" class=\"data row3 col3\" >0.1518</td>\n",
       "      <td id=\"T_bbd60_row3_col4\" class=\"data row3 col4\" >0.1696</td>\n",
       "      <td id=\"T_bbd60_row3_col5\" class=\"data row3 col5\" >0.1504</td>\n",
       "      <td id=\"T_bbd60_row3_col6\" class=\"data row3 col6\" >0.1515</td>\n",
       "      <td id=\"T_bbd60_row3_col7\" class=\"data row3 col7\" >0.9779</td>\n",
       "      <td id=\"T_bbd60_row3_col8\" class=\"data row3 col8\" >0.5850</td>\n",
       "    </tr>\n",
       "    <tr>\n",
       "      <th id=\"T_bbd60_level0_row4\" class=\"row_heading level0 row4\" >4</th>\n",
       "      <td id=\"T_bbd60_row4_col0\" class=\"data row4 col0\" >0.9597</td>\n",
       "      <td id=\"T_bbd60_row4_col1\" class=\"data row4 col1\" >0.6961</td>\n",
       "      <td id=\"T_bbd60_row4_col2\" class=\"data row4 col2\" >0.1356</td>\n",
       "      <td id=\"T_bbd60_row4_col3\" class=\"data row4 col3\" >0.1071</td>\n",
       "      <td id=\"T_bbd60_row4_col4\" class=\"data row4 col4\" >0.1197</td>\n",
       "      <td id=\"T_bbd60_row4_col5\" class=\"data row4 col5\" >0.0994</td>\n",
       "      <td id=\"T_bbd60_row4_col6\" class=\"data row4 col6\" >0.1001</td>\n",
       "      <td id=\"T_bbd60_row4_col7\" class=\"data row4 col7\" >0.9767</td>\n",
       "      <td id=\"T_bbd60_row4_col8\" class=\"data row4 col8\" >0.5561</td>\n",
       "    </tr>\n",
       "    <tr>\n",
       "      <th id=\"T_bbd60_level0_row5\" class=\"row_heading level0 row5\" >Mean</th>\n",
       "      <td id=\"T_bbd60_row5_col0\" class=\"data row5 col0\" >0.9609</td>\n",
       "      <td id=\"T_bbd60_row5_col1\" class=\"data row5 col1\" >0.7173</td>\n",
       "      <td id=\"T_bbd60_row5_col2\" class=\"data row5 col2\" >0.1763</td>\n",
       "      <td id=\"T_bbd60_row5_col3\" class=\"data row5 col3\" >0.1370</td>\n",
       "      <td id=\"T_bbd60_row5_col4\" class=\"data row5 col4\" >0.1541</td>\n",
       "      <td id=\"T_bbd60_row5_col5\" class=\"data row5 col5\" >0.1344</td>\n",
       "      <td id=\"T_bbd60_row5_col6\" class=\"data row5 col6\" >0.1356</td>\n",
       "      <td id=\"T_bbd60_row5_col7\" class=\"data row5 col7\" >0.9771</td>\n",
       "      <td id=\"T_bbd60_row5_col8\" class=\"data row5 col8\" >0.5767</td>\n",
       "    </tr>\n",
       "    <tr>\n",
       "      <th id=\"T_bbd60_level0_row6\" class=\"row_heading level0 row6\" >SD</th>\n",
       "      <td id=\"T_bbd60_row6_col0\" class=\"data row6 col0\" >0.0013</td>\n",
       "      <td id=\"T_bbd60_row6_col1\" class=\"data row6 col1\" >0.0185</td>\n",
       "      <td id=\"T_bbd60_row6_col2\" class=\"data row6 col2\" >0.0254</td>\n",
       "      <td id=\"T_bbd60_row6_col3\" class=\"data row6 col3\" >0.0195</td>\n",
       "      <td id=\"T_bbd60_row6_col4\" class=\"data row6 col4\" >0.0217</td>\n",
       "      <td id=\"T_bbd60_row6_col5\" class=\"data row6 col5\" >0.0222</td>\n",
       "      <td id=\"T_bbd60_row6_col6\" class=\"data row6 col6\" >0.0224</td>\n",
       "      <td id=\"T_bbd60_row6_col7\" class=\"data row6 col7\" >0.0012</td>\n",
       "      <td id=\"T_bbd60_row6_col8\" class=\"data row6 col8\" >0.0128</td>\n",
       "    </tr>\n",
       "  </tbody>\n",
       "</table>\n"
      ],
      "text/plain": [
       "<pandas.io.formats.style.Styler at 0x1f3d8b0a790>"
      ]
     },
     "metadata": {},
     "output_type": "display_data"
    }
   ],
   "source": [
    "#catboost = create_model('catboost',class_weights={0:6, 1:9},max_depth=3)\n",
    "catboost = create_model('catboost')"
   ]
  },
  {
   "cell_type": "code",
   "execution_count": 22,
   "id": "090419f1",
   "metadata": {},
   "outputs": [
    {
     "data": {
      "text/html": [
       "<style type=\"text/css\">\n",
       "#T_489e6_row5_col0, #T_489e6_row5_col1, #T_489e6_row5_col2, #T_489e6_row5_col3, #T_489e6_row5_col4, #T_489e6_row5_col5, #T_489e6_row5_col6, #T_489e6_row5_col7, #T_489e6_row5_col8 {\n",
       "  background: yellow;\n",
       "}\n",
       "</style>\n",
       "<table id=\"T_489e6\">\n",
       "  <thead>\n",
       "    <tr>\n",
       "      <th class=\"blank level0\" >&nbsp;</th>\n",
       "      <th id=\"T_489e6_level0_col0\" class=\"col_heading level0 col0\" >Accuracy</th>\n",
       "      <th id=\"T_489e6_level0_col1\" class=\"col_heading level0 col1\" >AUC</th>\n",
       "      <th id=\"T_489e6_level0_col2\" class=\"col_heading level0 col2\" >Recall</th>\n",
       "      <th id=\"T_489e6_level0_col3\" class=\"col_heading level0 col3\" >Prec.</th>\n",
       "      <th id=\"T_489e6_level0_col4\" class=\"col_heading level0 col4\" >F1</th>\n",
       "      <th id=\"T_489e6_level0_col5\" class=\"col_heading level0 col5\" >Kappa</th>\n",
       "      <th id=\"T_489e6_level0_col6\" class=\"col_heading level0 col6\" >MCC</th>\n",
       "      <th id=\"T_489e6_level0_col7\" class=\"col_heading level0 col7\" >Spec.</th>\n",
       "      <th id=\"T_489e6_level0_col8\" class=\"col_heading level0 col8\" >Balanced Accuracy</th>\n",
       "    </tr>\n",
       "  </thead>\n",
       "  <tbody>\n",
       "    <tr>\n",
       "      <th id=\"T_489e6_level0_row0\" class=\"row_heading level0 row0\" >0</th>\n",
       "      <td id=\"T_489e6_row0_col0\" class=\"data row0 col0\" >0.8032</td>\n",
       "      <td id=\"T_489e6_row0_col1\" class=\"data row0 col1\" >0.8126</td>\n",
       "      <td id=\"T_489e6_row0_col2\" class=\"data row0 col2\" >0.6949</td>\n",
       "      <td id=\"T_489e6_row0_col3\" class=\"data row0 col3\" >0.0686</td>\n",
       "      <td id=\"T_489e6_row0_col4\" class=\"data row0 col4\" >0.1249</td>\n",
       "      <td id=\"T_489e6_row0_col5\" class=\"data row0 col5\" >0.0915</td>\n",
       "      <td id=\"T_489e6_row0_col6\" class=\"data row0 col6\" >0.1745</td>\n",
       "      <td id=\"T_489e6_row0_col7\" class=\"data row0 col7\" >0.8054</td>\n",
       "      <td id=\"T_489e6_row0_col8\" class=\"data row0 col8\" >0.7502</td>\n",
       "    </tr>\n",
       "    <tr>\n",
       "      <th id=\"T_489e6_level0_row1\" class=\"row_heading level0 row1\" >1</th>\n",
       "      <td id=\"T_489e6_row1_col0\" class=\"data row1 col0\" >0.8044</td>\n",
       "      <td id=\"T_489e6_row1_col1\" class=\"data row1 col1\" >0.8066</td>\n",
       "      <td id=\"T_489e6_row1_col2\" class=\"data row1 col2\" >0.6667</td>\n",
       "      <td id=\"T_489e6_row1_col3\" class=\"data row1 col3\" >0.0666</td>\n",
       "      <td id=\"T_489e6_row1_col4\" class=\"data row1 col4\" >0.1211</td>\n",
       "      <td id=\"T_489e6_row1_col5\" class=\"data row1 col5\" >0.0876</td>\n",
       "      <td id=\"T_489e6_row1_col6\" class=\"data row1 col6\" >0.1660</td>\n",
       "      <td id=\"T_489e6_row1_col7\" class=\"data row1 col7\" >0.8072</td>\n",
       "      <td id=\"T_489e6_row1_col8\" class=\"data row1 col8\" >0.7370</td>\n",
       "    </tr>\n",
       "    <tr>\n",
       "      <th id=\"T_489e6_level0_row2\" class=\"row_heading level0 row2\" >2</th>\n",
       "      <td id=\"T_489e6_row2_col0\" class=\"data row2 col0\" >0.7960</td>\n",
       "      <td id=\"T_489e6_row2_col1\" class=\"data row2 col1\" >0.7993</td>\n",
       "      <td id=\"T_489e6_row2_col2\" class=\"data row2 col2\" >0.6610</td>\n",
       "      <td id=\"T_489e6_row2_col3\" class=\"data row2 col3\" >0.0634</td>\n",
       "      <td id=\"T_489e6_row2_col4\" class=\"data row2 col4\" >0.1158</td>\n",
       "      <td id=\"T_489e6_row2_col5\" class=\"data row2 col5\" >0.0819</td>\n",
       "      <td id=\"T_489e6_row2_col6\" class=\"data row2 col6\" >0.1587</td>\n",
       "      <td id=\"T_489e6_row2_col7\" class=\"data row2 col7\" >0.7987</td>\n",
       "      <td id=\"T_489e6_row2_col8\" class=\"data row2 col8\" >0.7299</td>\n",
       "    </tr>\n",
       "    <tr>\n",
       "      <th id=\"T_489e6_level0_row3\" class=\"row_heading level0 row3\" >3</th>\n",
       "      <td id=\"T_489e6_row3_col0\" class=\"data row3 col0\" >0.8044</td>\n",
       "      <td id=\"T_489e6_row3_col1\" class=\"data row3 col1\" >0.7729</td>\n",
       "      <td id=\"T_489e6_row3_col2\" class=\"data row3 col2\" >0.6102</td>\n",
       "      <td id=\"T_489e6_row3_col3\" class=\"data row3 col3\" >0.0616</td>\n",
       "      <td id=\"T_489e6_row3_col4\" class=\"data row3 col4\" >0.1120</td>\n",
       "      <td id=\"T_489e6_row3_col5\" class=\"data row3 col5\" >0.0781</td>\n",
       "      <td id=\"T_489e6_row3_col6\" class=\"data row3 col6\" >0.1472</td>\n",
       "      <td id=\"T_489e6_row3_col7\" class=\"data row3 col7\" >0.8084</td>\n",
       "      <td id=\"T_489e6_row3_col8\" class=\"data row3 col8\" >0.7093</td>\n",
       "    </tr>\n",
       "    <tr>\n",
       "      <th id=\"T_489e6_level0_row4\" class=\"row_heading level0 row4\" >4</th>\n",
       "      <td id=\"T_489e6_row4_col0\" class=\"data row4 col0\" >0.8107</td>\n",
       "      <td id=\"T_489e6_row4_col1\" class=\"data row4 col1\" >0.7938</td>\n",
       "      <td id=\"T_489e6_row4_col2\" class=\"data row4 col2\" >0.6384</td>\n",
       "      <td id=\"T_489e6_row4_col3\" class=\"data row4 col3\" >0.0662</td>\n",
       "      <td id=\"T_489e6_row4_col4\" class=\"data row4 col4\" >0.1200</td>\n",
       "      <td id=\"T_489e6_row4_col5\" class=\"data row4 col5\" >0.0865</td>\n",
       "      <td id=\"T_489e6_row4_col6\" class=\"data row4 col6\" >0.1608</td>\n",
       "      <td id=\"T_489e6_row4_col7\" class=\"data row4 col7\" >0.8142</td>\n",
       "      <td id=\"T_489e6_row4_col8\" class=\"data row4 col8\" >0.7263</td>\n",
       "    </tr>\n",
       "    <tr>\n",
       "      <th id=\"T_489e6_level0_row5\" class=\"row_heading level0 row5\" >Mean</th>\n",
       "      <td id=\"T_489e6_row5_col0\" class=\"data row5 col0\" >0.8037</td>\n",
       "      <td id=\"T_489e6_row5_col1\" class=\"data row5 col1\" >0.7971</td>\n",
       "      <td id=\"T_489e6_row5_col2\" class=\"data row5 col2\" >0.6542</td>\n",
       "      <td id=\"T_489e6_row5_col3\" class=\"data row5 col3\" >0.0653</td>\n",
       "      <td id=\"T_489e6_row5_col4\" class=\"data row5 col4\" >0.1187</td>\n",
       "      <td id=\"T_489e6_row5_col5\" class=\"data row5 col5\" >0.0851</td>\n",
       "      <td id=\"T_489e6_row5_col6\" class=\"data row5 col6\" >0.1614</td>\n",
       "      <td id=\"T_489e6_row5_col7\" class=\"data row5 col7\" >0.8068</td>\n",
       "      <td id=\"T_489e6_row5_col8\" class=\"data row5 col8\" >0.7305</td>\n",
       "    </tr>\n",
       "    <tr>\n",
       "      <th id=\"T_489e6_level0_row6\" class=\"row_heading level0 row6\" >SD</th>\n",
       "      <td id=\"T_489e6_row6_col0\" class=\"data row6 col0\" >0.0047</td>\n",
       "      <td id=\"T_489e6_row6_col1\" class=\"data row6 col1\" >0.0136</td>\n",
       "      <td id=\"T_489e6_row6_col2\" class=\"data row6 col2\" >0.0285</td>\n",
       "      <td id=\"T_489e6_row6_col3\" class=\"data row6 col3\" >0.0025</td>\n",
       "      <td id=\"T_489e6_row6_col4\" class=\"data row6 col4\" >0.0045</td>\n",
       "      <td id=\"T_489e6_row6_col5\" class=\"data row6 col5\" >0.0046</td>\n",
       "      <td id=\"T_489e6_row6_col6\" class=\"data row6 col6\" >0.0089</td>\n",
       "      <td id=\"T_489e6_row6_col7\" class=\"data row6 col7\" >0.0050</td>\n",
       "      <td id=\"T_489e6_row6_col8\" class=\"data row6 col8\" >0.0134</td>\n",
       "    </tr>\n",
       "  </tbody>\n",
       "</table>\n"
      ],
      "text/plain": [
       "<pandas.io.formats.style.Styler at 0x1f3d8b27100>"
      ]
     },
     "metadata": {},
     "output_type": "display_data"
    }
   ],
   "source": [
    "#Tune a Model\n",
    "tuned_catboost = tune_model(catboost,optimize = 'Balanced Accuracy')"
   ]
  },
  {
   "cell_type": "code",
   "execution_count": null,
   "id": "629af742",
   "metadata": {},
   "outputs": [],
   "source": [
    "#AUC Plot\n",
    "plot_model(tuned_catboost, plot = 'auc')\n",
    "#Precision-Recall Curve\n",
    "plot_model(tuned_catboost, plot = 'pr')\n",
    "# Feature Importance Plot\n",
    "plot_model(tuned_catboost, plot='feature')\n",
    "# Confusion Matrix\n",
    "plot_model(tuned_catboost, plot = 'confusion_matrix')\n",
    "\n",
    "evaluate_model(tuned_catboost)"
   ]
  },
  {
   "cell_type": "code",
   "execution_count": 23,
   "id": "54161290",
   "metadata": {},
   "outputs": [
    {
     "data": {
      "text/html": [
       "<style type=\"text/css\">\n",
       "</style>\n",
       "<table id=\"T_8e1c7\">\n",
       "  <thead>\n",
       "    <tr>\n",
       "      <th class=\"blank level0\" >&nbsp;</th>\n",
       "      <th id=\"T_8e1c7_level0_col0\" class=\"col_heading level0 col0\" >Model</th>\n",
       "      <th id=\"T_8e1c7_level0_col1\" class=\"col_heading level0 col1\" >Accuracy</th>\n",
       "      <th id=\"T_8e1c7_level0_col2\" class=\"col_heading level0 col2\" >AUC</th>\n",
       "      <th id=\"T_8e1c7_level0_col3\" class=\"col_heading level0 col3\" >Recall</th>\n",
       "      <th id=\"T_8e1c7_level0_col4\" class=\"col_heading level0 col4\" >Prec.</th>\n",
       "      <th id=\"T_8e1c7_level0_col5\" class=\"col_heading level0 col5\" >F1</th>\n",
       "      <th id=\"T_8e1c7_level0_col6\" class=\"col_heading level0 col6\" >Kappa</th>\n",
       "      <th id=\"T_8e1c7_level0_col7\" class=\"col_heading level0 col7\" >MCC</th>\n",
       "      <th id=\"T_8e1c7_level0_col8\" class=\"col_heading level0 col8\" >Spec.</th>\n",
       "      <th id=\"T_8e1c7_level0_col9\" class=\"col_heading level0 col9\" >Balanced Accuracy</th>\n",
       "    </tr>\n",
       "  </thead>\n",
       "  <tbody>\n",
       "    <tr>\n",
       "      <th id=\"T_8e1c7_level0_row0\" class=\"row_heading level0 row0\" >0</th>\n",
       "      <td id=\"T_8e1c7_row0_col0\" class=\"data row0 col0\" >CatBoost Classifier</td>\n",
       "      <td id=\"T_8e1c7_row0_col1\" class=\"data row0 col1\" >0.7940</td>\n",
       "      <td id=\"T_8e1c7_row0_col2\" class=\"data row0 col2\" >0.8140</td>\n",
       "      <td id=\"T_8e1c7_row0_col3\" class=\"data row0 col3\" >0.6228</td>\n",
       "      <td id=\"T_8e1c7_row0_col4\" class=\"data row0 col4\" >0.0614</td>\n",
       "      <td id=\"T_8e1c7_row0_col5\" class=\"data row0 col5\" >0.1119</td>\n",
       "      <td id=\"T_8e1c7_row0_col6\" class=\"data row0 col6\" >0.0769</td>\n",
       "      <td id=\"T_8e1c7_row0_col7\" class=\"data row0 col7\" >0.1471</td>\n",
       "      <td id=\"T_8e1c7_row0_col8\" class=\"data row0 col8\" >0.7977</td>\n",
       "      <td id=\"T_8e1c7_row0_col9\" class=\"data row0 col9\" >0.7102</td>\n",
       "    </tr>\n",
       "  </tbody>\n",
       "</table>\n"
      ],
      "text/plain": [
       "<pandas.io.formats.style.Styler at 0x1f3d9c82490>"
      ]
     },
     "metadata": {},
     "output_type": "display_data"
    }
   ],
   "source": [
    "#Predict on test / hold-out Sample\n",
    "predict_model(tuned_catboost);"
   ]
  },
  {
   "cell_type": "code",
   "execution_count": 24,
   "id": "392fafea",
   "metadata": {},
   "outputs": [
    {
     "data": {
      "text/html": [
       "<style type=\"text/css\">\n",
       "</style>\n",
       "<table id=\"T_707d2\">\n",
       "  <thead>\n",
       "    <tr>\n",
       "      <th class=\"blank level0\" >&nbsp;</th>\n",
       "      <th id=\"T_707d2_level0_col0\" class=\"col_heading level0 col0\" >Model</th>\n",
       "      <th id=\"T_707d2_level0_col1\" class=\"col_heading level0 col1\" >Accuracy</th>\n",
       "      <th id=\"T_707d2_level0_col2\" class=\"col_heading level0 col2\" >AUC</th>\n",
       "      <th id=\"T_707d2_level0_col3\" class=\"col_heading level0 col3\" >Recall</th>\n",
       "      <th id=\"T_707d2_level0_col4\" class=\"col_heading level0 col4\" >Prec.</th>\n",
       "      <th id=\"T_707d2_level0_col5\" class=\"col_heading level0 col5\" >F1</th>\n",
       "      <th id=\"T_707d2_level0_col6\" class=\"col_heading level0 col6\" >Kappa</th>\n",
       "      <th id=\"T_707d2_level0_col7\" class=\"col_heading level0 col7\" >MCC</th>\n",
       "      <th id=\"T_707d2_level0_col8\" class=\"col_heading level0 col8\" >Spec.</th>\n",
       "      <th id=\"T_707d2_level0_col9\" class=\"col_heading level0 col9\" >Balanced Accuracy</th>\n",
       "    </tr>\n",
       "  </thead>\n",
       "  <tbody>\n",
       "    <tr>\n",
       "      <th id=\"T_707d2_level0_row0\" class=\"row_heading level0 row0\" >0</th>\n",
       "      <td id=\"T_707d2_row0_col0\" class=\"data row0 col0\" >CatBoost Classifier</td>\n",
       "      <td id=\"T_707d2_row0_col1\" class=\"data row0 col1\" >0.9570</td>\n",
       "      <td id=\"T_707d2_row0_col2\" class=\"data row0 col2\" >0.7290</td>\n",
       "      <td id=\"T_707d2_row0_col3\" class=\"data row0 col3\" >0.2149</td>\n",
       "      <td id=\"T_707d2_row0_col4\" class=\"data row0 col4\" >0.1437</td>\n",
       "      <td id=\"T_707d2_row0_col5\" class=\"data row0 col5\" >0.1722</td>\n",
       "      <td id=\"T_707d2_row0_col6\" class=\"data row0 col6\" >0.1510</td>\n",
       "      <td id=\"T_707d2_row0_col7\" class=\"data row0 col7\" >0.1543</td>\n",
       "      <td id=\"T_707d2_row0_col8\" class=\"data row0 col8\" >0.9728</td>\n",
       "      <td id=\"T_707d2_row0_col9\" class=\"data row0 col9\" >0.5938</td>\n",
       "    </tr>\n",
       "  </tbody>\n",
       "</table>\n"
      ],
      "text/plain": [
       "<pandas.io.formats.style.Styler at 0x1f3e76fd7c0>"
      ]
     },
     "metadata": {},
     "output_type": "display_data"
    }
   ],
   "source": [
    "predict_model(catboost);"
   ]
  },
  {
   "cell_type": "code",
   "execution_count": null,
   "id": "f99d1876",
   "metadata": {},
   "outputs": [],
   "source": [
    "# Confusion Matrix\n",
    "#plot_model(catboost, plot = 'confusion_matrix')"
   ]
  },
  {
   "cell_type": "code",
   "execution_count": null,
   "id": "fbdddeda",
   "metadata": {},
   "outputs": [],
   "source": [
    "#plot_model(catboost, plot='feature_all')"
   ]
  },
  {
   "cell_type": "code",
   "execution_count": null,
   "id": "886ceb27",
   "metadata": {},
   "outputs": [],
   "source": [
    "#pd.DataFrame({'Feature': get_config('X_train').columns, 'Value' : abs(catboost.coef_[0])}).sort_values(by='Value', ascending=False)\n"
   ]
  },
  {
   "cell_type": "code",
   "execution_count": null,
   "id": "50a3e737",
   "metadata": {},
   "outputs": [],
   "source": [
    "#plot_model(catboost,plot='boundary')"
   ]
  },
  {
   "cell_type": "code",
   "execution_count": null,
   "id": "6dee4de2",
   "metadata": {},
   "outputs": [],
   "source": [
    "#print(tuned_catboost.get_params())"
   ]
  },
  {
   "cell_type": "markdown",
   "id": "0a8c7d82",
   "metadata": {},
   "source": [
    "### Light Gradient Boosting Machine (lightgbm)"
   ]
  },
  {
   "cell_type": "code",
   "execution_count": 51,
   "id": "ef7e38ab",
   "metadata": {},
   "outputs": [
    {
     "data": {
      "text/html": [
       "<style type=\"text/css\">\n",
       "#T_ca77d_row5_col0, #T_ca77d_row5_col1, #T_ca77d_row5_col2, #T_ca77d_row5_col3, #T_ca77d_row5_col4, #T_ca77d_row5_col5, #T_ca77d_row5_col6, #T_ca77d_row5_col7, #T_ca77d_row5_col8 {\n",
       "  background: yellow;\n",
       "}\n",
       "</style>\n",
       "<table id=\"T_ca77d\">\n",
       "  <thead>\n",
       "    <tr>\n",
       "      <th class=\"blank level0\" >&nbsp;</th>\n",
       "      <th id=\"T_ca77d_level0_col0\" class=\"col_heading level0 col0\" >Accuracy</th>\n",
       "      <th id=\"T_ca77d_level0_col1\" class=\"col_heading level0 col1\" >AUC</th>\n",
       "      <th id=\"T_ca77d_level0_col2\" class=\"col_heading level0 col2\" >Recall</th>\n",
       "      <th id=\"T_ca77d_level0_col3\" class=\"col_heading level0 col3\" >Prec.</th>\n",
       "      <th id=\"T_ca77d_level0_col4\" class=\"col_heading level0 col4\" >F1</th>\n",
       "      <th id=\"T_ca77d_level0_col5\" class=\"col_heading level0 col5\" >Kappa</th>\n",
       "      <th id=\"T_ca77d_level0_col6\" class=\"col_heading level0 col6\" >MCC</th>\n",
       "      <th id=\"T_ca77d_level0_col7\" class=\"col_heading level0 col7\" >Spec.</th>\n",
       "      <th id=\"T_ca77d_level0_col8\" class=\"col_heading level0 col8\" >Balanced Accuracy</th>\n",
       "    </tr>\n",
       "  </thead>\n",
       "  <tbody>\n",
       "    <tr>\n",
       "      <th id=\"T_ca77d_level0_row0\" class=\"row_heading level0 row0\" >0</th>\n",
       "      <td id=\"T_ca77d_row0_col0\" class=\"data row0 col0\" >0.6934</td>\n",
       "      <td id=\"T_ca77d_row0_col1\" class=\"data row0 col1\" >0.8148</td>\n",
       "      <td id=\"T_ca77d_row0_col2\" class=\"data row0 col2\" >0.7727</td>\n",
       "      <td id=\"T_ca77d_row0_col3\" class=\"data row0 col3\" >0.0461</td>\n",
       "      <td id=\"T_ca77d_row0_col4\" class=\"data row0 col4\" >0.0871</td>\n",
       "      <td id=\"T_ca77d_row0_col5\" class=\"data row0 col5\" >0.0533</td>\n",
       "      <td id=\"T_ca77d_row0_col6\" class=\"data row0 col6\" >0.1361</td>\n",
       "      <td id=\"T_ca77d_row0_col7\" class=\"data row0 col7\" >0.6919</td>\n",
       "      <td id=\"T_ca77d_row0_col8\" class=\"data row0 col8\" >0.7323</td>\n",
       "    </tr>\n",
       "    <tr>\n",
       "      <th id=\"T_ca77d_level0_row1\" class=\"row_heading level0 row1\" >1</th>\n",
       "      <td id=\"T_ca77d_row1_col0\" class=\"data row1 col0\" >0.7031</td>\n",
       "      <td id=\"T_ca77d_row1_col1\" class=\"data row1 col1\" >0.7740</td>\n",
       "      <td id=\"T_ca77d_row1_col2\" class=\"data row1 col2\" >0.7102</td>\n",
       "      <td id=\"T_ca77d_row1_col3\" class=\"data row1 col3\" >0.0441</td>\n",
       "      <td id=\"T_ca77d_row1_col4\" class=\"data row1 col4\" >0.0830</td>\n",
       "      <td id=\"T_ca77d_row1_col5\" class=\"data row1 col5\" >0.0491</td>\n",
       "      <td id=\"T_ca77d_row1_col6\" class=\"data row1 col6\" >0.1223</td>\n",
       "      <td id=\"T_ca77d_row1_col7\" class=\"data row1 col7\" >0.7029</td>\n",
       "      <td id=\"T_ca77d_row1_col8\" class=\"data row1 col8\" >0.7066</td>\n",
       "    </tr>\n",
       "    <tr>\n",
       "      <th id=\"T_ca77d_level0_row2\" class=\"row_heading level0 row2\" >2</th>\n",
       "      <td id=\"T_ca77d_row2_col0\" class=\"data row2 col0\" >0.6978</td>\n",
       "      <td id=\"T_ca77d_row2_col1\" class=\"data row2 col1\" >0.7908</td>\n",
       "      <td id=\"T_ca77d_row2_col2\" class=\"data row2 col2\" >0.7273</td>\n",
       "      <td id=\"T_ca77d_row2_col3\" class=\"data row2 col3\" >0.0443</td>\n",
       "      <td id=\"T_ca77d_row2_col4\" class=\"data row2 col4\" >0.0835</td>\n",
       "      <td id=\"T_ca77d_row2_col5\" class=\"data row2 col5\" >0.0496</td>\n",
       "      <td id=\"T_ca77d_row2_col6\" class=\"data row2 col6\" >0.1250</td>\n",
       "      <td id=\"T_ca77d_row2_col7\" class=\"data row2 col7\" >0.6972</td>\n",
       "      <td id=\"T_ca77d_row2_col8\" class=\"data row2 col8\" >0.7122</td>\n",
       "    </tr>\n",
       "    <tr>\n",
       "      <th id=\"T_ca77d_level0_row3\" class=\"row_heading level0 row3\" >3</th>\n",
       "      <td id=\"T_ca77d_row3_col0\" class=\"data row3 col0\" >0.7017</td>\n",
       "      <td id=\"T_ca77d_row3_col1\" class=\"data row3 col1\" >0.7967</td>\n",
       "      <td id=\"T_ca77d_row3_col2\" class=\"data row3 col2\" >0.7500</td>\n",
       "      <td id=\"T_ca77d_row3_col3\" class=\"data row3 col3\" >0.0461</td>\n",
       "      <td id=\"T_ca77d_row3_col4\" class=\"data row3 col4\" >0.0869</td>\n",
       "      <td id=\"T_ca77d_row3_col5\" class=\"data row3 col5\" >0.0531</td>\n",
       "      <td id=\"T_ca77d_row3_col6\" class=\"data row3 col6\" >0.1331</td>\n",
       "      <td id=\"T_ca77d_row3_col7\" class=\"data row3 col7\" >0.7007</td>\n",
       "      <td id=\"T_ca77d_row3_col8\" class=\"data row3 col8\" >0.7254</td>\n",
       "    </tr>\n",
       "    <tr>\n",
       "      <th id=\"T_ca77d_level0_row4\" class=\"row_heading level0 row4\" >4</th>\n",
       "      <td id=\"T_ca77d_row4_col0\" class=\"data row4 col0\" >0.6909</td>\n",
       "      <td id=\"T_ca77d_row4_col1\" class=\"data row4 col1\" >0.7874</td>\n",
       "      <td id=\"T_ca77d_row4_col2\" class=\"data row4 col2\" >0.7557</td>\n",
       "      <td id=\"T_ca77d_row4_col3\" class=\"data row4 col3\" >0.0449</td>\n",
       "      <td id=\"T_ca77d_row4_col4\" class=\"data row4 col4\" >0.0847</td>\n",
       "      <td id=\"T_ca77d_row4_col5\" class=\"data row4 col5\" >0.0508</td>\n",
       "      <td id=\"T_ca77d_row4_col6\" class=\"data row4 col6\" >0.1302</td>\n",
       "      <td id=\"T_ca77d_row4_col7\" class=\"data row4 col7\" >0.6897</td>\n",
       "      <td id=\"T_ca77d_row4_col8\" class=\"data row4 col8\" >0.7227</td>\n",
       "    </tr>\n",
       "    <tr>\n",
       "      <th id=\"T_ca77d_level0_row5\" class=\"row_heading level0 row5\" >Mean</th>\n",
       "      <td id=\"T_ca77d_row5_col0\" class=\"data row5 col0\" >0.6974</td>\n",
       "      <td id=\"T_ca77d_row5_col1\" class=\"data row5 col1\" >0.7927</td>\n",
       "      <td id=\"T_ca77d_row5_col2\" class=\"data row5 col2\" >0.7432</td>\n",
       "      <td id=\"T_ca77d_row5_col3\" class=\"data row5 col3\" >0.0451</td>\n",
       "      <td id=\"T_ca77d_row5_col4\" class=\"data row5 col4\" >0.0850</td>\n",
       "      <td id=\"T_ca77d_row5_col5\" class=\"data row5 col5\" >0.0512</td>\n",
       "      <td id=\"T_ca77d_row5_col6\" class=\"data row5 col6\" >0.1293</td>\n",
       "      <td id=\"T_ca77d_row5_col7\" class=\"data row5 col7\" >0.6965</td>\n",
       "      <td id=\"T_ca77d_row5_col8\" class=\"data row5 col8\" >0.7198</td>\n",
       "    </tr>\n",
       "    <tr>\n",
       "      <th id=\"T_ca77d_level0_row6\" class=\"row_heading level0 row6\" >SD</th>\n",
       "      <td id=\"T_ca77d_row6_col0\" class=\"data row6 col0\" >0.0047</td>\n",
       "      <td id=\"T_ca77d_row6_col1\" class=\"data row6 col1\" >0.0133</td>\n",
       "      <td id=\"T_ca77d_row6_col2\" class=\"data row6 col2\" >0.0220</td>\n",
       "      <td id=\"T_ca77d_row6_col3\" class=\"data row6 col3\" >0.0009</td>\n",
       "      <td id=\"T_ca77d_row6_col4\" class=\"data row6 col4\" >0.0017</td>\n",
       "      <td id=\"T_ca77d_row6_col5\" class=\"data row6 col5\" >0.0017</td>\n",
       "      <td id=\"T_ca77d_row6_col6\" class=\"data row6 col6\" >0.0051</td>\n",
       "      <td id=\"T_ca77d_row6_col7\" class=\"data row6 col7\" >0.0051</td>\n",
       "      <td id=\"T_ca77d_row6_col8\" class=\"data row6 col8\" >0.0092</td>\n",
       "    </tr>\n",
       "  </tbody>\n",
       "</table>\n"
      ],
      "text/plain": [
       "<pandas.io.formats.style.Styler at 0x1f381f05160>"
      ]
     },
     "metadata": {},
     "output_type": "display_data"
    }
   ],
   "source": [
    "lightgbm = create_model('lightgbm',class_weight={0:6, 1:9},max_depth=3,num_leaves=80)"
   ]
  },
  {
   "cell_type": "code",
   "execution_count": 52,
   "id": "1e3af32b",
   "metadata": {},
   "outputs": [
    {
     "data": {
      "text/html": [
       "<style type=\"text/css\">\n",
       "#T_376eb_row5_col0, #T_376eb_row5_col1, #T_376eb_row5_col2, #T_376eb_row5_col3, #T_376eb_row5_col4, #T_376eb_row5_col5, #T_376eb_row5_col6, #T_376eb_row5_col7, #T_376eb_row5_col8 {\n",
       "  background: yellow;\n",
       "}\n",
       "</style>\n",
       "<table id=\"T_376eb\">\n",
       "  <thead>\n",
       "    <tr>\n",
       "      <th class=\"blank level0\" >&nbsp;</th>\n",
       "      <th id=\"T_376eb_level0_col0\" class=\"col_heading level0 col0\" >Accuracy</th>\n",
       "      <th id=\"T_376eb_level0_col1\" class=\"col_heading level0 col1\" >AUC</th>\n",
       "      <th id=\"T_376eb_level0_col2\" class=\"col_heading level0 col2\" >Recall</th>\n",
       "      <th id=\"T_376eb_level0_col3\" class=\"col_heading level0 col3\" >Prec.</th>\n",
       "      <th id=\"T_376eb_level0_col4\" class=\"col_heading level0 col4\" >F1</th>\n",
       "      <th id=\"T_376eb_level0_col5\" class=\"col_heading level0 col5\" >Kappa</th>\n",
       "      <th id=\"T_376eb_level0_col6\" class=\"col_heading level0 col6\" >MCC</th>\n",
       "      <th id=\"T_376eb_level0_col7\" class=\"col_heading level0 col7\" >Spec.</th>\n",
       "      <th id=\"T_376eb_level0_col8\" class=\"col_heading level0 col8\" >Balanced Accuracy</th>\n",
       "    </tr>\n",
       "  </thead>\n",
       "  <tbody>\n",
       "    <tr>\n",
       "      <th id=\"T_376eb_level0_row0\" class=\"row_heading level0 row0\" >0</th>\n",
       "      <td id=\"T_376eb_row0_col0\" class=\"data row0 col0\" >0.6674</td>\n",
       "      <td id=\"T_376eb_row0_col1\" class=\"data row0 col1\" >0.8237</td>\n",
       "      <td id=\"T_376eb_row0_col2\" class=\"data row0 col2\" >0.8068</td>\n",
       "      <td id=\"T_376eb_row0_col3\" class=\"data row0 col3\" >0.0444</td>\n",
       "      <td id=\"T_376eb_row0_col4\" class=\"data row0 col4\" >0.0841</td>\n",
       "      <td id=\"T_376eb_row0_col5\" class=\"data row0 col5\" >0.0500</td>\n",
       "      <td id=\"T_376eb_row0_col6\" class=\"data row0 col6\" >0.1352</td>\n",
       "      <td id=\"T_376eb_row0_col7\" class=\"data row0 col7\" >0.6647</td>\n",
       "      <td id=\"T_376eb_row0_col8\" class=\"data row0 col8\" >0.7358</td>\n",
       "    </tr>\n",
       "    <tr>\n",
       "      <th id=\"T_376eb_level0_row1\" class=\"row_heading level0 row1\" >1</th>\n",
       "      <td id=\"T_376eb_row1_col0\" class=\"data row1 col0\" >0.6735</td>\n",
       "      <td id=\"T_376eb_row1_col1\" class=\"data row1 col1\" >0.7812</td>\n",
       "      <td id=\"T_376eb_row1_col2\" class=\"data row1 col2\" >0.7386</td>\n",
       "      <td id=\"T_376eb_row1_col3\" class=\"data row1 col3\" >0.0417</td>\n",
       "      <td id=\"T_376eb_row1_col4\" class=\"data row1 col4\" >0.0789</td>\n",
       "      <td id=\"T_376eb_row1_col5\" class=\"data row1 col5\" >0.0447</td>\n",
       "      <td id=\"T_376eb_row1_col6\" class=\"data row1 col6\" >0.1186</td>\n",
       "      <td id=\"T_376eb_row1_col7\" class=\"data row1 col7\" >0.6723</td>\n",
       "      <td id=\"T_376eb_row1_col8\" class=\"data row1 col8\" >0.7054</td>\n",
       "    </tr>\n",
       "    <tr>\n",
       "      <th id=\"T_376eb_level0_row2\" class=\"row_heading level0 row2\" >2</th>\n",
       "      <td id=\"T_376eb_row2_col0\" class=\"data row2 col0\" >0.6793</td>\n",
       "      <td id=\"T_376eb_row2_col1\" class=\"data row2 col1\" >0.7934</td>\n",
       "      <td id=\"T_376eb_row2_col2\" class=\"data row2 col2\" >0.7614</td>\n",
       "      <td id=\"T_376eb_row2_col3\" class=\"data row2 col3\" >0.0436</td>\n",
       "      <td id=\"T_376eb_row2_col4\" class=\"data row2 col4\" >0.0825</td>\n",
       "      <td id=\"T_376eb_row2_col5\" class=\"data row2 col5\" >0.0484</td>\n",
       "      <td id=\"T_376eb_row2_col6\" class=\"data row2 col6\" >0.1272</td>\n",
       "      <td id=\"T_376eb_row2_col7\" class=\"data row2 col7\" >0.6777</td>\n",
       "      <td id=\"T_376eb_row2_col8\" class=\"data row2 col8\" >0.7195</td>\n",
       "    </tr>\n",
       "    <tr>\n",
       "      <th id=\"T_376eb_level0_row3\" class=\"row_heading level0 row3\" >3</th>\n",
       "      <td id=\"T_376eb_row3_col0\" class=\"data row3 col0\" >0.6733</td>\n",
       "      <td id=\"T_376eb_row3_col1\" class=\"data row3 col1\" >0.8024</td>\n",
       "      <td id=\"T_376eb_row3_col2\" class=\"data row3 col2\" >0.7841</td>\n",
       "      <td id=\"T_376eb_row3_col3\" class=\"data row3 col3\" >0.0440</td>\n",
       "      <td id=\"T_376eb_row3_col4\" class=\"data row3 col4\" >0.0833</td>\n",
       "      <td id=\"T_376eb_row3_col5\" class=\"data row3 col5\" >0.0492</td>\n",
       "      <td id=\"T_376eb_row3_col6\" class=\"data row3 col6\" >0.1312</td>\n",
       "      <td id=\"T_376eb_row3_col7\" class=\"data row3 col7\" >0.6711</td>\n",
       "      <td id=\"T_376eb_row3_col8\" class=\"data row3 col8\" >0.7276</td>\n",
       "    </tr>\n",
       "    <tr>\n",
       "      <th id=\"T_376eb_level0_row4\" class=\"row_heading level0 row4\" >4</th>\n",
       "      <td id=\"T_376eb_row4_col0\" class=\"data row4 col0\" >0.6655</td>\n",
       "      <td id=\"T_376eb_row4_col1\" class=\"data row4 col1\" >0.7857</td>\n",
       "      <td id=\"T_376eb_row4_col2\" class=\"data row4 col2\" >0.7443</td>\n",
       "      <td id=\"T_376eb_row4_col3\" class=\"data row4 col3\" >0.0410</td>\n",
       "      <td id=\"T_376eb_row4_col4\" class=\"data row4 col4\" >0.0777</td>\n",
       "      <td id=\"T_376eb_row4_col5\" class=\"data row4 col5\" >0.0434</td>\n",
       "      <td id=\"T_376eb_row4_col6\" class=\"data row4 col6\" >0.1172</td>\n",
       "      <td id=\"T_376eb_row4_col7\" class=\"data row4 col7\" >0.6640</td>\n",
       "      <td id=\"T_376eb_row4_col8\" class=\"data row4 col8\" >0.7042</td>\n",
       "    </tr>\n",
       "    <tr>\n",
       "      <th id=\"T_376eb_level0_row5\" class=\"row_heading level0 row5\" >Mean</th>\n",
       "      <td id=\"T_376eb_row5_col0\" class=\"data row5 col0\" >0.6718</td>\n",
       "      <td id=\"T_376eb_row5_col1\" class=\"data row5 col1\" >0.7973</td>\n",
       "      <td id=\"T_376eb_row5_col2\" class=\"data row5 col2\" >0.7670</td>\n",
       "      <td id=\"T_376eb_row5_col3\" class=\"data row5 col3\" >0.0429</td>\n",
       "      <td id=\"T_376eb_row5_col4\" class=\"data row5 col4\" >0.0813</td>\n",
       "      <td id=\"T_376eb_row5_col5\" class=\"data row5 col5\" >0.0471</td>\n",
       "      <td id=\"T_376eb_row5_col6\" class=\"data row5 col6\" >0.1259</td>\n",
       "      <td id=\"T_376eb_row5_col7\" class=\"data row5 col7\" >0.6700</td>\n",
       "      <td id=\"T_376eb_row5_col8\" class=\"data row5 col8\" >0.7185</td>\n",
       "    </tr>\n",
       "    <tr>\n",
       "      <th id=\"T_376eb_level0_row6\" class=\"row_heading level0 row6\" >SD</th>\n",
       "      <td id=\"T_376eb_row6_col0\" class=\"data row6 col0\" >0.0049</td>\n",
       "      <td id=\"T_376eb_row6_col1\" class=\"data row6 col1\" >0.0150</td>\n",
       "      <td id=\"T_376eb_row6_col2\" class=\"data row6 col2\" >0.0254</td>\n",
       "      <td id=\"T_376eb_row6_col3\" class=\"data row6 col3\" >0.0013</td>\n",
       "      <td id=\"T_376eb_row6_col4\" class=\"data row6 col4\" >0.0025</td>\n",
       "      <td id=\"T_376eb_row6_col5\" class=\"data row6 col5\" >0.0026</td>\n",
       "      <td id=\"T_376eb_row6_col6\" class=\"data row6 col6\" >0.0070</td>\n",
       "      <td id=\"T_376eb_row6_col7\" class=\"data row6 col7\" >0.0051</td>\n",
       "      <td id=\"T_376eb_row6_col8\" class=\"data row6 col8\" >0.0123</td>\n",
       "    </tr>\n",
       "  </tbody>\n",
       "</table>\n"
      ],
      "text/plain": [
       "<pandas.io.formats.style.Styler at 0x1f3e78b5e80>"
      ]
     },
     "metadata": {},
     "output_type": "display_data"
    }
   ],
   "source": [
    "#Tune a Model\n",
    "tuned_lightgbm = tune_model(lightgbm,optimize = 'Balanced Accuracy')"
   ]
  },
  {
   "cell_type": "code",
   "execution_count": null,
   "id": "be1baad7",
   "metadata": {},
   "outputs": [],
   "source": [
    "#AUC Plot\n",
    "#plot_model(tuned_lightgbm, plot = 'auc')\n",
    "#Precision-Recall Curve\n",
    "#plot_model(tuned_lightgbm, plot = 'pr')\n",
    "# Feature Importance Plot\n",
    "#plot_model(tuned_lightgbm, plot='feature')\n",
    "# Confusion Matrix\n",
    "#plot_model(tuned_lightgbm, plot = 'confusion_matrix')"
   ]
  },
  {
   "cell_type": "code",
   "execution_count": null,
   "id": "cb759a59",
   "metadata": {},
   "outputs": [],
   "source": [
    "#evaluate_model(tuned_lightgbm)"
   ]
  },
  {
   "cell_type": "code",
   "execution_count": 53,
   "id": "7c0746c7",
   "metadata": {},
   "outputs": [
    {
     "data": {
      "text/html": [
       "<style type=\"text/css\">\n",
       "</style>\n",
       "<table id=\"T_60a36\">\n",
       "  <thead>\n",
       "    <tr>\n",
       "      <th class=\"blank level0\" >&nbsp;</th>\n",
       "      <th id=\"T_60a36_level0_col0\" class=\"col_heading level0 col0\" >Model</th>\n",
       "      <th id=\"T_60a36_level0_col1\" class=\"col_heading level0 col1\" >Accuracy</th>\n",
       "      <th id=\"T_60a36_level0_col2\" class=\"col_heading level0 col2\" >AUC</th>\n",
       "      <th id=\"T_60a36_level0_col3\" class=\"col_heading level0 col3\" >Recall</th>\n",
       "      <th id=\"T_60a36_level0_col4\" class=\"col_heading level0 col4\" >Prec.</th>\n",
       "      <th id=\"T_60a36_level0_col5\" class=\"col_heading level0 col5\" >F1</th>\n",
       "      <th id=\"T_60a36_level0_col6\" class=\"col_heading level0 col6\" >Kappa</th>\n",
       "      <th id=\"T_60a36_level0_col7\" class=\"col_heading level0 col7\" >MCC</th>\n",
       "      <th id=\"T_60a36_level0_col8\" class=\"col_heading level0 col8\" >Spec.</th>\n",
       "      <th id=\"T_60a36_level0_col9\" class=\"col_heading level0 col9\" >Balanced Accuracy</th>\n",
       "    </tr>\n",
       "  </thead>\n",
       "  <tbody>\n",
       "    <tr>\n",
       "      <th id=\"T_60a36_level0_row0\" class=\"row_heading level0 row0\" >0</th>\n",
       "      <td id=\"T_60a36_row0_col0\" class=\"data row0 col0\" >Light Gradient Boosting Machine</td>\n",
       "      <td id=\"T_60a36_row0_col1\" class=\"data row0 col1\" >0.6719</td>\n",
       "      <td id=\"T_60a36_row0_col2\" class=\"data row0 col2\" >0.8137</td>\n",
       "      <td id=\"T_60a36_row0_col3\" class=\"data row0 col3\" >0.7897</td>\n",
       "      <td id=\"T_60a36_row0_col4\" class=\"data row0 col4\" >0.0466</td>\n",
       "      <td id=\"T_60a36_row0_col5\" class=\"data row0 col5\" >0.0880</td>\n",
       "      <td id=\"T_60a36_row0_col6\" class=\"data row0 col6\" >0.0521</td>\n",
       "      <td id=\"T_60a36_row0_col7\" class=\"data row0 col7\" >0.1359</td>\n",
       "      <td id=\"T_60a36_row0_col8\" class=\"data row0 col8\" >0.6695</td>\n",
       "      <td id=\"T_60a36_row0_col9\" class=\"data row0 col9\" >0.7296</td>\n",
       "    </tr>\n",
       "  </tbody>\n",
       "</table>\n"
      ],
      "text/plain": [
       "<pandas.io.formats.style.Styler at 0x1f3e7a7c130>"
      ]
     },
     "metadata": {},
     "output_type": "display_data"
    }
   ],
   "source": [
    "#Predict on test / hold-out Sample\n",
    "predict_model(tuned_lightgbm);"
   ]
  },
  {
   "cell_type": "code",
   "execution_count": 54,
   "id": "f83e677d",
   "metadata": {},
   "outputs": [
    {
     "data": {
      "text/html": [
       "<style type=\"text/css\">\n",
       "</style>\n",
       "<table id=\"T_c56b5\">\n",
       "  <thead>\n",
       "    <tr>\n",
       "      <th class=\"blank level0\" >&nbsp;</th>\n",
       "      <th id=\"T_c56b5_level0_col0\" class=\"col_heading level0 col0\" >Model</th>\n",
       "      <th id=\"T_c56b5_level0_col1\" class=\"col_heading level0 col1\" >Accuracy</th>\n",
       "      <th id=\"T_c56b5_level0_col2\" class=\"col_heading level0 col2\" >AUC</th>\n",
       "      <th id=\"T_c56b5_level0_col3\" class=\"col_heading level0 col3\" >Recall</th>\n",
       "      <th id=\"T_c56b5_level0_col4\" class=\"col_heading level0 col4\" >Prec.</th>\n",
       "      <th id=\"T_c56b5_level0_col5\" class=\"col_heading level0 col5\" >F1</th>\n",
       "      <th id=\"T_c56b5_level0_col6\" class=\"col_heading level0 col6\" >Kappa</th>\n",
       "      <th id=\"T_c56b5_level0_col7\" class=\"col_heading level0 col7\" >MCC</th>\n",
       "      <th id=\"T_c56b5_level0_col8\" class=\"col_heading level0 col8\" >Spec.</th>\n",
       "      <th id=\"T_c56b5_level0_col9\" class=\"col_heading level0 col9\" >Balanced Accuracy</th>\n",
       "    </tr>\n",
       "  </thead>\n",
       "  <tbody>\n",
       "    <tr>\n",
       "      <th id=\"T_c56b5_level0_row0\" class=\"row_heading level0 row0\" >0</th>\n",
       "      <td id=\"T_c56b5_row0_col0\" class=\"data row0 col0\" >Light Gradient Boosting Machine</td>\n",
       "      <td id=\"T_c56b5_row0_col1\" class=\"data row0 col1\" >0.6950</td>\n",
       "      <td id=\"T_c56b5_row0_col2\" class=\"data row0 col2\" >0.8120</td>\n",
       "      <td id=\"T_c56b5_row0_col3\" class=\"data row0 col3\" >0.7725</td>\n",
       "      <td id=\"T_c56b5_row0_col4\" class=\"data row0 col4\" >0.0490</td>\n",
       "      <td id=\"T_c56b5_row0_col5\" class=\"data row0 col5\" >0.0922</td>\n",
       "      <td id=\"T_c56b5_row0_col6\" class=\"data row0 col6\" >0.0566</td>\n",
       "      <td id=\"T_c56b5_row0_col7\" class=\"data row0 col7\" >0.1405</td>\n",
       "      <td id=\"T_c56b5_row0_col8\" class=\"data row0 col8\" >0.6934</td>\n",
       "      <td id=\"T_c56b5_row0_col9\" class=\"data row0 col9\" >0.7330</td>\n",
       "    </tr>\n",
       "  </tbody>\n",
       "</table>\n"
      ],
      "text/plain": [
       "<pandas.io.formats.style.Styler at 0x1f3d8b3c8b0>"
      ]
     },
     "metadata": {},
     "output_type": "display_data"
    }
   ],
   "source": [
    "predict_model(lightgbm);"
   ]
  },
  {
   "cell_type": "code",
   "execution_count": null,
   "id": "d0d5b330",
   "metadata": {},
   "outputs": [],
   "source": [
    "# Confusion Matrix\n",
    "#plot_model(tuned_lightgbm, plot = 'confusion_matrix')"
   ]
  },
  {
   "cell_type": "code",
   "execution_count": null,
   "id": "8e086478",
   "metadata": {},
   "outputs": [],
   "source": [
    "#plot_model(tuned_lightgbm, plot='feature_all')"
   ]
  },
  {
   "cell_type": "code",
   "execution_count": null,
   "id": "4f8e240e",
   "metadata": {},
   "outputs": [],
   "source": [
    "#pd.DataFrame({'Feature': get_config('X_train').columns, 'Value' : abs(lightgbm.coef_[0])}).sort_values(by='Value', ascending=False)\n"
   ]
  },
  {
   "cell_type": "code",
   "execution_count": null,
   "id": "091df9d8",
   "metadata": {},
   "outputs": [],
   "source": [
    "#plot_model(tuned_lightgbm,plot='boundary')"
   ]
  },
  {
   "cell_type": "code",
   "execution_count": null,
   "id": "ce5062d1",
   "metadata": {},
   "outputs": [],
   "source": [
    "#print(tuned_lightgbm.get_params())"
   ]
  },
  {
   "cell_type": "markdown",
   "id": "ed81225e",
   "metadata": {
    "heading_collapsed": true
   },
   "source": [
    "### xgboost"
   ]
  },
  {
   "cell_type": "code",
   "execution_count": null,
   "id": "bb7d1fd7",
   "metadata": {
    "hidden": true
   },
   "outputs": [],
   "source": [
    "xgboost = create_model('xgboost')"
   ]
  },
  {
   "cell_type": "code",
   "execution_count": null,
   "id": "f6a7deeb",
   "metadata": {
    "hidden": true
   },
   "outputs": [],
   "source": [
    "#Tune a Model\n",
    "tuned_xgboost = tune_model(xgboost,optimize = 'Balanced Accuracy')"
   ]
  },
  {
   "cell_type": "code",
   "execution_count": null,
   "id": "ed6cf11a",
   "metadata": {
    "hidden": true
   },
   "outputs": [],
   "source": [
    "#Predict on test / hold-out Sample\n",
    "predict_model(tuned_xgboost);"
   ]
  },
  {
   "cell_type": "code",
   "execution_count": null,
   "id": "7af65432",
   "metadata": {
    "hidden": true
   },
   "outputs": [],
   "source": [
    "predict_model(xgboost);"
   ]
  },
  {
   "cell_type": "markdown",
   "id": "bbeea181",
   "metadata": {
    "heading_collapsed": true
   },
   "source": [
    "### ada"
   ]
  },
  {
   "cell_type": "code",
   "execution_count": null,
   "id": "ca97932a",
   "metadata": {
    "hidden": true
   },
   "outputs": [],
   "source": [
    "ada = create_model('ada')"
   ]
  },
  {
   "cell_type": "code",
   "execution_count": null,
   "id": "26ed3db2",
   "metadata": {
    "hidden": true
   },
   "outputs": [],
   "source": [
    "#Tune a Model\n",
    "tuned_ada = tune_model(ada,optimize = 'Balanced Accuracy')"
   ]
  },
  {
   "cell_type": "code",
   "execution_count": null,
   "id": "5bb4b47b",
   "metadata": {
    "hidden": true
   },
   "outputs": [],
   "source": [
    "#Predict on test / hold-out Sample\n",
    "predict_model(tuned_ada);"
   ]
  },
  {
   "cell_type": "code",
   "execution_count": null,
   "id": "d136bb13",
   "metadata": {
    "hidden": true
   },
   "outputs": [],
   "source": [
    "predict_model(ada);"
   ]
  },
  {
   "cell_type": "code",
   "execution_count": null,
   "id": "b0f7f590",
   "metadata": {
    "hidden": true
   },
   "outputs": [],
   "source": []
  },
  {
   "cell_type": "markdown",
   "id": "4eb2192d",
   "metadata": {
    "heading_collapsed": true
   },
   "source": [
    "### nb"
   ]
  },
  {
   "cell_type": "code",
   "execution_count": null,
   "id": "e2655084",
   "metadata": {
    "hidden": true
   },
   "outputs": [],
   "source": [
    "nb = create_model('nb')"
   ]
  },
  {
   "cell_type": "code",
   "execution_count": null,
   "id": "f33982da",
   "metadata": {
    "hidden": true
   },
   "outputs": [],
   "source": [
    "#Tune a Model\n",
    "tuned_nb = tune_model(nb,optimize = 'Balanced Accuracy')"
   ]
  },
  {
   "cell_type": "code",
   "execution_count": null,
   "id": "1ced4885",
   "metadata": {
    "hidden": true
   },
   "outputs": [],
   "source": [
    "#Predict on test / hold-out Sample\n",
    "predict_model(tuned_nb);"
   ]
  },
  {
   "cell_type": "code",
   "execution_count": null,
   "id": "e3395f5d",
   "metadata": {
    "hidden": true
   },
   "outputs": [],
   "source": [
    "predict_model(nb);"
   ]
  },
  {
   "cell_type": "code",
   "execution_count": null,
   "id": "6b5ebf40",
   "metadata": {
    "hidden": true
   },
   "outputs": [],
   "source": []
  },
  {
   "cell_type": "markdown",
   "id": "5578c0f9",
   "metadata": {
    "heading_collapsed": true
   },
   "source": [
    "### knn"
   ]
  },
  {
   "cell_type": "code",
   "execution_count": null,
   "id": "7d81a724",
   "metadata": {
    "hidden": true
   },
   "outputs": [],
   "source": [
    "knn = create_model('knn')"
   ]
  },
  {
   "cell_type": "code",
   "execution_count": null,
   "id": "40086364",
   "metadata": {
    "hidden": true
   },
   "outputs": [],
   "source": [
    "#Tune a Model\n",
    "tuned_knn = tune_model(knn,optimize = 'Balanced Accuracy')"
   ]
  },
  {
   "cell_type": "code",
   "execution_count": null,
   "id": "571b3668",
   "metadata": {
    "hidden": true
   },
   "outputs": [],
   "source": [
    "#Predict on test / hold-out Sample\n",
    "predict_model(tuned_knn);"
   ]
  },
  {
   "cell_type": "code",
   "execution_count": null,
   "id": "91c5b38c",
   "metadata": {
    "hidden": true
   },
   "outputs": [],
   "source": [
    "predict_model(knn);"
   ]
  },
  {
   "cell_type": "code",
   "execution_count": null,
   "id": "cd3f04ad",
   "metadata": {
    "hidden": true
   },
   "outputs": [],
   "source": []
  },
  {
   "cell_type": "markdown",
   "id": "17fdc9f2",
   "metadata": {
    "heading_collapsed": true
   },
   "source": [
    "### dt"
   ]
  },
  {
   "cell_type": "code",
   "execution_count": null,
   "id": "4e4f1b70",
   "metadata": {
    "hidden": true
   },
   "outputs": [],
   "source": [
    "dt = create_model('dt')"
   ]
  },
  {
   "cell_type": "code",
   "execution_count": null,
   "id": "b855ed9d",
   "metadata": {
    "hidden": true
   },
   "outputs": [],
   "source": [
    "#Tune a Model\n",
    "tuned_dt = tune_model(dt,optimize = 'Balanced Accuracy')"
   ]
  },
  {
   "cell_type": "code",
   "execution_count": null,
   "id": "43097508",
   "metadata": {
    "hidden": true
   },
   "outputs": [],
   "source": [
    "#Predict on test / hold-out Sample\n",
    "predict_model(tuned_dt);"
   ]
  },
  {
   "cell_type": "code",
   "execution_count": null,
   "id": "1358f721",
   "metadata": {
    "hidden": true
   },
   "outputs": [],
   "source": [
    "predict_model(dt);"
   ]
  },
  {
   "cell_type": "markdown",
   "id": "7a80f615",
   "metadata": {
    "heading_collapsed": true
   },
   "source": [
    "### rf"
   ]
  },
  {
   "cell_type": "code",
   "execution_count": null,
   "id": "61af6f1e",
   "metadata": {
    "hidden": true
   },
   "outputs": [],
   "source": [
    "rf = create_model('rf')"
   ]
  },
  {
   "cell_type": "code",
   "execution_count": null,
   "id": "c8f4f0fd",
   "metadata": {
    "hidden": true
   },
   "outputs": [],
   "source": [
    "#Tune a Model\n",
    "tuned_rf = tune_model(rf,optimize = 'Balanced Accuracy')"
   ]
  },
  {
   "cell_type": "code",
   "execution_count": null,
   "id": "a6b55330",
   "metadata": {
    "hidden": true
   },
   "outputs": [],
   "source": [
    "#Predict on test / hold-out Sample\n",
    "predict_model(tuned_rf);"
   ]
  },
  {
   "cell_type": "code",
   "execution_count": null,
   "id": "54cca6ef",
   "metadata": {
    "hidden": true
   },
   "outputs": [],
   "source": [
    "predict_model(rf);"
   ]
  },
  {
   "cell_type": "code",
   "execution_count": null,
   "id": "9a6695e0",
   "metadata": {
    "hidden": true
   },
   "outputs": [],
   "source": []
  },
  {
   "cell_type": "markdown",
   "id": "d4079300",
   "metadata": {
    "heading_collapsed": true
   },
   "source": [
    "### et"
   ]
  },
  {
   "cell_type": "code",
   "execution_count": null,
   "id": "009ae77b",
   "metadata": {
    "hidden": true
   },
   "outputs": [],
   "source": [
    "et = create_model('et')"
   ]
  },
  {
   "cell_type": "code",
   "execution_count": null,
   "id": "e1d33542",
   "metadata": {
    "hidden": true
   },
   "outputs": [],
   "source": [
    "#Tune a Model\n",
    "tuned_et = tune_model(et,optimize = 'Balanced Accuracy')"
   ]
  },
  {
   "cell_type": "code",
   "execution_count": null,
   "id": "9585b73e",
   "metadata": {
    "hidden": true
   },
   "outputs": [],
   "source": [
    "#Predict on test / hold-out Sample\n",
    "predict_model(tuned_et);"
   ]
  },
  {
   "cell_type": "code",
   "execution_count": null,
   "id": "a5e846b5",
   "metadata": {
    "hidden": true
   },
   "outputs": [],
   "source": [
    "predict_model(et);"
   ]
  },
  {
   "cell_type": "markdown",
   "id": "a8ba8d2a",
   "metadata": {
    "heading_collapsed": true
   },
   "source": [
    "### qda"
   ]
  },
  {
   "cell_type": "code",
   "execution_count": null,
   "id": "a633fef5",
   "metadata": {
    "hidden": true
   },
   "outputs": [],
   "source": [
    "qda = create_model('qda')"
   ]
  },
  {
   "cell_type": "code",
   "execution_count": null,
   "id": "0d41e09c",
   "metadata": {
    "hidden": true
   },
   "outputs": [],
   "source": [
    "#Tune a Model\n",
    "tuned_qda = tune_model(qda,optimize = 'Balanced Accuracy')"
   ]
  },
  {
   "cell_type": "code",
   "execution_count": null,
   "id": "f1106ab8",
   "metadata": {
    "hidden": true
   },
   "outputs": [],
   "source": [
    "#Predict on test / hold-out Sample\n",
    "predict_model(tuned_qda);"
   ]
  },
  {
   "cell_type": "code",
   "execution_count": null,
   "id": "f35aa9d7",
   "metadata": {
    "hidden": true
   },
   "outputs": [],
   "source": [
    "predict_model(qda);"
   ]
  },
  {
   "cell_type": "code",
   "execution_count": null,
   "id": "f38af001",
   "metadata": {
    "hidden": true
   },
   "outputs": [],
   "source": []
  },
  {
   "cell_type": "markdown",
   "id": "5a2c8957",
   "metadata": {},
   "source": [
    "# Plot"
   ]
  },
  {
   "cell_type": "code",
   "execution_count": 29,
   "id": "509bbee1",
   "metadata": {},
   "outputs": [],
   "source": [
    "X_test = get_config ('X_test')\n",
    "y_test = get_config ('y_test')"
   ]
  },
  {
   "cell_type": "code",
   "execution_count": 30,
   "id": "346e4106",
   "metadata": {},
   "outputs": [],
   "source": [
    "X_train = get_config ('X_train')\n",
    "y_train = get_config ('y_train')"
   ]
  },
  {
   "cell_type": "code",
   "execution_count": null,
   "id": "d260aa66",
   "metadata": {},
   "outputs": [],
   "source": [
    "y_test.to_csv('ytestTable1.csv')\n",
    "y_train.to_csv('ytrainTable1.csv')"
   ]
  },
  {
   "cell_type": "code",
   "execution_count": null,
   "id": "f520fc8f",
   "metadata": {},
   "outputs": [],
   "source": [
    "X_test.to_csv('XtestTable1.csv')\n",
    "X_train.to_csv('XtrainTable1.csv')"
   ]
  },
  {
   "cell_type": "code",
   "execution_count": null,
   "id": "34b94eb3",
   "metadata": {},
   "outputs": [],
   "source": [
    "y_train.to_csv('yytain.csv')"
   ]
  },
  {
   "cell_type": "code",
   "execution_count": null,
   "id": "72f7c86e",
   "metadata": {},
   "outputs": [],
   "source": [
    "y_test.to_csv('yyy.csv')"
   ]
  },
  {
   "cell_type": "code",
   "execution_count": null,
   "id": "2bc4c747",
   "metadata": {},
   "outputs": [],
   "source": [
    "print (X_test)"
   ]
  },
  {
   "cell_type": "code",
   "execution_count": null,
   "id": "71278996",
   "metadata": {},
   "outputs": [],
   "source": [
    "X_test.to_csv('xxx.csv')"
   ]
  },
  {
   "cell_type": "code",
   "execution_count": null,
   "id": "9a95799d",
   "metadata": {},
   "outputs": [],
   "source": [
    "Xx = get_config('X')"
   ]
  },
  {
   "cell_type": "code",
   "execution_count": null,
   "id": "6239f657",
   "metadata": {},
   "outputs": [],
   "source": [
    "Xx.shape"
   ]
  },
  {
   "cell_type": "code",
   "execution_count": null,
   "id": "12c951d0",
   "metadata": {},
   "outputs": [],
   "source": [
    "yy =  get_config('y')"
   ]
  },
  {
   "cell_type": "code",
   "execution_count": null,
   "id": "1b2d8f6b",
   "metadata": {},
   "outputs": [],
   "source": [
    "yy.shape"
   ]
  },
  {
   "cell_type": "code",
   "execution_count": null,
   "id": "92629efb",
   "metadata": {},
   "outputs": [],
   "source": [
    "y_test = get_config ('y_test')"
   ]
  },
  {
   "cell_type": "code",
   "execution_count": null,
   "id": "d832642a",
   "metadata": {},
   "outputs": [],
   "source": []
  },
  {
   "cell_type": "code",
   "execution_count": null,
   "id": "2b38906e",
   "metadata": {},
   "outputs": [],
   "source": [
    "train = get_config('')\n"
   ]
  },
  {
   "cell_type": "code",
   "execution_count": null,
   "id": "02d74728",
   "metadata": {},
   "outputs": [],
   "source": [
    "X_test.to_excel('Xtest.xlsx')"
   ]
  },
  {
   "cell_type": "code",
   "execution_count": null,
   "id": "bc25df91",
   "metadata": {},
   "outputs": [],
   "source": [
    "y_test.to_excel('y_test.xlsx')"
   ]
  },
  {
   "cell_type": "code",
   "execution_count": null,
   "id": "ad42213f",
   "metadata": {},
   "outputs": [],
   "source": [
    "df_train.shape, pyc.get_config('X_test').shape # we have ohe columns.\n"
   ]
  },
  {
   "cell_type": "code",
   "execution_count": null,
   "id": "9c8ffd87",
   "metadata": {},
   "outputs": [],
   "source": [
    "test_data"
   ]
  },
  {
   "cell_type": "code",
   "execution_count": null,
   "id": "2a23f2cc",
   "metadata": {},
   "outputs": [],
   "source": [
    "y_train = get_config('y_train')\n",
    "X_train = get_config('X_train')"
   ]
  },
  {
   "cell_type": "code",
   "execution_count": null,
   "id": "6803c0b5",
   "metadata": {},
   "outputs": [],
   "source": [
    "dfXtrain.to_excel('X_train.xlsx')"
   ]
  },
  {
   "cell_type": "code",
   "execution_count": null,
   "id": "82c70bdb",
   "metadata": {},
   "outputs": [],
   "source": [
    "dfytrain.to_excel('y_train.xlsx')"
   ]
  },
  {
   "cell_type": "code",
   "execution_count": 31,
   "id": "8e73afb7",
   "metadata": {},
   "outputs": [],
   "source": [
    "import matplotlib.pyplot as plt\n",
    "import seaborn as sns\n",
    "plt.style.use('seaborn')\n",
    "from sklearn.metrics import roc_curve\n",
    "from sklearn.metrics import roc_auc_score"
   ]
  },
  {
   "cell_type": "markdown",
   "id": "f31c3006",
   "metadata": {},
   "source": [
    "## Figure AUC"
   ]
  },
  {
   "cell_type": "code",
   "execution_count": 32,
   "id": "a61929fc",
   "metadata": {},
   "outputs": [],
   "source": [
    "model1 = tuned_lightgbm\n",
    "model2 = tuned_gbc\n",
    "model3 = tuned_catboost\n",
    "model4 = tuned_lr\n",
    "model5 = lda"
   ]
  },
  {
   "cell_type": "code",
   "execution_count": 33,
   "id": "ce750c5d",
   "metadata": {},
   "outputs": [],
   "source": [
    "# predict probabilities\n",
    "pred_prob1 = model1.predict_proba(X_test)\n",
    "pred_prob2 = model2.predict_proba(X_test)\n",
    "pred_prob3 = model3.predict_proba(X_test)\n",
    "pred_prob4 = model4.predict_proba(X_test)\n",
    "pred_prob5 = model5.predict_proba(X_test)"
   ]
  },
  {
   "cell_type": "code",
   "execution_count": 34,
   "id": "c67dbfc4",
   "metadata": {},
   "outputs": [],
   "source": [
    "# roc curve for models\n",
    "fpr1, tpr1, thresh1 = roc_curve(y_test, pred_prob1[:,1], pos_label=1)\n",
    "fpr2, tpr2, thresh2 = roc_curve(y_test, pred_prob2[:,1], pos_label=1)\n",
    "fpr3, tpr3, thresh3 = roc_curve(y_test, pred_prob3[:,1], pos_label=1)\n",
    "fpr4, tpr4, thresh4 = roc_curve(y_test, pred_prob4[:,1], pos_label=1)\n",
    "fpr5, tpr5, thresh5 = roc_curve(y_test, pred_prob5[:,1], pos_label=1)\n",
    "\n",
    "# roc curve for tpr = fpr \n",
    "random_probs = [0 for i in range(len(y_test))]\n",
    "p_fpr, p_tpr, _ = roc_curve(y_test, random_probs, pos_label=1)"
   ]
  },
  {
   "cell_type": "code",
   "execution_count": 35,
   "id": "e48b25a2",
   "metadata": {},
   "outputs": [
    {
     "name": "stdout",
     "output_type": "stream",
     "text": [
      "0.8255711573710395 0.8248105688661953 0.8140489984289081 0.8179047198219429 0.8161810192458758\n"
     ]
    }
   ],
   "source": [
    "# auc scores\n",
    "auc_score1 = roc_auc_score(y_test, pred_prob1[:,1])\n",
    "auc_score2 = roc_auc_score(y_test, pred_prob2[:,1])\n",
    "auc_score3 = roc_auc_score(y_test, pred_prob3[:,1])\n",
    "auc_score4 = roc_auc_score(y_test, pred_prob4[:,1])\n",
    "auc_score5 = roc_auc_score(y_test, pred_prob5[:,1])\n",
    "\n",
    "print(auc_score1, auc_score2,auc_score3,auc_score4,auc_score5)"
   ]
  },
  {
   "cell_type": "code",
   "execution_count": 43,
   "id": "efc729ca",
   "metadata": {},
   "outputs": [
    {
     "data": {
      "image/png": "[encoded data removed]",
      "text/plain": [
       "<Figure size 720x432 with 1 Axes>"
      ]
     },
     "metadata": {},
     "output_type": "display_data"
    }
   ],
   "source": [
    "plt.figure(figsize=(10,6))\n",
    "ax=plt.axes([0,1,1,1])\n",
    "ax.set_facecolor(\"White\")\n",
    "plt.grid(False)\n",
    "ax.spines['left'].set_color('Black')\n",
    "ax.spines['left'].set_linewidth(1)\n",
    "ax.spines['left'].set_alpha(0.5)\n",
    "#ax.spines['left'].set_position(('data', 0))\n",
    "\n",
    "#ax.tick_params(axis=\"y\",direction=\"out\", pad=-22)\n",
    "\n",
    "ax.spines['bottom'].set_color('Black')\n",
    "ax.spines['bottom'].set_linewidth(1)\n",
    "ax.spines['bottom'].set_alpha(0.5)\n",
    "#ax.spines['bottom'].set_position(('data',0))\n",
    "\n",
    "ax.tick_params(direction='out', length=6, width=1, colors='black', grid_color='black', grid_alpha=0.5)\n",
    "\n",
    "          \n",
    "# plot roc curves\n",
    "plt.plot(fpr4, tpr4, linestyle='-',color='#810f7c', label=\"LR (AUC= 0.8179)\")\n",
    "plt.plot(fpr1, tpr1, linestyle='-',color='#bd0026', label=\"LightGBM (AUC= 0.8255)\")\n",
    "plt.plot(fpr2, tpr2, linestyle='-',color='#fecc5c', label=\"GBC (AUC= 0.8248)\")\n",
    "plt.plot(fpr5, tpr5, linestyle='-',color='#006d2c', label=\"LDA (AUC= 0.8161)\")\n",
    "plt.plot(fpr3, tpr3, linestyle='-',color='#253494', label=\"CatBoost (AUC= 0.8140)\")\n",
    "\n",
    "# title\n",
    "#plt.title('ROC curve')\n",
    "# x label\n",
    "#plt.xlabel('False Positive Rate',weight='bold')\n",
    "plt.xlabel('False Positive Rate')\n",
    "ax.set_xticks([0,0.2,0.4,0.6,0.8,1])\n",
    "#plt.xticks(weight='bold')\n",
    "# y label\n",
    "plt.ylabel('True Positive rate')\n",
    "#plt.ylabel('True Positive rate',weight='bold')\n",
    "ax.set_yticks([0,0.2,0.4,0.6,0.8,1])\n",
    "#plt.yticks(weight='bold')\n",
    "\n",
    "\n",
    "plt.legend(loc=4)\n",
    "plt.savefig('Figuer1q1',dpi=400,bbox_inches='tight')\n",
    "plt.savefig('Figuer1q1.tiff',dpi=400,bbox_inches='tight')\n",
    "plt.savefig('Figuer1q1.tif',dpi=400,bbox_inches='tight')\n",
    "\n",
    "plt.show()"
   ]
  },
  {
   "cell_type": "code",
   "execution_count": null,
   "id": "7de1f8a6",
   "metadata": {},
   "outputs": [],
   "source": []
  },
  {
   "cell_type": "markdown",
   "id": "7d145ed2",
   "metadata": {},
   "source": [
    "## Figure Models Performance by Number of Variables"
   ]
  },
  {
   "cell_type": "code",
   "execution_count": 44,
   "id": "e2c4bd79",
   "metadata": {},
   "outputs": [
    {
     "data": {
      "image/png": "[encoded data removed]",
      "text/plain": [
       "<Figure size 720x432 with 1 Axes>"
      ]
     },
     "metadata": {},
     "output_type": "display_data"
    }
   ],
   "source": [
    "plt.figure(figsize=(10,6))\n",
    "ax=plt.axes([0,1,1,1])\n",
    "ax.set_facecolor(\"White\")\n",
    "plt.grid(False)\n",
    "ax.spines['left'].set_color('Black')\n",
    "ax.spines['left'].set_linewidth(1)\n",
    "ax.spines['left'].set_alpha(0.5)\n",
    "#ax.spines['left'].set_position(('data', 0))\n",
    "\n",
    "#ax.tick_params(axis=\"y\",direction=\"out\", pad=-22)\n",
    "\n",
    "ax.spines['bottom'].set_color('Black')\n",
    "ax.spines['bottom'].set_linewidth(1)\n",
    "ax.spines['bottom'].set_alpha(0.5)\n",
    "#ax.spines['bottom'].set_position(('data',0))\n",
    "\n",
    "ax.tick_params(direction='out', length=6, width=1, colors='black', grid_color='black', grid_alpha=0.1)\n",
    "\n",
    "\n",
    "\n",
    "nov = [5,10,20,30,40,45]\n",
    "LR = [0.7502,0.7979,0.7991,0.8044,0.8127,0.8179]\n",
    "LightGBM = [0.7442,0.7894,0.8022,0.8066,0.8167,0.8255]\n",
    "GBC = [0.7521,0.8011,0.8037,0.8034,0.8099,0.8248,]\n",
    "LDA = [0.7477,0.7962,0.7970,0.8032,0.8109,0.8161]\n",
    "CatBoost = [0.7387,0.7918,0.7975,0.7981,0.8093,0.8140]\n",
    "\n",
    "\n",
    "line_chart1 = plt.plot(nov,LR, color='#810f7c',marker=\"X\", label = 'LR')\n",
    "line_chart2 = plt.plot(nov, LightGBM, color='#bd0026',marker=\"o\", label = 'LightGBM')\n",
    "line_chart3 = plt.plot(nov, GBC,color='#fecc5c',marker=\"D\", label = 'GBC')\n",
    "line_chart4 = plt.plot(nov, LDA, color='#006d2c',marker=\"*\", label = 'LDA')\n",
    "line_chart5 = plt.plot(nov,CatBoost, color='#253494',marker=\"s\", label = 'CatBoost')\n",
    "\n",
    "\n",
    "plt.xlabel('Numberof Variables')\n",
    "plt.xticks([5,10,20,30,40,45])\n",
    "labels = [item.get_text() for item in ax.get_xticklabels()]\n",
    "labels[0] = '5'\n",
    "labels[1] = '10'\n",
    "labels[2] = '20'\n",
    "labels[3] = '30'\n",
    "labels[4] = '40'\n",
    "labels[5] = 'All'\n",
    "ax.set_xticklabels(labels)\n",
    "#plt.xlabel('Numberof Variables',weight='bold')\n",
    "#plt.xticks([5, 10,20,30,40,48],weight='bold')\n",
    "\n",
    "\n",
    "plt.ylabel('AUC')\n",
    "plt.yticks([0.75,0.80,0.85])\n",
    "#plt.ylabel('AUC',weight='bold')\n",
    "#plt.yticks([0.85, 0.90,0.95,1],weight='bold')\n",
    "\n",
    "#plt.title('Models Performance by Number of Variables')\n",
    "\n",
    "\n",
    "\n",
    "\n",
    "\n",
    "plt.legend(loc='best')\n",
    "\n",
    "#plt.legend(['1-7 July 2019', '8-14 July 2019'], loc=3)\n",
    "plt.savefig('Q1Fig2',dpi=300,bbox_inches='tight')\n",
    "plt.savefig('Q1Fig2.tiff',dpi=300,bbox_inches='tight')\n",
    "plt.savefig('Q1Fig2.tif',dpi=300,bbox_inches='tight')\n",
    "\n",
    "plt.show()"
   ]
  },
  {
   "cell_type": "code",
   "execution_count": null,
   "id": "fb3f8f6c",
   "metadata": {},
   "outputs": [],
   "source": []
  },
  {
   "cell_type": "code",
   "execution_count": null,
   "id": "64cfc4a9",
   "metadata": {},
   "outputs": [],
   "source": []
  },
  {
   "cell_type": "markdown",
   "id": "1b03ebf1",
   "metadata": {},
   "source": [
    "## Figure Ranking"
   ]
  },
  {
   "cell_type": "code",
   "execution_count": null,
   "id": "6d7c26b9",
   "metadata": {},
   "outputs": [],
   "source": [
    "LightGBM ={\"Feature\": [\"Fluid and\\nElectrolyte\",\"Age\",\"Liver\\nDisease\",\"Hypertension\",\"Peripheral \\nVascular\",\"Dyslipidemia\",\"Cardiac\\nArrhythmias\",\"Smoker\",\"Coagulopathy\",\"Prior PPM\",\"Chronic\\nKidney Disease\",\"Pulmonary\\nCirculation\",\"Prior PCI\",\"Carotid Artery\\nDisease\"], \"Rank\":[2,1,4,7,3,9,5,6,11,13,8,15,12,14]}\n",
    "GBC={\"Feature\": [\"Fluid and\\nElectrolyte\",\"Age\",\"Liver\\nDisease\",\"Hypertension\",\"Peripheral \\nVascular\",\"Dyslipidemia\",\"Cardiac\\nArrhythmias\",\"Smoker\",\"Coagulopathy\",\"Prior PPM\",\"Chronic\\nKidney Disease\",\"Pulmonary\\nCirculation\",\"Prior PCI\",], \"Rank\":[1,5,3,4,7,2,9,6,8,13,10,9,14]} \n",
    "CatBoost={\"Feature\": [\"Fluid and\\nElectrolyte\",\"Age\",\"Liver\\nDisease\",\"Hypertension\",\"Peripheral \\nVascular\",\"Dyslipidemia\",\"Coagulopathy\",\"Prior PPM\",\"Chronic\\nKidney Disease\",\"Anemia\",\"Cancer\",\"Prior PCI\",\"Carotid Artery\\nDisease\"], \"Rank\":[2,1,5,8,3,6,10,13,12,14,11,4,7]}\n",
    "LR={\"Feature\": [\"Fluid and\\nElectrolyte\",\"Age\",\"Liver\\nDisease\",\"Hypertension\",\"Peripheral \\nVascular\",\"Dyslipidemia\",\"Cardiac\\nArrhythmias\",\"Smoker\",\"Coagulopathy\",\"Prior PPM\",\"Chronic\\nKidney Disease\",\"Anemia\",\"Cancer\",\"Pulmonary\\nCirculation\",\"Carotid Artery\\nDisease\"], \"Rank\":[2,1,3,5,8,9,7,12,10,6,15,11,13,14,16,]}\n",
    "LDA={\"Feature\": [\"Fluid and\\nElectrolyte\",\"Age\",\"Liver\\nDisease\",\"Hypertension\",\"Peripheral \\nVascular\",\"Dyslipidemia\",\"Cardiac\\nArrhythmias\",\"Smoker\",\"Coagulopathy\",\"Prior PPM\",\"Chronic\\nKidney Disease\",\"Anemia\",\"Cancer\",\"Pulmonary\\nCirculation\",\"Carotid Artery\\nDisease\"], \"Rank\":[2,1,3,4,9,8,7,11,10,6,15,12,14,13,16,]}\n",
    "\n",
    "LightGBM1 ={\"Feature\": [\"Fluid and Electrolyte\"], \"Rank\":[2]}\n",
    "GBC1={\"Feature\": [\"Fluid and Electrolyte\"], \"Rank\":[1]} \n",
    "CatBoost1={\"Feature\": [\"Fluid and Electrolyte\"], \"Rank\":[2]}\n",
    "LR1={\"Feature\": [\"Fluid and Electrolyte\"], \"Rank\":[2]}\n",
    "LDA1={\"Feature\": [\"Fluid and Electrolyte\"], \"Rank\":[2]}\n",
    "\n",
    "LR={\"Feature\": [\"Age\",\"Fluid and\\nElectrolyte\",\"Liver\\nDisease\",\"Hypertension\",\"Dyslipidemia\",\"Peripheral \\nVascular\",\"Cardiac\\nArrhythmias\",\"Coagulopathy\",\"Prior PPM\",\"Smoker\",\"Chronic\\nKidney Disease\",\"Anemia\",\"Pulmonary\\nCirculation\",\"Carotid Artery\\nDisease\",\"Cancer\"], \"Rank\":[1,2,3,4,7,8,6,9,5,10,14,11,13,15,12]}\n",
    "LightGBM={\"Feature\": [\"Age\",\"Fluid and\\nElectrolyte\",\"Liver\\nDisease\",\"Hypertension\",\"Dyslipidemia\",\"Peripheral \\nVascular\",\"Cardiac\\nArrhythmias\",\"Coagulopathy\",\"Prior PPM\",\"Smoker\",\"Chronic\\nKidney Disease\",\"Anemia\",\"Pulmonary\\nCirculation\",\"Carotid Artery\\nDisease\",\"Cancer\"], \"Rank\":[1,2,5,6,7,3,4,10,11,8,9,12,13,14,15]}\n",
    "GBC={\"Feature\": [\"Age\",\"Fluid and\\nElectrolyte\",\"Liver\\nDisease\",\"Hypertension\",\"Dyslipidemia\",\"Peripheral \\nVascular\",\"Cardiac\\nArrhythmias\",\"Coagulopathy\",\"Prior PPM\",\"Smoker\",\"Chronic\\nKidney Disease\",\"Anemia\",\"Pulmonary\\nCirculation\",\"Carotid Artery\\nDisease\",\"Cancer\"], \"Rank\":[5,1,2,4,3,8,7,6,12,10,9,14,11,15,13]}\n",
    "LDA={\"Feature\": [\"Age\",\"Fluid and\\nElectrolyte\",\"Liver\\nDisease\",\"Hypertension\",\"Dyslipidemia\",\"Peripheral \\nVascular\",\"Cardiac\\nArrhythmias\",\"Coagulopathy\",\"Prior PPM\",\"Smoker\",\"Chronic\\nKidney Disease\",\"Anemia\",\"Pulmonary\\nCirculation\",\"Carotid Artery\\nDisease\",\"Cancer\"], \"Rank\":[1,2,3,4,7,8,6,9,5,10,14,11,12,15,13]}\n",
    "CatBoost={\"Feature\": [\"Age\",\"Fluid and\\nElectrolyte\",\"Liver\\nDisease\",\"Hypertension\",\"Dyslipidemia\",\"Peripheral \\nVascular\",\"Cardiac\\nArrhythmias\",\"Coagulopathy\",\"Prior PPM\",\"Smoker\",\"Chronic\\nKidney Disease\",\"Anemia\",\"Pulmonary\\nCirculation\",\"Carotid Artery\\nDisease\",\"Cancer\"], \"Rank\":[1,2,4,10,5,3,7,9,11,8,12,14,15,6,13]}\n",
    "\n",
    "\n",
    "LR1={\"Feature\": [\"Age\"], \"Rank\":[1]}\n",
    "LightGBM1 ={\"Feature\": [\"Age\"], \"Rank\":[1]}\n",
    "GBC1={\"Feature\": [\"Age\"], \"Rank\":[5]} \n",
    "LDA1={\"Feature\": [\"Age\"], \"Rank\":[1]}\n",
    "CatBoost1={\"Feature\": [\"Age\"], \"Rank\":[1]}\n",
    "\n",
    "sns.set(rc = {'figure.figsize':(18,9)})\n",
    "sns.set_style(\"white\")\n",
    "\n",
    "sns.stripplot(x=\"Feature\", y=\"Rank\",data=LightGBM1,palette=['#bd0026'], marker=\"x\",linewidth=1,size = 10,edgecolor='none',label='LightGBM')\n",
    "sns.stripplot(x=\"Feature\", y=\"Rank\", data=GBC1, dodge=False,palette=['#fecc5c'], marker=\"o\",linewidth=1,size = 10,edgecolor='none',label='GBC')\n",
    "sns.stripplot(x=\"Feature\", y=\"Rank\", data=CatBoost1, dodge=False,palette=['#253494'], marker=\"^\",linewidth=1,size = 10,edgecolor='none',label='CatBoost')\n",
    "sns.stripplot(x=\"Feature\", y=\"Rank\", data=LR1, dodge=False,palette=['#810f7c'], marker=\"+\",linewidth=1,size = 10,edgecolor='none',label='LR')\n",
    "sns.stripplot(x=\"Feature\", y=\"Rank\", data=LDA1, dodge=False,palette=['#006d2c'], marker=\"*\",linewidth=1,size = 10,edgecolor='none',label='LDA')\n",
    "\n",
    "sns.stripplot(x=\"Feature\", y=\"Rank\",data=LightGBM, dodge=False,palette=['#bd0026'], marker=\"x\",linewidth=1,size = 10,edgecolor='none')\n",
    "sns.stripplot(x=\"Feature\", y=\"Rank\", data=GBC, dodge=False,palette=['#fecc5c'], marker=\"o\",linewidth=1,size = 10,edgecolor='none')\n",
    "sns.stripplot(x=\"Feature\", y=\"Rank\", data=CatBoost, dodge=False,palette=['#253494'], marker=\"^\",linewidth=1,size = 10,edgecolor='none')\n",
    "sns.stripplot(x=\"Feature\", y=\"Rank\", data=LR, dodge=False,palette=['#810f7c'], marker=\"+\",linewidth=1,size = 10,edgecolor='none')\n",
    "sns.stripplot(x=\"Feature\", y=\"Rank\", data=LDA, dodge=False,palette=['#006d2c'], marker=\"*\",linewidth=1,size = 10,edgecolor='none')\n",
    "#plt.xlabel([\"Cardiac\\nArrest\",\"Cardiogenic\\nShock\",\"Age\",\"Conversiont\\nTo SAVR\",\"Sepsis\",\"Anystroke\",\"Vascular\\nComplications\",\"AKI\",\"Fluid And\\nElectrolyte\",\"Major\\nBleeding\",\"Peripheral\\nVascular\",\"Dyslipidemia\",\"Prior\\nStroke\",\"Respiratory\\nComplications\"],weight='bold')\n",
    "plt.yticks([1,2,3,4,5,6,7,8,9,10,11,12,13,14,15,16],weight='bold')                \n",
    "plt.xlabel('Feature')\n",
    "plt.ylabel('Rank')\n",
    "#ax.legend(fontsize=100,loc=2)\n",
    "plt.legend(loc=2)\n",
    "plt.savefig('figure33q1',dpi=300,bbox_inches='tight')\n",
    "plt.savefig('figure33q1.tiff',dpi=300,bbox_inches='tight')\n",
    "plt.show()"
   ]
  },
  {
   "cell_type": "code",
   "execution_count": null,
   "id": "5b00b4ae",
   "metadata": {},
   "outputs": [],
   "source": [
    "\n",
    "LightGBM ={\"Feature\": [\"Fluid and\\nElectrolyte\",\"Age\",\"Liver\\nDisease\",\"Hypertension\",\"Peripheral \\nVascular\",\"Dyslipidemia\",\"Cardiac\\nArrhythmias\",\"Smoker\",\"Coagulopathy\",\"Prior PPM\",\"Chronic\\nKidney Disease\",\"Pulmonary\\nCirculation\",\"Prior PCI\",\"Carotid Artery\\nDisease\"], \"Rank\":[2,1,4,7,3,9,5,6,11,13,8,15,12,14]}\n",
    "GBC={\"Feature\": [\"Fluid and\\nElectrolyte\",\"Age\",\"Liver\\nDisease\",\"Hypertension\",\"Peripheral \\nVascular\",\"Dyslipidemia\",\"Cardiac\\nArrhythmias\",\"Smoker\",\"Coagulopathy\",\"Prior PPM\",\"Chronic\\nKidney Disease\",\"Pulmonary\\nCirculation\",\"Prior PCI\",], \"Rank\":[1,5,3,4,7,2,9,6,8,13,10,9,14]} \n",
    "CatBoost={\"Feature\": [\"Fluid and\\nElectrolyte\",\"Age\",\"Liver\\nDisease\",\"Hypertension\",\"Peripheral \\nVascular\",\"Dyslipidemia\",\"Coagulopathy\",\"Prior PPM\",\"Chronic\\nKidney Disease\",\"Anemia\",\"Cancer\",\"Prior PCI\",\"Carotid Artery\\nDisease\"], \"Rank\":[2,1,5,8,3,6,10,13,12,14,11,4,7]}\n",
    "LR={\"Feature\": [\"Fluid and\\nElectrolyte\",\"Age\",\"Liver\\nDisease\",\"Hypertension\",\"Peripheral \\nVascular\",\"Dyslipidemia\",\"Cardiac\\nArrhythmias\",\"Smoker\",\"Coagulopathy\",\"Prior PPM\",\"Chronic\\nKidney Disease\",\"Anemia\",\"Cancer\",\"Pulmonary\\nCirculation\",\"Carotid Artery\\nDisease\"], \"Rank\":[2,1,3,5,8,9,7,12,10,6,15,11,13,14,16,]}\n",
    "LDA={\"Feature\": [\"Fluid and\\nElectrolyte\",\"Age\",\"Liver\\nDisease\",\"Hypertension\",\"Peripheral \\nVascular\",\"Dyslipidemia\",\"Cardiac\\nArrhythmias\",\"Smoker\",\"Coagulopathy\",\"Prior PPM\",\"Chronic\\nKidney Disease\",\"Anemia\",\"Cancer\",\"Pulmonary\\nCirculation\",\"Carotid Artery\\nDisease\"], \"Rank\":[2,1,3,4,9,8,7,11,10,6,15,12,14,13,16,]}\n",
    "\n",
    "LightGBM1 ={\"Feature\": [\"Fluid and Electrolyte\"], \"Rank\":[2]}\n",
    "GBC1={\"Feature\": [\"Fluid and Electrolyte\"], \"Rank\":[1]} \n",
    "CatBoost1={\"Feature\": [\"Fluid and Electrolyte\"], \"Rank\":[2]}\n",
    "LR1={\"Feature\": [\"Fluid and Electrolyte\"], \"Rank\":[2]}\n",
    "LDA1={\"Feature\": [\"Fluid and Electrolyte\"], \"Rank\":[2]}\n",
    "\n",
    "\n",
    "LR={\"Feature\": [\"Age\",\"Fluid and\\nElectrolyte\",\"Liver\\nDisease\",\"Hypertension\",\"Dyslipidemia\",\"Peripheral \\nVascular\",\"Cardiac\\nArrhythmias\",\"Coagulopathy\",\"Prior PPM\",\"Smoker\",\"Chronic\\nKidney Disease\",\"Anemia\",\"Pulmonary\\nCirculation\",\"Carotid Artery\\nDisease\",\"Cancer\"], \"Rank\":[1,2,3,4,7,8,6,9,5,10,14,11,13,15,12]}\n",
    "LightGBM={\"Feature\": [\"Age\",\"Fluid and\\nElectrolyte\",\"Liver\\nDisease\",\"Hypertension\",\"Dyslipidemia\",\"Peripheral \\nVascular\",\"Cardiac\\nArrhythmias\",\"Coagulopathy\",\"Prior PPM\",\"Smoker\",\"Chronic\\nKidney Disease\",\"Anemia\",\"Pulmonary\\nCirculation\",\"Carotid Artery\\nDisease\",\"Cancer\"], \"Rank\":[1,2,5,6,7,3,4,10,11,8,9,12,13,14,15]}\n",
    "GBC={\"Feature\": [\"Age\",\"Fluid and\\nElectrolyte\",\"Liver\\nDisease\",\"Hypertension\",\"Dyslipidemia\",\"Peripheral \\nVascular\",\"Cardiac\\nArrhythmias\",\"Coagulopathy\",\"Prior PPM\",\"Smoker\",\"Chronic\\nKidney Disease\",\"Anemia\",\"Pulmonary\\nCirculation\",\"Carotid Artery\\nDisease\",\"Cancer\"], \"Rank\":[5,1,2,4,3,8,7,6,12,10,9,14,11,15,13]}\n",
    "LDA={\"Feature\": [\"Age\",\"Fluid and\\nElectrolyte\",\"Liver\\nDisease\",\"Hypertension\",\"Dyslipidemia\",\"Peripheral \\nVascular\",\"Cardiac\\nArrhythmias\",\"Coagulopathy\",\"Prior PPM\",\"Smoker\",\"Chronic\\nKidney Disease\",\"Anemia\",\"Pulmonary\\nCirculation\",\"Carotid Artery\\nDisease\",\"Cancer\"], \"Rank\":[1,2,3,4,7,8,6,9,5,10,14,11,12,15,13]}\n",
    "CatBoost={\"Feature\": [\"Age\",\"Fluid and\\nElectrolyte\",\"Liver\\nDisease\",\"Hypertension\",\"Dyslipidemia\",\"Peripheral \\nVascular\",\"Cardiac\\nArrhythmias\",\"Coagulopathy\",\"Prior PPM\",\"Smoker\",\"Chronic\\nKidney Disease\",\"Anemia\",\"Pulmonary\\nCirculation\",\"Carotid Artery\\nDisease\",\"Cancer\"], \"Rank\":[1,2,4,10,5,3,7,9,11,8,12,14,15,6,13]}\n",
    "\n",
    "\n",
    "LR1={\"Feature\": [\"Age\"], \"Rank\":[1]}\n",
    "LightGBM1 ={\"Feature\": [\"Age\"], \"Rank\":[1]}\n",
    "GBC1={\"Feature\": [\"Age\"], \"Rank\":[5]} \n",
    "LDA1={\"Feature\": [\"Age\"], \"Rank\":[1]}\n",
    "CatBoost1={\"Feature\": [\"Age\"], \"Rank\":[1]}\n",
    "\n",
    "sns.set(rc = {'figure.figsize':(18,9)})\n",
    "sns.set_style(\"whitegrid\")\n",
    "#sns.stripplot(x=\"Feature\", y=\"Rank\",data=LightGBM,palette=['#bd0026'], marker=\"x\",linewidth=1,size = 10,edgecolor='none')\n",
    "#sns.stripplot(x=\"Feature\", y=\"Rank\", data=GBC, dodge=False,palette=['#fecc5c'], marker=\"o\",linewidth=1,size = 10,edgecolor='none')\n",
    "#sns.stripplot(x=\"Feature\", y=\"Rank\", data=CatBoost, dodge=False,palette=['#253494'], marker=\"^\",linewidth=1,size = 10,edgecolor='none')\n",
    "#sns.stripplot(x=\"Feature\", y=\"Rank\", data=LR, dodge=False,palette=['#810f7c'], marker=\"+\",linewidth=1,size = 10,edgecolor='none')\n",
    "#sns.stripplot(x=\"Feature\", y=\"Rank\", data=LDA, dodge=False,palette=['#006d2c'], marker=\"*\",linewidth=1,size = 10,edgecolor='none')\n",
    "\n",
    "\n",
    "\n",
    "#sns.stripplot(x=\"Feature\", y=\"Rank\",data=LightGBM1,palette=['#bd0026'], marker=\"x\",linewidth=1,size = 10,edgecolor='none',label='LightGBM')\n",
    "#sns.stripplot(x=\"Feature\", y=\"Rank\", data=GBC1, dodge=False,palette=['#fecc5c'], marker=\"o\",linewidth=1,size = 10,edgecolor='none',label='GBC')\n",
    "#sns.stripplot(x=\"Feature\", y=\"Rank\", data=CatBoost1, dodge=False,palette=['#253494'], marker=\"^\",linewidth=1,size = 10,edgecolor='none',label='CatBoost')\n",
    "#sns.stripplot(x=\"Feature\", y=\"Rank\", data=LR1, dodge=False,palette=['#810f7c'], marker=\"+\",linewidth=1,size = 10,edgecolor='none',label='LR')\n",
    "#sns.stripplot(x=\"Feature\", y=\"Rank\", data=LDA1, dodge=False,palette=['#006d2c'], marker=\"*\",linewidth=1,size = 10,edgecolor='none',label='LDA')\n",
    "\n",
    "ax=sns.stripplot(x=\"Feature\", y=\"Rank\",data=LightGBM, dodge=False,palette=['#bd0026'], marker=\"x\",linewidth=1,size = 10,edgecolor='none')\n",
    "ax=sns.stripplot(x=\"Feature\", y=\"Rank\", data=GBC, dodge=False,palette=['#fecc5c'], marker=\"o\",linewidth=1,size = 10,edgecolor='none')\n",
    "ax=sns.stripplot(x=\"Feature\", y=\"Rank\", data=CatBoost, dodge=False,palette=['#253494'], marker=\"^\",linewidth=1,size = 10,edgecolor='none')\n",
    "ax=sns.stripplot(x=\"Feature\", y=\"Rank\", data=LR, dodge=False,palette=['#810f7c'], marker=\"+\",linewidth=1,size = 10,edgecolor='none')\n",
    "ax=sns.stripplot(x=\"Feature\", y=\"Rank\", data=LDA, dodge=False,palette=['#006d2c'], marker=\"*\",linewidth=1,size = 10,edgecolor='none')\n",
    "#plt.xlabel([\"Cardiac\\nArrest\",\"Cardiogenic\\nShock\",\"Age\",\"Conversiont\\nTo SAVR\",\"Sepsis\",\"Anystroke\",\"Vascular\\nComplications\",\"AKI\",\"Fluid And\\nElectrolyte\",\"Major\\nBleeding\",\"Peripheral\\nVascular\",\"Dyslipidemia\",\"Prior\\nStroke\",\"Respiratory\\nComplications\"],weight='bold')\n",
    "plt.yticks([1,2,3,4,5,6,7,8,9,10,11,12,13,14,15,16],weight='bold')                \n",
    "plt.xlabel('Feature')\n",
    "plt.ylabel('Rank')\n",
    "#ax.legend(fontsize=100,loc=2)\n",
    "\n",
    "\n",
    "plt.legend(loc=2)\n",
    "plt.savefig('figure3q1',dpi=300,bbox_inches='tight')\n",
    "plt.savefig('figure3q1.tiff',dpi=300,bbox_inches='tight')\n",
    "plt.show()"
   ]
  },
  {
   "cell_type": "code",
   "execution_count": 41,
   "id": "d5c3ca1f",
   "metadata": {},
   "outputs": [
    {
     "data": {
      "image/png": "[encoded data removed]",
      "text/plain": [
       "<Figure size 1296x648 with 1 Axes>"
      ]
     },
     "metadata": {},
     "output_type": "display_data"
    }
   ],
   "source": [
    "LR={\"Feature\": [\"Age\",\"Fluid and\\nElectrolyte\",\"Liver\\nDisease\",\"Hypertension\",\"Dyslipidemia\",\"Peripheral \\nVascular\",\"Cardiac\\nArrhythmias\",\"Coagulopathy\",\"Prior PPM\",\"Smoker\",\"Chronic\\nKidney Disease\",\"Anemia\",\"Pulmonary\\nCirculation\",\"Carotid Artery\\nDisease\",\"Cancer\"], \"Rank\":[1,2,3,4,7,8,6,9,5,10,14,11,13,15,12]}\n",
    "LightGBM={\"Feature\": [\"Age\",\"Fluid and\\nElectrolyte\",\"Liver\\nDisease\",\"Hypertension\",\"Dyslipidemia\",\"Peripheral \\nVascular\",\"Cardiac\\nArrhythmias\",\"Coagulopathy\",\"Prior PPM\",\"Smoker\",\"Chronic\\nKidney Disease\",\"Anemia\",\"Pulmonary\\nCirculation\",\"Carotid Artery\\nDisease\",\"Cancer\"], \"Rank\":[1,2,5,6,7,3,4,10,11,8,9,12,13,14,15]}\n",
    "GBC={\"Feature\": [\"Age\",\"Fluid and\\nElectrolyte\",\"Liver\\nDisease\",\"Hypertension\",\"Dyslipidemia\",\"Peripheral \\nVascular\",\"Cardiac\\nArrhythmias\",\"Coagulopathy\",\"Prior PPM\",\"Smoker\",\"Chronic\\nKidney Disease\",\"Anemia\",\"Pulmonary\\nCirculation\",\"Carotid Artery\\nDisease\",\"Cancer\"], \"Rank\":[5,1,2,4,3,8,7,6,12,10,9,14,11,15,13]}\n",
    "LDA={\"Feature\": [\"Age\",\"Fluid and\\nElectrolyte\",\"Liver\\nDisease\",\"Hypertension\",\"Dyslipidemia\",\"Peripheral \\nVascular\",\"Cardiac\\nArrhythmias\",\"Coagulopathy\",\"Prior PPM\",\"Smoker\",\"Chronic\\nKidney Disease\",\"Anemia\",\"Pulmonary\\nCirculation\",\"Carotid Artery\\nDisease\",\"Cancer\"], \"Rank\":[1,2,3,4,7,8,6,9,5,10,14,11,12,15,13]}\n",
    "CatBoost={\"Feature\": [\"Age\",\"Fluid and\\nElectrolyte\",\"Liver\\nDisease\",\"Hypertension\",\"Dyslipidemia\",\"Peripheral \\nVascular\",\"Cardiac\\nArrhythmias\",\"Coagulopathy\",\"Prior PPM\",\"Smoker\",\"Chronic\\nKidney Disease\",\"Anemia\",\"Pulmonary\\nCirculation\",\"Carotid Artery\\nDisease\",\"Cancer\"], \"Rank\":[1,2,4,10,5,3,7,9,11,8,12,14,15,6,13]}\n",
    "\n",
    "\n",
    "LR1={\"Feature\": [\"Age\"], \"Rank\":[1]}\n",
    "LightGBM1 ={\"Feature\": [\"Age\"], \"Rank\":[1]}\n",
    "GBC1={\"Feature\": [\"Age\"], \"Rank\":[5]} \n",
    "LDA1={\"Feature\": [\"Age\"], \"Rank\":[1]}\n",
    "CatBoost1={\"Feature\": [\"Age\"], \"Rank\":[1]}\n",
    "\n",
    "\n",
    "sns.set(rc = {'figure.figsize':(18,9)})\n",
    "sns.set_style(\"white\")\n",
    "\n",
    "sns.stripplot(x=\"Feature\", y=\"Rank\", data=LR1, dodge=False,palette=['#810f7c'], marker=\"+\",linewidth=1,size = 10,edgecolor='none',label='LR')\n",
    "sns.stripplot(x=\"Feature\", y=\"Rank\",data=LightGBM1,palette=['#bd0026'], marker=\"x\",linewidth=1,size = 10,edgecolor='none',label='LightGBM')\n",
    "sns.stripplot(x=\"Feature\", y=\"Rank\", data=GBC1, dodge=False,palette=['#fecc5c'], marker=\"o\",linewidth=1,size = 10,edgecolor='none',label='GBC')\n",
    "sns.stripplot(x=\"Feature\", y=\"Rank\", data=LDA1, dodge=False,palette=['#006d2c'], marker=\"*\",linewidth=1,size = 10,edgecolor='none',label='LDA')\n",
    "sns.stripplot(x=\"Feature\", y=\"Rank\", data=CatBoost1, dodge=False,palette=['#253494'], marker=\"^\",linewidth=1,size = 10,edgecolor='none',label='CatBoost')\n",
    "\n",
    "sns.stripplot(x=\"Feature\", y=\"Rank\", data=LR, dodge=False,palette=['#810f7c'], marker=\"+\",linewidth=1,size = 10,edgecolor='none')\n",
    "sns.stripplot(x=\"Feature\", y=\"Rank\",data=LightGBM, dodge=False,palette=['#bd0026'], marker=\"x\",linewidth=1,size = 10,edgecolor='none')\n",
    "sns.stripplot(x=\"Feature\", y=\"Rank\", data=GBC, dodge=False,palette=['#fecc5c'], marker=\"o\",linewidth=1,size = 10,edgecolor='none')\n",
    "sns.stripplot(x=\"Feature\", y=\"Rank\", data=LDA, dodge=False,palette=['#006d2c'], marker=\"*\",linewidth=1,size = 10,edgecolor='none')\n",
    "sns.stripplot(x=\"Feature\", y=\"Rank\", data=CatBoost, dodge=False,palette=['#253494'], marker=\"^\",linewidth=1,size = 10,edgecolor='none')\n",
    "\n",
    "\n",
    "#plt.xlabel([\"Cardiac\\nArrest\",\"Cardiogenic\\nShock\",\"Age\",\"Conversiont\\nTo SAVR\",\"Sepsis\",\"Anystroke\",\"Vascular\\nComplications\",\"AKI\",\"Fluid And\\nElectrolyte\",\"Major\\nBleeding\",\"Peripheral\\nVascular\",\"Dyslipidemia\",\"Prior\\nStroke\",\"Respiratory\\nComplications\"],weight='bold')\n",
    "\n",
    "plt.yticks([1,2,3,4,5,6,7,8,9,10,11,12,13,14,15],weight='bold')                \n",
    "plt.xlabel('Feature')\n",
    "plt.ylabel('Rank')\n",
    "#ax.legend(fontsize=100,loc=2)\n",
    "plt.legend(loc=2)\n",
    "plt.savefig('figure33q1',dpi=300,bbox_inches='tight')\n",
    "plt.savefig('figure33q1.tiff',dpi=300,bbox_inches='tight')\n",
    "plt.show()"
   ]
  },
  {
   "cell_type": "code",
   "execution_count": 42,
   "id": "d85dc6df",
   "metadata": {},
   "outputs": [
    {
     "name": "stderr",
     "output_type": "stream",
     "text": [
      "No artists with labels found to put in legend.  Note that artists whose label start with an underscore are ignored when legend() is called with no argument.\n"
     ]
    },
    {
     "data": {
      "image/png": "[encoded data removed]",
      "text/plain": [
       "<Figure size 1296x648 with 1 Axes>"
      ]
     },
     "metadata": {},
     "output_type": "display_data"
    }
   ],
   "source": [
    "\n",
    "LR={\"Feature\": [\"Age\",\"Fluid and\\nElectrolyte\",\"Liver\\nDisease\",\"Hypertension\",\"Dyslipidemia\",\"Peripheral \\nVascular\",\"Cardiac\\nArrhythmias\",\"Coagulopathy\",\"Prior PPM\",\"Smoker\",\"Chronic\\nKidney Disease\",\"Anemia\",\"Pulmonary\\nCirculation\",\"Carotid Artery\\nDisease\",\"Cancer\"], \"Rank\":[1,2,3,4,7,8,6,9,5,10,14,11,13,15,12]}\n",
    "LightGBM={\"Feature\": [\"Age\",\"Fluid and\\nElectrolyte\",\"Liver\\nDisease\",\"Hypertension\",\"Dyslipidemia\",\"Peripheral \\nVascular\",\"Cardiac\\nArrhythmias\",\"Coagulopathy\",\"Prior PPM\",\"Smoker\",\"Chronic\\nKidney Disease\",\"Anemia\",\"Pulmonary\\nCirculation\",\"Carotid Artery\\nDisease\",\"Cancer\"], \"Rank\":[1,2,5,6,7,3,4,10,11,8,9,12,13,14,15]}\n",
    "GBC={\"Feature\": [\"Age\",\"Fluid and\\nElectrolyte\",\"Liver\\nDisease\",\"Hypertension\",\"Dyslipidemia\",\"Peripheral \\nVascular\",\"Cardiac\\nArrhythmias\",\"Coagulopathy\",\"Prior PPM\",\"Smoker\",\"Chronic\\nKidney Disease\",\"Anemia\",\"Pulmonary\\nCirculation\",\"Carotid Artery\\nDisease\",\"Cancer\"], \"Rank\":[5,1,2,4,3,8,7,6,12,10,9,14,11,15,13]}\n",
    "LDA={\"Feature\": [\"Age\",\"Fluid and\\nElectrolyte\",\"Liver\\nDisease\",\"Hypertension\",\"Dyslipidemia\",\"Peripheral \\nVascular\",\"Cardiac\\nArrhythmias\",\"Coagulopathy\",\"Prior PPM\",\"Smoker\",\"Chronic\\nKidney Disease\",\"Anemia\",\"Pulmonary\\nCirculation\",\"Carotid Artery\\nDisease\",\"Cancer\"], \"Rank\":[1,2,3,4,7,8,6,9,5,10,14,11,12,15,13]}\n",
    "CatBoost={\"Feature\": [\"Age\",\"Fluid and\\nElectrolyte\",\"Liver\\nDisease\",\"Hypertension\",\"Dyslipidemia\",\"Peripheral \\nVascular\",\"Cardiac\\nArrhythmias\",\"Coagulopathy\",\"Prior PPM\",\"Smoker\",\"Chronic\\nKidney Disease\",\"Anemia\",\"Pulmonary\\nCirculation\",\"Carotid Artery\\nDisease\",\"Cancer\"], \"Rank\":[1,2,4,10,5,3,7,9,11,8,12,14,15,6,13]}\n",
    "\n",
    "\n",
    "LR1={\"Feature\": [\"Age\"], \"Rank\":[1]}\n",
    "LightGBM1 ={\"Feature\": [\"Age\"], \"Rank\":[1]}\n",
    "GBC1={\"Feature\": [\"Age\"], \"Rank\":[5]} \n",
    "LDA1={\"Feature\": [\"Age\"], \"Rank\":[1]}\n",
    "CatBoost1={\"Feature\": [\"Age\"], \"Rank\":[1]}\n",
    "\n",
    "sns.set(rc = {'figure.figsize':(18,9)})\n",
    "sns.set_style(\"whitegrid\")\n",
    "\n",
    "ax=sns.stripplot(x=\"Feature\", y=\"Rank\", data=LR, dodge=False,palette=['#810f7c'], marker=\"+\",linewidth=1,size = 10,edgecolor='none')\n",
    "ax=sns.stripplot(x=\"Feature\", y=\"Rank\",data=LightGBM, dodge=False,palette=['#bd0026'], marker=\"x\",linewidth=1,size = 10,edgecolor='none')\n",
    "ax=sns.stripplot(x=\"Feature\", y=\"Rank\", data=GBC, dodge=False,palette=['#fecc5c'], marker=\"o\",linewidth=1,size = 10,edgecolor='none')\n",
    "ax=sns.stripplot(x=\"Feature\", y=\"Rank\", data=LDA, dodge=False,palette=['#006d2c'], marker=\"*\",linewidth=1,size = 10,edgecolor='none')\n",
    "ax=sns.stripplot(x=\"Feature\", y=\"Rank\", data=CatBoost, dodge=False,palette=['#253494'], marker=\"^\",linewidth=1,size = 10,edgecolor='none')\n",
    "\n",
    "\n",
    "#plt.xlabel([\"Cardiac\\nArrest\",\"Cardiogenic\\nShock\",\"Age\",\"Conversiont\\nTo SAVR\",\"Sepsis\",\"Anystroke\",\"Vascular\\nComplications\",\"AKI\",\"Fluid And\\nElectrolyte\",\"Major\\nBleeding\",\"Peripheral\\nVascular\",\"Dyslipidemia\",\"Prior\\nStroke\",\"Respiratory\\nComplications\"],weight='bold')\n",
    "plt.yticks([1,2,3,4,5,6,7,8,9,10,11,12,13,14,15],weight='bold')                \n",
    "plt.xlabel('Feature')\n",
    "plt.ylabel('Rank')\n",
    "#ax.legend(fontsize=100,loc=2)\n",
    "\n",
    "\n",
    "plt.legend(loc=2)\n",
    "plt.savefig('figure3q1',dpi=300,bbox_inches='tight')\n",
    "plt.savefig('figure3q1.tiff',dpi=300,bbox_inches='tight')\n",
    "plt.show()"
   ]
  }
 ],
 "metadata": {
  "kernelspec": {
   "display_name": " theyabpycaret",
   "language": "python",
   "name": "theyabpycaret"
  },
  "language_info": {
   "codemirror_mode": {
    "name": "ipython",
    "version": 3
   },
   "file_extension": ".py",
   "mimetype": "text/x-python",
   "name": "python",
   "nbconvert_exporter": "python",
   "pygments_lexer": "ipython3",
   "version": "3.8.12"
  },
  "toc": {
   "base_numbering": 1,
   "nav_menu": {},
   "number_sections": true,
   "sideBar": true,
   "skip_h1_title": false,
   "title_cell": "Table of Contents",
   "title_sidebar": "Contents",
   "toc_cell": false,
   "toc_position": {
    "height": "calc(100% - 180px)",
    "left": "10px",
    "top": "150px",
    "width": "211.719px"
   },
   "toc_section_display": true,
   "toc_window_display": false
  }
 },
 "nbformat": 4,
 "nbformat_minor": 5
}
